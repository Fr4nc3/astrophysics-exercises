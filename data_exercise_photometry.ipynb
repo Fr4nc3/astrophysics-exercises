{
 "cells": [
  {
   "cell_type": "markdown",
   "id": "b1554454-82e2-426a-832a-2d71b58590a3",
   "metadata": {},
   "source": [
    "# Data Exercise Photometry "
   ]
  },
  {
   "cell_type": "code",
   "execution_count": null,
   "id": "fa2397db-fb6a-472b-850e-1f23dd0e98dd",
   "metadata": {},
   "outputs": [],
   "source": []
  }
 ],
 "metadata": {
  "kernelspec": {
   "display_name": "Python 3 (ipykernel)",
   "language": "python",
   "name": "python3"
  },
  "language_info": {
   "codemirror_mode": {
    "name": "ipython",
    "version": 3
   },
   "file_extension": ".py",
   "mimetype": "text/x-python",
   "name": "python",
   "nbconvert_exporter": "python",
   "pygments_lexer": "ipython3",
   "version": "3.12.8"
  }
 },
 "nbformat": 4,
 "nbformat_minor": 5
}
