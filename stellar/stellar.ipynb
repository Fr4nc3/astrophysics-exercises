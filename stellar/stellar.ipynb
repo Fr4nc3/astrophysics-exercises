{
 "cells": [
  {
   "cell_type": "markdown",
   "metadata": {},
   "source": [
    "# Steller Astrophysics"
   ]
  },
  {
   "cell_type": "code",
   "execution_count": 2,
   "metadata": {},
   "outputs": [],
   "source": [
    "import math\n",
    "mu0_Hm = 4 * math.pi * 1e-7  # Magnetic constant in H/m\n",
    "mu0_VsAm = 4 * math.pi * 1e-7  # Magnetic constant in Vs/A*m\n",
    "epsilon0_Fm = 8.85e-12  # Electric constant in F/m\n",
    "epsilon0_AsVm = 8.85e-12  # Electric constant in As/V*m\n",
    "e = 1.60e-19  # Elementary charge in C\n",
    "h = 6.63e-34  # Planck constant in J*s\n",
    "NA = 6.02e23  # Avogadro's number in 1/mol\n",
    "k = 1.38e-23  # Boltzmann constant in J/K\n",
    "R = 8.31  # Gas constant in J/K*mol\n",
    "mu_kg = 1.66e-27  # Atomic mass unit in kg\n",
    "mu_MeVc2 = 931.5  # Atomic mass unit in MeV/c^2\n",
    "me = 9.11e-31  # Electron mass in kg\n",
    "mp = 1.67e-27  # Proton mass in kg\n",
    "G = 6.67e-11  # Gravitational constant in N m^2/kg^2\n",
    "sigma = 5.67e-8  # Stefan-Boltzmann constant in W/m^2*K^4\n",
    "g = 9.8  # Acceleration due to gravity in m/s^2\n",
    "muB = 9.27e-24  # Bohr magneton in J/T\n",
    "IH = 13.6  # Ionization energy of hydrogen in eV\n",
    "Msun = 1.989e30  # Solar mass in kg\n",
    "Rsun = 6.960e8  # Solar radius in m\n",
    "Lsun = 3.862e26  # Solar luminosity in W\n",
    "Teff_sun = 5770  # Effective temperature of the sun in K\n",
    "AU = 1.496e11  # Astronomical unit in m\n",
    "pc = 3.086e16  # Parsec in m\n",
    "pi = math.pi"
   ]
  },
  {
   "cell_type": "markdown",
   "metadata": {},
   "source": [
    "## Equations of stellar structure"
   ]
  },
  {
   "cell_type": "code",
   "execution_count": 3,
   "metadata": {},
   "outputs": [
    {
     "name": "stdout",
     "output_type": "stream",
     "text": [
      "Luminosity: 3.8913397731761934e+26 W\n"
     ]
    }
   ],
   "source": [
    "\n",
    "# Inputs: Radius (in meters) and Temperature (in Kelvin)\n",
    "radius = 7e8  # Example: radius of the Sun in meters\n",
    "temperature = 5778  # Example: temperature of the Sun in Kelvin\n",
    "\n",
    "# Luminosity calculation\n",
    "luminosity = 4 * math.pi * radius**2 * sigma * temperature**4\n",
    "\n",
    "print(f\"Luminosity: {luminosity} W\")\n"
   ]
  },
  {
   "cell_type": "code",
   "execution_count": 5,
   "metadata": {},
   "outputs": [
    {
     "name": "stdout",
     "output_type": "stream",
     "text": [
      "Bolometric Luminosity: 3.523467765264666e+26 W\n"
     ]
    }
   ],
   "source": [
    "# Inputs: Apparent magnitude and distance in parsecs\n",
    "apparent_magnitude = 4.83  # Example: apparent magnitude of the Sun\n",
    "distance = 10  # Example: distance in parsecs\n",
    "L0 = 3.0128e28\n",
    "\n",
    "# Absolute bolometric magnitude calculation\n",
    "M_bol = apparent_magnitude - 5 * math.log10(distance / 10)\n",
    "\n",
    "# Bolometric luminosity calculation\n",
    "bolometric_luminosity = L0 * 10**(-0.4 * M_bol)\n",
    "\n",
    "print(f\"Bolometric Luminosity: {bolometric_luminosity} W\")\n"
   ]
  },
  {
   "cell_type": "code",
   "execution_count": 6,
   "metadata": {},
   "outputs": [
    {
     "name": "stdout",
     "output_type": "stream",
     "text": [
      "Effective Temperature: 5778.872165883306 K\n"
     ]
    }
   ],
   "source": [
    "# Inputs: Luminosity (in Watts) and Radius (in meters)\n",
    "luminosity = 3.846e26  # Example: luminosity of the Sun in Watts\n",
    "radius = 6.957e8      # Example: radius of the Sun in meters\n",
    "\n",
    "# Calculate effective temperature\n",
    "T_eff = (luminosity / (4 * math.pi * radius**2 * sigma)) ** 0.25\n",
    "\n",
    "print(f\"Effective Temperature: {T_eff} K\")\n"
   ]
  },
  {
   "cell_type": "code",
   "execution_count": 7,
   "metadata": {},
   "outputs": [
    {
     "name": "stdout",
     "output_type": "stream",
     "text": [
      "Flux per unit surface area: 63196526.546029195 W/m^2\n"
     ]
    }
   ],
   "source": [
    "# Input: Temperature (in Kelvin)\n",
    "temperature = 5778  # Example: temperature of the Sun in Kelvin\n",
    "\n",
    "# Calculate flux per unit surface area\n",
    "flux = sigma * temperature**4\n",
    "\n",
    "print(f\"Flux per unit surface area: {flux} W/m^2\")\n"
   ]
  },
  {
   "cell_type": "code",
   "execution_count": 8,
   "metadata": {},
   "outputs": [
    {
     "name": "stdout",
     "output_type": "stream",
     "text": [
      "Surface Area of the Star: 6.082104402130212e+18 square meters\n"
     ]
    }
   ],
   "source": [
    "\n",
    "# Input: Radius of the star (in meters)\n",
    "# Example: Radius of the Sun is about 6.957 x 10^8 meters\n",
    "radius = 6.957e8  \n",
    "\n",
    "# Calculate the surface area\n",
    "surface_area = 4 * math.pi * radius**2\n",
    "\n",
    "print(f\"Surface Area of the Star: {surface_area} square meters\")\n"
   ]
  },
  {
   "cell_type": "code",
   "execution_count": 9,
   "metadata": {},
   "outputs": [
    {
     "name": "stdout",
     "output_type": "stream",
     "text": [
      "Total Emission (Luminosity): 3.8436787230494296e+26 W\n"
     ]
    }
   ],
   "source": [
    "# Inputs: Radius (in meters) and Effective Temperature (in Kelvin)\n",
    "# Example: Sun's radius and temperature\n",
    "radius = 6.957e8      # Radius of the Sun in meters\n",
    "T_eff = 5778          # Effective temperature of the Sun in Kelvin\n",
    "\n",
    "# Calculate Luminosity\n",
    "luminosity = 4 * math.pi * radius**2 * sigma * T_eff**4\n",
    "\n",
    "print(f\"Total Emission (Luminosity): {luminosity} W\")\n"
   ]
  },
  {
   "cell_type": "code",
   "execution_count": 10,
   "metadata": {},
   "outputs": [
    {
     "name": "stdout",
     "output_type": "stream",
     "text": [
      "Wavelength of maximum emission: 5.015576323987539e-07 meters\n"
     ]
    }
   ],
   "source": [
    "# Constants\n",
    "b = 2.898e-3  # Wien's displacement constant in m*K\n",
    "\n",
    "# Input: Effective Temperature (in Kelvin)\n",
    "# Example: Effective temperature of the Sun\n",
    "T = 5778  # in Kelvin\n",
    "\n",
    "# Calculate the wavelength of maximum emission\n",
    "lambda_max = b / T\n",
    "\n",
    "print(f\"Wavelength of maximum emission: {lambda_max} meters\")\n"
   ]
  },
  {
   "cell_type": "code",
   "execution_count": 11,
   "metadata": {},
   "outputs": [
    {
     "name": "stdout",
     "output_type": "stream",
     "text": [
      "Luminosity: 2.576144992578974e+28 W\n",
      "Estimated Temperature: 5000 K\n"
     ]
    }
   ],
   "source": [
    "import math\n",
    "\n",
    "# Constants\n",
    "M0 = 4.83  # Reference magnitude (e.g., the magnitude of the Sun in the V band)\n",
    "L0 = 3.0128e28  # Reference luminosity in Watts (luminosity of the Sun)\n",
    "\n",
    "# Example data: Absolute magnitude in V band (MV)\n",
    "MV = 5.0  # Example: Absolute magnitude in V band\n",
    "\n",
    "# Calculate Luminosity from MV\n",
    "luminosity = L0 * 10**(-0.4 * (MV - M0))\n",
    "\n",
    "print(f\"Luminosity: {luminosity} W\")\n",
    "\n",
    "# For temperature estimation, you would typically use a calibrated relation.\n",
    "# Example: Color index (B-V)\n",
    "BV = 0.65  # Example: B-V color index\n",
    "\n",
    "# Convert BV to temperature (using a hypothetical relation or lookup table)\n",
    "# This is a placeholder as the relation can be quite complex.\n",
    "temperature = 5000  # This is a hypothetical value\n",
    "\n",
    "print(f\"Estimated Temperature: {temperature} K\")\n"
   ]
  },
  {
   "cell_type": "code",
   "execution_count": 12,
   "metadata": {},
   "outputs": [
    {
     "name": "stdout",
     "output_type": "stream",
     "text": [
      "Dynamical (Free-Fall) Timescale: 210134643519109.0 seconds\n"
     ]
    }
   ],
   "source": [
    "\n",
    "# Input: Average Density (in kg/m^3)\n",
    "# Example: A typical molecular cloud density\n",
    "density = 1e-19  # This is a hypothetical value\n",
    "\n",
    "# Calculate the free-fall timescale\n",
    "t_ff = math.sqrt((3 * math.pi) / (32 * G * density))\n",
    "\n",
    "print(f\"Dynamical (Free-Fall) Timescale: {t_ff} seconds\")\n"
   ]
  },
  {
   "cell_type": "code",
   "execution_count": 13,
   "metadata": {},
   "outputs": [
    {
     "name": "stdout",
     "output_type": "stream",
     "text": [
      "Nuclear Timescale: 3.27613104524181e+17 seconds\n"
     ]
    }
   ],
   "source": [
    "# Constants\n",
    "c = 3e8  # Speed of light in m/s\n",
    "f = 0.007  # Fraction of mass converted into energy in hydrogen fusion\n",
    "\n",
    "# Inputs: Core mass (in kg) and Luminosity (in Watts)\n",
    "# Example: Sun's core mass and luminosity\n",
    "core_mass = 2e30 * 0.1  # Approx. 10% of the Sun's mass is in its core\n",
    "luminosity = 3.846e26  # Luminosity of the Sun in Watts\n",
    "\n",
    "# Calculate total nuclear energy\n",
    "E_nuc = f * core_mass * c**2\n",
    "\n",
    "# Calculate nuclear timescale\n",
    "t_nuc = E_nuc / luminosity\n",
    "\n",
    "print(f\"Nuclear Timescale: {t_nuc} seconds\")\n"
   ]
  },
  {
   "cell_type": "code",
   "execution_count": 14,
   "metadata": {},
   "outputs": [
    {
     "name": "stdout",
     "output_type": "stream",
     "text": [
      "Force due to gas pressure at radius r: 1e+17 N\n",
      "Force due to gas pressure at radius r + delta r: 1e+17 N\n",
      "Pressure Gradient (Delta P): 0.0 N\n"
     ]
    }
   ],
   "source": [
    "# Function to represent the pressure at a given radius\n",
    "def pressure_at_radius(r):\n",
    "    # This function should compute the pressure based on the star's properties\n",
    "    # and the radius 'r'. For simplicity, let's return a hypothetical value.\n",
    "    # In a real scenario, this would involve complex calculations.\n",
    "    return 1e7  # Example value in Pascals\n",
    "\n",
    "# Given values\n",
    "delta_r = 1e3  # Small change in radius in meters\n",
    "r = 1e6  # Example radius in meters\n",
    "delta_A = 1e10  # Surface area of the element in square meters\n",
    "\n",
    "# Calculating forces due to gas pressure\n",
    "F_gas_r = pressure_at_radius(r) * delta_A\n",
    "F_gas_r_plus_delta_r = pressure_at_radius(r + delta_r) * delta_A\n",
    "\n",
    "# Computing the pressure gradient\n",
    "delta_P = F_gas_r_plus_delta_r - F_gas_r\n",
    "\n",
    "print(f\"Force due to gas pressure at radius r: {F_gas_r} N\")\n",
    "print(f\"Force due to gas pressure at radius r + delta r: {F_gas_r_plus_delta_r} N\")\n",
    "print(f\"Pressure Gradient (Delta P): {delta_P} N\")\n",
    "\n"
   ]
  },
  {
   "cell_type": "code",
   "execution_count": null,
   "metadata": {},
   "outputs": [],
   "source": [
    "def hydrostatic_equilibrium(M_r, rho_r, r):\n",
    "    \"\"\"\n",
    "    Calculate the hydrostatic equilibrium pressure gradient.\n",
    "\n",
    "    :param M_r: Mass enclosed within radius r (in kilograms)\n",
    "    :param rho_r: Density at radius r (in kg/m^3)\n",
    "    :param r: Radius (in meters)\n",
    "    :return: dP/dr, the pressure gradient (in Pascals per meter)\n",
    "    \"\"\"\n",
    "    G = 6.67430e-11  # Gravitational constant in m^3/kg/s^2\n",
    "    return -G * M_r * rho_r / r**2\n",
    "\n",
    "# Example usage\n",
    "M_r = 1e30  # Mass within a given radius in kilograms\n",
    "rho_r = 1e5  # Density at that radius in kg/m^3\n",
    "r = 7e8  # Radius in meters (e.g., approximately the radius of the Sun)\n",
    "\n",
    "# Compute the pressure gradient\n",
    "dP_dr = hydrostatic_equilibrium(M_r, rho_r, r)\n",
    "\n",
    "print(f\"Hydrostatic Equilibrium Pressure Gradient: {dP_dr} Pa/m\")\n"
   ]
  },
  {
   "cell_type": "code",
   "execution_count": 15,
   "metadata": {},
   "outputs": [
    {
     "name": "stdout",
     "output_type": "stream",
     "text": [
      "Hydrostatic Equilibrium Pressure Gradient: -13621020.408163263 Pa/m\n"
     ]
    }
   ],
   "source": [
    "def hydrostatic_equilibrium(M_r, rho_r, r):\n",
    "    \"\"\"\n",
    "    Calculate the hydrostatic equilibrium pressure gradient.\n",
    "\n",
    "    :param M_r: Mass enclosed within radius r (in kilograms)\n",
    "    :param rho_r: Density at radius r (in kg/m^3)\n",
    "    :param r: Radius (in meters)\n",
    "    :return: dP/dr, the pressure gradient (in Pascals per meter)\n",
    "    \"\"\"\n",
    "    G = 6.67430e-11  # Gravitational constant in m^3/kg/s^2\n",
    "    return -G * M_r * rho_r / r**2\n",
    "\n",
    "# Example usage\n",
    "M_r = 1e30  # Mass within a given radius in kilograms\n",
    "rho_r = 1e5  # Density at that radius in kg/m^3\n",
    "r = 7e8  # Radius in meters (e.g., approximately the radius of the Sun)\n",
    "\n",
    "# Compute the pressure gradient\n",
    "dP_dr = hydrostatic_equilibrium(M_r, rho_r, r)\n",
    "\n",
    "print(f\"Hydrostatic Equilibrium Pressure Gradient: {dP_dr} Pa/m\")\n"
   ]
  },
  {
   "cell_type": "code",
   "execution_count": 16,
   "metadata": {},
   "outputs": [
    {
     "name": "stdout",
     "output_type": "stream",
     "text": [
      "Rate of Change of Mass with Radius: 8.620530241450392e+21 kg/m\n"
     ]
    }
   ],
   "source": [
    "def mass_continuity(r, rho_r):\n",
    "    \"\"\"\n",
    "    Calculate the rate of change of mass with respect to radius in a star.\n",
    "\n",
    "    :param r: Radius (in meters)\n",
    "    :param rho_r: Density at radius r (in kg/m^3)\n",
    "    :return: dM/dr, the rate of change of mass with respect to radius (in kg/m)\n",
    "    \"\"\"\n",
    "    return 4 * math.pi * r**2 * rho_r\n",
    "\n",
    "# Example usage\n",
    "r = 7e8  # Radius in meters (e.g., approximately the radius of the Sun)\n",
    "rho_r = 1.4e3  # Density at that radius in kg/m^3 (example value)\n",
    "\n",
    "# Compute the rate of change of mass with respect to radius\n",
    "dM_dr = mass_continuity(r, rho_r)\n",
    "\n",
    "print(f\"Rate of Change of Mass with Radius: {dM_dr} kg/m\")\n"
   ]
  },
  {
   "cell_type": "code",
   "execution_count": 18,
   "metadata": {},
   "outputs": [
    {
     "name": "stdout",
     "output_type": "stream",
     "text": [
      "Total Mass of the Star: 2.011457056338425e+30 kg\n"
     ]
    }
   ],
   "source": [
    "import scipy.integrate as integrate\n",
    "import math\n",
    "\n",
    "# Example: A constant density function (for simplicity)\n",
    "def density(r):\n",
    "    return 1.4e3  # Constant density in kg/m^3\n",
    "\n",
    "# Total radius of the star (e.g., radius of the Sun)\n",
    "R = 7e8  # in meters\n",
    "\n",
    "# Function to integrate\n",
    "def integrand(r):\n",
    "    return 4 * math.pi * r**2 * density(r)\n",
    "\n",
    "# Perform the integration from 0 to R\n",
    "M_total, _ = integrate.quad(integrand, 0, R)\n",
    "\n",
    "print(f\"Total Mass of the Star: {M_total} kg\")\n"
   ]
  },
  {
   "cell_type": "code",
   "execution_count": 19,
   "metadata": {},
   "outputs": [
    {
     "name": "stdout",
     "output_type": "stream",
     "text": [
      "Mean Molecular Mass: 0.6033182503770739 amu\n"
     ]
    }
   ],
   "source": [
    "def mean_molecular_mass(X, Y, Z):\n",
    "    \"\"\"\n",
    "    Calculate the mean molecular mass (mu) for a fully ionized gas.\n",
    "\n",
    "    :param X: Mass fraction of hydrogen\n",
    "    :param Y: Mass fraction of helium\n",
    "    :param Z: Mass fraction of heavier elements\n",
    "    :return: Mean molecular mass (mu)\n",
    "    \"\"\"\n",
    "    return 1 / (2*X + 3*Y/4 + Z/2)\n",
    "\n",
    "# Example: Sun-like composition\n",
    "X = 0.73  # Mass fraction of Hydrogen\n",
    "Y = 0.25  # Mass fraction of Helium\n",
    "Z = 0.02  # Mass fraction of heavier elements\n",
    "\n",
    "mu = mean_molecular_mass(X, Y, Z)\n",
    "\n",
    "print(f\"Mean Molecular Mass: {mu} amu\")\n"
   ]
  },
  {
   "cell_type": "code",
   "execution_count": 21,
   "metadata": {},
   "outputs": [
    {
     "name": "stdout",
     "output_type": "stream",
     "text": [
      "Central Pressure: 134126210218602.69 Pascals\n"
     ]
    }
   ],
   "source": [
    "import math\n",
    "\n",
    "# Constants\n",
    "G = 6.67430e-11  # Gravitational constant in m^3/kg/s^2\n",
    "\n",
    "# Inputs: Average Density (in kg/m^3) and Radius (in meters)\n",
    "# Example: Sun-like star\n",
    "average_density = 1.408e3  # Average density of the Sun in kg/m^3\n",
    "R = 6.957e8  # Radius of the Sun in meters\n",
    "\n",
    "# Calculate central pressure\n",
    "P_c = (2/3) * math.pi * G * average_density**2 * R**2\n",
    "\n",
    "print(f\"Central Pressure: {P_c} Pascals\")\n"
   ]
  },
  {
   "cell_type": "code",
   "execution_count": 22,
   "metadata": {},
   "outputs": [
    {
     "name": "stdout",
     "output_type": "stream",
     "text": [
      "Hydrostatic Equilibrium Pressure Gradient (with respect to mass): -2.2120946203211934e-17 Pa/kg\n"
     ]
    }
   ],
   "source": [
    "def hydrostatic_equilibrium_mass(m, r):\n",
    "    \"\"\"\n",
    "    Calculate the hydrostatic equilibrium pressure gradient in terms of mass.\n",
    "\n",
    "    :param m: Mass enclosed within radius r (in kilograms)\n",
    "    :param r: Radius (in meters)\n",
    "    :return: dP/dM, the pressure gradient with respect to mass (in Pascals per kg)\n",
    "    \"\"\"\n",
    "    G = 6.67430e-11  # Gravitational constant in m^3/kg/s^2\n",
    "    if r <= 0:\n",
    "        raise ValueError(\"Radius must be greater than zero\")\n",
    "    return -G * m / (4 * math.pi * r**4)\n",
    "\n",
    "# Example usage\n",
    "m = 1e30  # Mass within a given radius in kilograms\n",
    "r = 7e8  # Radius in meters (e.g., approximately the radius of the Sun)\n",
    "\n",
    "# Compute the pressure gradient with respect to mass\n",
    "dP_dM = hydrostatic_equilibrium_mass(m, r)\n",
    "\n",
    "print(f\"Hydrostatic Equilibrium Pressure Gradient (with respect to mass): {dP_dM} Pa/kg\")\n"
   ]
  },
  {
   "cell_type": "code",
   "execution_count": 23,
   "metadata": {},
   "outputs": [
    {
     "name": "stdout",
     "output_type": "stream",
     "text": [
      "Central Temperature: 4703102.451671846 Kelvin\n"
     ]
    }
   ],
   "source": [
    "import math\n",
    "\n",
    "# Constants\n",
    "G = 6.67430e-11  # Gravitational constant in m^3/kg/s^2\n",
    "m_H = 1.6735575e-27  # Mass of hydrogen atom in kg\n",
    "k = 1.380649e-23  # Boltzmann constant in J/K\n",
    "\n",
    "# Inputs: Mass (in kg), Mean molecular weight (dimensionless), and Radius (in meters)\n",
    "# Example: Sun-like star\n",
    "M = 1.989e30  # Mass of the Sun in kg\n",
    "mu = 0.61  # Mean molecular weight for a Sun-like composition\n",
    "R = 6.957e8  # Radius of the Sun in meters\n",
    "\n",
    "# Calculate central temperature\n",
    "T_c = (G * M * mu * m_H) / (3 * k * R)\n",
    "\n",
    "print(f\"Central Temperature: {T_c} Kelvin\")\n"
   ]
  },
  {
   "cell_type": "code",
   "execution_count": 24,
   "metadata": {},
   "outputs": [
    {
     "name": "stdout",
     "output_type": "stream",
     "text": [
      "Average Kinetic Energy: 3.251428395e-16 J\n",
      "Ionization Energy of Hydrogen: 2.17872e-18 J\n",
      "Is the assumption of full ionization valid? Yes\n"
     ]
    }
   ],
   "source": [
    "import math\n",
    "\n",
    "# Constants\n",
    "k = 1.380649e-23  # Boltzmann constant in J/K\n",
    "ionization_energy_hydrogen = 13.6  # in eV\n",
    "ionization_energy_hydrogen_joules = ionization_energy_hydrogen * 1.602e-19  # Convert eV to J\n",
    "\n",
    "# Central temperature of the Sun (for example)\n",
    "T_c = 1.57e7  # in Kelvin\n",
    "\n",
    "# Average KE per particle\n",
    "average_ke = (3/2) * k * T_c\n",
    "\n",
    "print(f\"Average Kinetic Energy: {average_ke} J\")\n",
    "print(f\"Ionization Energy of Hydrogen: {ionization_energy_hydrogen_joules} J\")\n",
    "\n",
    "# Comparison\n",
    "is_fully_ionized = average_ke > ionization_energy_hydrogen_joules\n",
    "print(f\"Is the assumption of full ionization valid? {'Yes' if is_fully_ionized else 'No'}\")\n"
   ]
  },
  {
   "cell_type": "code",
   "execution_count": 25,
   "metadata": {},
   "outputs": [
    {
     "name": "stdout",
     "output_type": "stream",
     "text": [
      "Mass converted to energy per second: 4273333333.333333 kg/s\n"
     ]
    }
   ],
   "source": [
    "# Constants\n",
    "c = 3.00e8  # Speed of light in m/s\n",
    "\n",
    "# Input: Luminosity of the star (in Watts)\n",
    "# Example: Luminosity of the Sun\n",
    "L = 3.846e26  # Luminosity of the Sun in Watts\n",
    "\n",
    "# Calculate the mass converted to energy per second\n",
    "m = L / c**2\n",
    "\n",
    "print(f\"Mass converted to energy per second: {m} kg/s\")\n"
   ]
  },
  {
   "cell_type": "code",
   "execution_count": 26,
   "metadata": {},
   "outputs": [
    {
     "name": "stdout",
     "output_type": "stream",
     "text": [
      "Total mass converted to energy over the star's lifetime: 1.3485614399999998e+27 kg\n"
     ]
    }
   ],
   "source": [
    "# Constants\n",
    "c = 3.00e8  # Speed of light in m/s\n",
    "seconds_per_year = 365.25 * 24 * 60 * 60  # Number of seconds in a year\n",
    "\n",
    "# Input: Luminosity of the star (in Watts)\n",
    "# Example: Luminosity of the Sun\n",
    "L = 3.846e26  # Luminosity of the Sun in Watts\n",
    "\n",
    "# Star's lifetime in years (10 billion years for the Sun)\n",
    "lifetime_years = 10e9\n",
    "\n",
    "# Calculate the mass converted to energy per second\n",
    "m_per_second = L / c**2\n",
    "\n",
    "# Calculate the total mass converted over the star's lifetime\n",
    "total_mass_converted = m_per_second * lifetime_years * seconds_per_year\n",
    "\n",
    "print(f\"Total mass converted to energy over the star's lifetime: {total_mass_converted} kg\")\n"
   ]
  },
  {
   "cell_type": "markdown",
   "metadata": {},
   "source": [
    "Stellar structure is described by a set of fundamental equations that govern the balance of forces, energy transport, and mass distribution within a star. These equations are highly interdependent and typically solved simultaneously using numerical methods. Below is a summary of the key equations along with Python representations for their basic forms:\n",
    "\n",
    "### 1. Hydrostatic Equilibrium Equation\n",
    "Ensures the balance between the inward gravitational pull and the outward pressure.\n",
    "\n",
    "\\[ \\frac{dP}{dr} = -\\frac{G M(r) \\rho(r)}{r^2} \\]\n",
    "\n",
    "Python representation:\n",
    "```python\n",
    "def hydrostatic_equilibrium(density, M_r, r):\n",
    "    G = 6.67430e-11  # Gravitational constant\n",
    "    return -G * M_r * density / r**2\n",
    "```\n",
    "\n",
    "### 2. Mass Continuity Equation\n",
    "Describes how the mass within a star changes with radius.\n",
    "\n",
    "\\[ \\frac{dM(r)}{dr} = 4\\pi r^2 \\rho(r) \\]\n",
    "\n",
    "Python representation:\n",
    "```python\n",
    "def mass_continuity(density, r):\n",
    "    return 4 * math.pi * r**2 * density\n",
    "```\n",
    "\n",
    "### 3. Energy Transport Equation\n",
    "Describes how energy is transported within a star, either by radiation or convection.\n",
    "\n",
    "Radiative transport (simplified form):\n",
    "\\[ \\frac{dT}{dr} = -\\frac{3 \\kappa \\rho L}{16 \\pi a c T^3 r^2} \\]\n",
    "\n",
    "Python representation:\n",
    "```python\n",
    "def radiative_temperature_gradient(kappa, density, L, T, r):\n",
    "    a = 7.56464e-16  # Radiation constant\n",
    "    c = 3.00e8       # Speed of light\n",
    "    return -3 * kappa * density * L / (16 * math.pi * a * c * T**3 * r**2)\n",
    "```\n",
    "\n",
    "### 4. Energy Generation Equation\n",
    "Specifies the rate of energy generation per unit mass in the star.\n",
    "\n",
    "\\[ \\varepsilon = \\text{[Energy generation rate]} \\]\n",
    "\n",
    "Python representation:\n",
    "This would be a model-specific function based on nuclear fusion reactions.\n",
    "\n",
    "### 5. Equation of State\n",
    "Relates pressure, density, and temperature.\n",
    "\n",
    "Ideal gas approximation:\n",
    "\\[ P = \\frac{\\rho k T}{\\mu m_u} \\]\n",
    "\n",
    "Python representation:\n",
    "```python\n",
    "def ideal_gas_pressure(density, T, mu):\n",
    "    k = 1.380649e-23  # Boltzmann constant\n",
    "    m_u = 1.66053906660e-27  # Atomic mass unit\n",
    "    return (density * k * T) / (mu * m_u)\n",
    "```\n",
    "\n",
    "### Numerical Solutions\n",
    "These equations form a system of coupled differential equations. In practice, they are solved numerically using methods like the Runge-Kutta method, often in a stellar evolution code that iteratively finds a self-consistent solution for the entire star.\n",
    "\n",
    "Note: The Python functions above provide basic representations of the equations and are greatly simplified. In a real astrophysical context, additional factors like composition, opacity variations, nuclear reaction rates, and other physical conditions must be considered. Solving these equations to model an actual star requires complex numerical techniques and detailed physical data."
   ]
  },
  {
   "cell_type": "markdown",
   "metadata": {},
   "source": [
    "## Stellar interiors"
   ]
  },
  {
   "cell_type": "code",
   "execution_count": 27,
   "metadata": {},
   "outputs": [
    {
     "name": "stdout",
     "output_type": "stream",
     "text": [
      "Pressure: 301305221172728.3 Pascals\n"
     ]
    }
   ],
   "source": [
    "def ideal_gas_law(density, temperature, mu):\n",
    "    k = 1.380649e-23  # Boltzmann constant in J/K\n",
    "    m_u = 1.66053906660e-27  # Atomic mass unit in kg\n",
    "    return (density * k * temperature) / (mu * m_u)\n",
    "\n",
    "# Example usage\n",
    "density = 1.408e3  # Example density in kg/m^3\n",
    "temperature = 1.57e7  # Core temperature of the Sun in K\n",
    "mu = 0.61  # Mean molecular weight for Sun-like composition\n",
    "\n",
    "pressure = ideal_gas_law(density, temperature, mu)\n",
    "print(f\"Pressure: {pressure} Pascals\")\n"
   ]
  },
  {
   "cell_type": "code",
   "execution_count": 28,
   "metadata": {},
   "outputs": [
    {
     "name": "stdout",
     "output_type": "stream",
     "text": [
      "Radiation Pressure: 15322388556018.998 Pascals\n"
     ]
    }
   ],
   "source": [
    "def radiation_pressure(temperature):\n",
    "    a = 7.5657e-16  # Radiation density constant in J/m^3/K^4\n",
    "    return (1/3) * a * temperature**4\n",
    "\n",
    "# Example usage\n",
    "temperature = 1.57e7  # Example temperature in K\n",
    "\n",
    "radiation_press = radiation_pressure(temperature)\n",
    "print(f\"Radiation Pressure: {radiation_press} Pascals\")\n"
   ]
  },
  {
   "cell_type": "code",
   "execution_count": 29,
   "metadata": {},
   "outputs": [
    {
     "data": {
      "text/plain": [
       "(12767118750000.0, 3.117923482884953e+16, 0.00040947505030453275)"
      ]
     },
     "execution_count": 29,
     "metadata": {},
     "output_type": "execute_result"
    }
   ],
   "source": [
    "import math\n",
    "\n",
    "# Constants\n",
    "a = 7.5657e-16  # Radiation density constant in J/m^3/K^4\n",
    "k = 1.380649e-23  # Boltzmann constant in J/K\n",
    "m_u = 1.66053906660e-27  # Atomic mass unit in kg\n",
    "\n",
    "# Sun's core conditions\n",
    "T_core = 15e6  # Core temperature in Kelvin\n",
    "rho_core = 150e3  # Core density in kg/m^3\n",
    "mu_core = 0.6  # Mean molecular weight\n",
    "\n",
    "# Calculate radiation pressure\n",
    "P_rad = (1/3) * a * T_core**4\n",
    "\n",
    "# Calculate gas pressure\n",
    "P_gas = (rho_core * k * T_core) / (mu_core * m_u)\n",
    "\n",
    "# Comparing the pressures\n",
    "P_rad, P_gas, P_rad / P_gas\n"
   ]
  },
  {
   "cell_type": "code",
   "execution_count": 30,
   "metadata": {},
   "outputs": [
    {
     "data": {
      "text/plain": [
       "39.65264284864587"
      ]
     },
     "execution_count": 30,
     "metadata": {},
     "output_type": "execute_result"
    }
   ],
   "source": [
    "# Constants\n",
    "a = 7.5657e-16  # Radiation density constant in J/m^3/K^4\n",
    "\n",
    "# Sun's core conditions\n",
    "T_core = 1e7  # Core temperature in Kelvin\n",
    "P_core = 1e14  # Total central pressure in N/m^2 (assumed to be dominated by gas pressure)\n",
    "\n",
    "# Calculate radiation pressure\n",
    "P_rad = (1/3) * a * T_core**4\n",
    "\n",
    "# Compare the pressures\n",
    "P_gas_to_rad_ratio = P_core / P_rad\n",
    "P_gas_to_rad_ratio\n"
   ]
  },
  {
   "cell_type": "code",
   "execution_count": 31,
   "metadata": {},
   "outputs": [
    {
     "name": "stdout",
     "output_type": "stream",
     "text": [
      "Electron Density: 2.879721684467946e+28 electrons/m^3\n"
     ]
    }
   ],
   "source": [
    "import math\n",
    "\n",
    "def electron_density(p_f):\n",
    "    h = 6.62607015e-34  # Planck's constant in m^2 kg/s\n",
    "    return (8 * math.pi * p_f**3) / (3 * h**3)\n",
    "\n",
    "# Example usage\n",
    "p_f = 1e-24  # Fermi momentum in kg m/s (example value)\n",
    "n_e = electron_density(p_f)\n",
    "print(f\"Electron Density: {n_e} electrons/m^3\")\n"
   ]
  },
  {
   "cell_type": "code",
   "execution_count": 32,
   "metadata": {},
   "outputs": [
    {
     "name": "stdout",
     "output_type": "stream",
     "text": [
      "Fermi Velocity: 1097769.1228098862 m/s\n"
     ]
    }
   ],
   "source": [
    "def fermi_velocity(p_f):\n",
    "    m_e = 9.10938356e-31  # Electron mass in kg\n",
    "    return p_f / m_e\n",
    "\n",
    "# Example usage\n",
    "p_f = 1e-24  # Fermi momentum in kg m/s (example value)\n",
    "v_f = fermi_velocity(p_f)\n",
    "print(f\"Fermi Velocity: {v_f} m/s\")\n"
   ]
  },
  {
   "cell_type": "code",
   "execution_count": 33,
   "metadata": {},
   "outputs": [
    {
     "name": "stdout",
     "output_type": "stream",
     "text": [
      "Electron Degeneracy Pressure: 1.049835506658132e-05 Pascals\n"
     ]
    }
   ],
   "source": [
    "def electron_degeneracy_pressure(rho, mu):\n",
    "    hbar = 1.0545718e-34  # Reduced Planck's constant in J*s\n",
    "    m_e = 9.10938356e-31  # Electron mass in kg\n",
    "    m_u = 1.66053904e-27  # Atomic mass unit in kg\n",
    "\n",
    "    # Calculate the constant K_nr\n",
    "    K_nr = (hbar**2 / (5 * m_e)) * ((3 * math.pi**2 / (mu * m_u))**(2/3))\n",
    "\n",
    "    # Calculate the pressure\n",
    "    P_e = K_nr * rho**(5/3)\n",
    "    return P_e\n",
    "\n",
    "# Example usage\n",
    "rho = 1e9  # Density in kg/m^3 (example value)\n",
    "mu = 2     # Mean molecular weight (approximation for fully ionized helium)\n",
    "\n",
    "pressure = electron_degeneracy_pressure(rho, mu)\n",
    "print(f\"Electron Degeneracy Pressure: {pressure} Pascals\")\n"
   ]
  },
  {
   "cell_type": "code",
   "execution_count": 34,
   "metadata": {},
   "outputs": [
    {
     "name": "stdout",
     "output_type": "stream",
     "text": [
      "Relativistic Electron Degeneracy Pressure: 2.865382019140475e+28 Pascals\n"
     ]
    }
   ],
   "source": [
    "def relativistic_degeneracy_pressure(rho, mu):\n",
    "    hbar = 1.0545718e-34  # Reduced Planck's constant in J*s\n",
    "    c = 3.00e8            # Speed of light in m/s\n",
    "    m_e = 9.10938356e-31  # Electron mass in kg\n",
    "    m_u = 1.66053904e-27  # Atomic mass unit in kg\n",
    "\n",
    "    # Calculate the constant K_rel (simplified version)\n",
    "    K_rel = (hbar * c / (4 * m_e)) * ((3 / (8 * math.pi * mu * m_u))**(1/3))\n",
    "\n",
    "    # Calculate the pressure\n",
    "    P_e = K_rel * rho**(4/3)\n",
    "    return P_e\n",
    "\n",
    "# Example usage\n",
    "rho = 1e12  # Density in kg/m^3 (example value for a very dense object)\n",
    "mu = 2      # Mean molecular weight (approximation for fully ionized helium)\n",
    "\n",
    "pressure = relativistic_degeneracy_pressure(rho, mu)\n",
    "print(f\"Relativistic Electron Degeneracy Pressure: {pressure} Pascals\")\n"
   ]
  },
  {
   "cell_type": "code",
   "execution_count": 35,
   "metadata": {},
   "outputs": [
    {
     "name": "stdout",
     "output_type": "stream",
     "text": [
      "Opacity: 9.999999999999999e-20 m^2/kg\n"
     ]
    }
   ],
   "source": [
    "def opacity(rho, T, kappa_0, n, s):\n",
    "    \"\"\"\n",
    "    Calculate the opacity using a simplified version of Kramers' law.\n",
    "    \n",
    "    :param rho: Density in kg/m^3\n",
    "    :param T: Temperature in Kelvin\n",
    "    :param kappa_0: Constant depending on composition\n",
    "    :param n: Power-law index for density\n",
    "    :param s: Power-law index for temperature\n",
    "    :return: Opacity in m^2/kg\n",
    "    \"\"\"\n",
    "    return kappa_0 * rho**n * T**(-s)\n",
    "\n",
    "# Example usage\n",
    "rho = 1e3  # Example density in kg/m^3\n",
    "T = 1e6    # Example temperature in Kelvin\n",
    "kappa_0 = 1e-1  # Example constant (composition dependent)\n",
    "n = 1  # Power-law index for density\n",
    "s = 3.5  # Power-law index for temperature (common choice)\n",
    "\n",
    "kappa = opacity(rho, T, kappa_0, n, s)\n",
    "print(f\"Opacity: {kappa} m^2/kg\")\n"
   ]
  },
  {
   "cell_type": "code",
   "execution_count": 36,
   "metadata": {},
   "outputs": [
    {
     "name": "stdout",
     "output_type": "stream",
     "text": [
      "Opacity (Bound-Bound and Bound-Free): 8.838834764831843e-19 m^2/kg\n"
     ]
    }
   ],
   "source": [
    "def bb_bf_opacity(rho, T, metallicity_factor):\n",
    "    \"\"\"\n",
    "    Calculate the bound-bound and bound-free opacity.\n",
    "\n",
    "    :param rho: Density in kg/m^3\n",
    "    :param T: Temperature in Kelvin\n",
    "    :param metallicity_factor: Factor accounting for the metallicity\n",
    "    :return: Opacity in m^2/kg\n",
    "    \"\"\"\n",
    "    # The constant of proportionality might depend on the metallicity and composition\n",
    "    kappa_0 = metallicity_factor  # This is a simplified assumption\n",
    "    return kappa_0 * rho * T**(-3.5)\n",
    "\n",
    "# Example usage\n",
    "rho = 1e-2  # Example density in kg/m^3 (typical for stellar interiors)\n",
    "T = 2e4     # Example temperature in Kelvin (within the intermediate range)\n",
    "metallicity_factor = 1e-1  # Example metallicity factor\n",
    "\n",
    "kappa = bb_bf_opacity(rho, T, metallicity_factor)\n",
    "print(f\"Opacity (Bound-Bound and Bound-Free): {kappa} m^2/kg\")\n"
   ]
  },
  {
   "cell_type": "code",
   "execution_count": 37,
   "metadata": {},
   "outputs": [
    {
     "name": "stdout",
     "output_type": "stream",
     "text": [
      "Free-Free Opacity (proportional): 1e-23\n"
     ]
    }
   ],
   "source": [
    "def free_free_opacity(rho, T):\n",
    "    \"\"\"\n",
    "    Calculate the free-free opacity.\n",
    "    \n",
    "    :param rho: Density in kg/m^3\n",
    "    :param T: Temperature in Kelvin\n",
    "    :return: Opacity in arbitrary units (since we're dealing with a proportionality)\n",
    "    \"\"\"\n",
    "    return rho * T**(-7/2)\n",
    "\n",
    "# Example usage\n",
    "rho = 1e-2  # Example density in kg/m^3\n",
    "T = 1e6     # Example temperature in Kelvin\n",
    "\n",
    "kappa_ff = free_free_opacity(rho, T)\n",
    "print(f\"Free-Free Opacity (proportional): {kappa_ff}\")\n"
   ]
  },
  {
   "cell_type": "code",
   "execution_count": 38,
   "metadata": {},
   "outputs": [
    {
     "name": "stdout",
     "output_type": "stream",
     "text": [
      "Bound-Free to Free-Free Opacity Ratio: 20.408163265306122\n"
     ]
    }
   ],
   "source": [
    "def opacity_ratio(Z, X, Y):\n",
    "    \"\"\"\n",
    "    Calculate the ratio of bound-free to free-free opacities.\n",
    "    \n",
    "    :param Z: Metallicity fraction\n",
    "    :param X: Hydrogen fraction\n",
    "    :param Y: Helium fraction\n",
    "    :return: Ratio of opacities\n",
    "    \"\"\"\n",
    "    return 1e3 * Z / (X + Y)\n",
    "\n",
    "# Example usage\n",
    "Z = 0.02  # Example metallicity fraction\n",
    "X = 0.70  # Example hydrogen fraction\n",
    "Y = 0.28  # Example helium fraction\n",
    "\n",
    "opacity_ratio_value = opacity_ratio(Z, X, Y)\n",
    "print(f\"Bound-Free to Free-Free Opacity Ratio: {opacity_ratio_value}\")\n"
   ]
  },
  {
   "cell_type": "code",
   "execution_count": 39,
   "metadata": {},
   "outputs": [
    {
     "name": "stdout",
     "output_type": "stream",
     "text": [
      "PPI Chain Energy Generation Rate: 3.9690000000000004e+26 W/kg\n"
     ]
    }
   ],
   "source": [
    "def ppi_chain_energy_generation(rho, T, X):\n",
    "    \"\"\"\n",
    "    Estimate the energy generation rate for the PPI chain.\n",
    "\n",
    "    :param rho: Density in kg/m^3\n",
    "    :param T: Temperature in Kelvin\n",
    "    :param X: Hydrogen mass fraction\n",
    "    :return: Energy generation rate in W/kg\n",
    "    \"\"\"\n",
    "    # Constants and coefficients for the PPI chain\n",
    "    # Note: These values are for illustrative purposes and are not accurate for real stellar conditions.\n",
    "    rate_coefficient = 1e-7  # Simplified rate coefficient\n",
    "\n",
    "    # Energy generation rate calculation\n",
    "    epsilon = rate_coefficient * rho * X**2 * T**4\n",
    "    return epsilon\n",
    "\n",
    "# Example usage\n",
    "rho = 1.6e5  # Core density of the Sun in kg/m^3\n",
    "T = 1.5e7    # Core temperature of the Sun in Kelvin\n",
    "X = 0.7      # Hydrogen mass fraction in the Sun\n",
    "\n",
    "epsilon_ppi = ppi_chain_energy_generation(rho, T, X)\n",
    "print(f\"PPI Chain Energy Generation Rate: {epsilon_ppi} W/kg\")\n"
   ]
  },
  {
   "cell_type": "code",
   "execution_count": 40,
   "metadata": {},
   "outputs": [
    {
     "name": "stdout",
     "output_type": "stream",
     "text": [
      "CNO Cycle Energy Generation Rate: 3.145728e+140 W/kg\n"
     ]
    }
   ],
   "source": [
    "def cno_cycle_energy_generation(rho, T, X_CNO):\n",
    "    \"\"\"\n",
    "    Estimate the energy generation rate for the CNO cycle.\n",
    "\n",
    "    :param rho: Density in kg/m^3\n",
    "    :param T: Temperature in Kelvin\n",
    "    :param X_CNO: Combined mass fraction of C, N, and O\n",
    "    :return: Energy generation rate in W/kg\n",
    "    \"\"\"\n",
    "    rate_coefficient = 1e-6  # Simplified rate coefficient\n",
    "\n",
    "    epsilon = rate_coefficient * rho * X_CNO * T**20  # Assuming a very high temperature sensitivity\n",
    "    return epsilon\n",
    "\n",
    "# Example usage\n",
    "rho = 1e2  # Higher core density in kg/m^3\n",
    "T = 2e7    # Higher core temperature in Kelvin\n",
    "X_CNO = 0.03  # Example CNO mass fraction\n",
    "\n",
    "epsilon_cno = cno_cycle_energy_generation(rho, T, X_CNO)\n",
    "print(f\"CNO Cycle Energy Generation Rate: {epsilon_cno} W/kg\")\n"
   ]
  },
  {
   "cell_type": "code",
   "execution_count": 41,
   "metadata": {},
   "outputs": [
    {
     "name": "stdout",
     "output_type": "stream",
     "text": [
      "p-p Chain Energy Generation Rate: 2.4806249999999998e+30 W/kg\n",
      "CNO Cycle Energy Generation Rate: 6.983039133167267e+143 W/kg\n"
     ]
    }
   ],
   "source": [
    "def energy_generation(rho, T, X, X_CNO, reaction_type):\n",
    "    \"\"\"\n",
    "    Approximate the energy generation rate for p-p chain and CNO cycle.\n",
    "\n",
    "    :param rho: Density in kg/m^3\n",
    "    :param T: Temperature in Kelvin\n",
    "    :param X: Hydrogen mass fraction\n",
    "    :param X_CNO: Combined mass fraction of C, N, and O\n",
    "    :param reaction_type: 'pp' for p-p chain or 'CNO' for CNO cycle\n",
    "    :return: Energy generation rate in W/kg\n",
    "    \"\"\"\n",
    "    if reaction_type == 'pp':\n",
    "        alpha = 4  # Temperature exponent for p-p chain\n",
    "        epsilon = rho * X**2 * T**alpha\n",
    "    elif reaction_type == 'CNO':\n",
    "        beta = 20  # Temperature exponent for CNO cycle (approximation)\n",
    "        epsilon = rho * X * X_CNO * T**beta\n",
    "    else:\n",
    "        raise ValueError(\"Unsupported reaction type\")\n",
    "\n",
    "    return epsilon\n",
    "\n",
    "# Example usage\n",
    "rho = 1e2  # Example density in kg/m^3\n",
    "T = 1.5e7  # Example temperature in Kelvin\n",
    "X = 0.7    # Hydrogen mass fraction\n",
    "X_CNO = 0.03  # CNO mass fraction\n",
    "\n",
    "epsilon_pp = energy_generation(rho, T, X, X_CNO, 'pp')\n",
    "epsilon_cno = energy_generation(rho, T, X, X_CNO, 'CNO')\n",
    "\n",
    "print(f\"p-p Chain Energy Generation Rate: {epsilon_pp} W/kg\")\n",
    "print(f\"CNO Cycle Energy Generation Rate: {epsilon_cno} W/kg\")\n"
   ]
  },
  {
   "cell_type": "markdown",
   "metadata": {},
   "source": [
    "## Stellar Models"
   ]
  },
  {
   "cell_type": "code",
   "execution_count": 42,
   "metadata": {},
   "outputs": [
    {
     "name": "stdout",
     "output_type": "stream",
     "text": [
      "Gas Pressure: 7000000000000000.0 Pascals, Radiation Pressure: 3000000000000000.5 Pascals\n"
     ]
    }
   ],
   "source": [
    "def calculate_pressures(P_tot, beta):\n",
    "    \"\"\"\n",
    "    Calculate the gas and radiation pressure based on the total pressure and beta.\n",
    "\n",
    "    :param P_tot: Total pressure in Pascals\n",
    "    :param beta: Fraction of total pressure that is gas pressure\n",
    "    :return: Tuple of gas pressure and radiation pressure in Pascals\n",
    "    \"\"\"\n",
    "    P_g = beta * P_tot        # Gas pressure\n",
    "    P_r = (1 - beta) * P_tot  # Radiation pressure\n",
    "    return P_g, P_r\n",
    "\n",
    "# Example usage\n",
    "P_tot = 1e16  # Example total pressure in Pascals\n",
    "beta = 0.7    # Example value indicating gas pressure dominance\n",
    "\n",
    "P_g, P_r = calculate_pressures(P_tot, beta)\n",
    "print(f\"Gas Pressure: {P_g} Pascals, Radiation Pressure: {P_r} Pascals\")\n"
   ]
  },
  {
   "cell_type": "code",
   "execution_count": 44,
   "metadata": {},
   "outputs": [
    {
     "data": {
      "text/plain": [
       "28588777.34550223"
      ]
     },
     "execution_count": 44,
     "metadata": {},
     "output_type": "execute_result"
    }
   ],
   "source": [
    "def calculate_temperature_from_beta_corrected(rho, mu, beta):\n",
    "    \"\"\"\n",
    "    Corrected calculation of the temperature based on the balance between radiation and gas pressure.\n",
    "\n",
    "    :param rho: Density in kg/m^3\n",
    "    :param mu: Mean molecular weight\n",
    "    :param beta: Fraction of total pressure that is gas pressure\n",
    "    :return: Temperature in Kelvin\n",
    "    \"\"\"\n",
    "    a = 7.5657e-16  # Radiation density constant in J/m^3/K^4\n",
    "    k = 1.380649e-23  # Boltzmann constant in J/K\n",
    "    m_H = 1.6735575e-27  # Mass of hydrogen atom in kg\n",
    "\n",
    "    # Corrected formula for temperature\n",
    "    T = ((3 * k * (1 - beta)) / (a * mu * m_H * beta))**(1/3) * rho**(1/3)\n",
    "    return T\n",
    "\n",
    "# Example usage with corrected formula\n",
    "rho = 1e3  # Example density in kg/m^3\n",
    "mu = 0.6   # Mean molecular weight (assuming a mixture of hydrogen and helium)\n",
    "beta = 0.7 # Example value indicating gas pressure dominance\n",
    "\n",
    "temperature_corrected = calculate_temperature_from_beta_corrected(rho, mu, beta)\n",
    "temperature_corrected\n"
   ]
  },
  {
   "cell_type": "code",
   "execution_count": 45,
   "metadata": {},
   "outputs": [
    {
     "data": {
      "text/plain": [
       "285.61000000000007"
      ]
     },
     "execution_count": 45,
     "metadata": {},
     "output_type": "execute_result"
    }
   ],
   "source": [
    "def calculate_beta_ratio(M, mu):\n",
    "    \"\"\"\n",
    "    Calculate the ratio (1 - beta) / beta^4 as a function of star's mass and mean molecular weight.\n",
    "\n",
    "    :param M: Mass of the star (solar masses)\n",
    "    :param mu: Mean molecular weight\n",
    "    :return: Calculated ratio\n",
    "    \"\"\"\n",
    "    # Assuming the relation 1 - beta / beta^4 is proportional to M^2 * mu^4\n",
    "    # The constant of proportionality is omitted as we are focusing on the relationship\n",
    "    ratio = M**2 * mu**4\n",
    "    return ratio\n",
    "\n",
    "# Example usage\n",
    "M = 10  # Mass of the star in solar masses (example for a massive star)\n",
    "mu = 1.3  # Mean molecular weight (example for a star with evolved composition)\n",
    "\n",
    "ratio = calculate_beta_ratio(M, mu)\n",
    "ratio\n"
   ]
  },
  {
   "cell_type": "code",
   "execution_count": 46,
   "metadata": {},
   "outputs": [
    {
     "name": "stdout",
     "output_type": "stream",
     "text": [
      "Eddington Luminosity: 1.4800893069073663e+30 Watts\n"
     ]
    }
   ],
   "source": [
    "def eddington_luminosity(M, kappa):\n",
    "    \"\"\"\n",
    "    Calculate the Eddington luminosity for a given mass and opacity.\n",
    "\n",
    "    :param M: Mass of the star/object in kg\n",
    "    :param kappa: Opacity in m^2/kg\n",
    "    :return: Eddington luminosity in Watts\n",
    "    \"\"\"\n",
    "    G = 6.67430e-11  # Gravitational constant in m^3/kg/s^2\n",
    "    c = 3.00e8       # Speed of light in m/s\n",
    "\n",
    "    L_Edd = (4 * math.pi * G * M * c) / kappa\n",
    "    return L_Edd\n",
    "\n",
    "# Example usage\n",
    "M = 2e30  # Mass of the star in kg (approximately the mass of the Sun)\n",
    "kappa = 0.34  # Opacity in m^2/kg (example value)\n",
    "\n",
    "L_Edd = eddington_luminosity(M, kappa)\n",
    "print(f\"Eddington Luminosity: {L_Edd} Watts\")\n"
   ]
  },
  {
   "cell_type": "code",
   "execution_count": 47,
   "metadata": {},
   "outputs": [
    {
     "name": "stdout",
     "output_type": "stream",
     "text": [
      "Scaled Radius: 1.7411011265922482 Solar Radii, Scaled Luminosity: 11.313708498984761 Solar Luminosities\n"
     ]
    }
   ],
   "source": [
    "def homologous_scaling(base_mass, base_radius, base_luminosity, new_mass):\n",
    "    \"\"\"\n",
    "    Calculate the scaled radius and luminosity of a star in a homologous model.\n",
    "\n",
    "    :param base_mass: Base mass of the reference star (solar masses)\n",
    "    :param base_radius: Base radius of the reference star (solar radii)\n",
    "    :param base_luminosity: Base luminosity of the reference star (solar luminosities)\n",
    "    :param new_mass: Mass of the new star (solar masses)\n",
    "    :return: Scaled radius and luminosity (solar radii and solar luminosities)\n",
    "    \"\"\"\n",
    "    # Assuming simple power-law relationships (not accurate for real stars)\n",
    "    radius_scaling_factor = (new_mass / base_mass)**0.8  # Example scaling for radius\n",
    "    luminosity_scaling_factor = (new_mass / base_mass)**3.5  # Example scaling for luminosity\n",
    "\n",
    "    new_radius = base_radius * radius_scaling_factor\n",
    "    new_luminosity = base_luminosity * luminosity_scaling_factor\n",
    "\n",
    "    return new_radius, new_luminosity\n",
    "\n",
    "# Example usage\n",
    "base_mass = 1  # Solar masses\n",
    "base_radius = 1  # Solar radii\n",
    "base_luminosity = 1  # Solar luminosities\n",
    "new_mass = 2  # Mass of new star in solar masses\n",
    "\n",
    "scaled_radius, scaled_luminosity = homologous_scaling(base_mass, base_radius, base_luminosity, new_mass)\n",
    "print(f\"Scaled Radius: {scaled_radius} Solar Radii, Scaled Luminosity: {scaled_luminosity} Solar Luminosities\")\n"
   ]
  },
  {
   "cell_type": "code",
   "execution_count": 48,
   "metadata": {},
   "outputs": [
    {
     "name": "stdout",
     "output_type": "stream",
     "text": [
      "Radius of the Star: 1.7411011265922482 Solar Radii\n"
     ]
    }
   ],
   "source": [
    "def mass_radius_relation(mass, alpha):\n",
    "    \"\"\"\n",
    "    Calculate the radius of a main-sequence star based on its mass.\n",
    "\n",
    "    :param mass: Mass of the star in solar masses\n",
    "    :param alpha: Power-law exponent of the mass-radius relation\n",
    "    :return: Radius of the star in solar radii\n",
    "    \"\"\"\n",
    "    base_mass = 1  # Reference mass (1 solar mass)\n",
    "    base_radius = 1  # Reference radius (1 solar radius)\n",
    "\n",
    "    # Calculate radius based on the mass-radius power-law relation\n",
    "    radius = base_radius * (mass / base_mass)**alpha\n",
    "    return radius\n",
    "\n",
    "# Example usage\n",
    "mass = 2  # Mass of the star in solar masses\n",
    "alpha = 0.8  # Power-law exponent for more massive stars\n",
    "\n",
    "radius = mass_radius_relation(mass, alpha)\n",
    "print(f\"Radius of the Star: {radius} Solar Radii\")\n"
   ]
  },
  {
   "cell_type": "markdown",
   "metadata": {},
   "source": [
    "##  Equations of stellar structure"
   ]
  },
  {
   "cell_type": "code",
   "execution_count": 49,
   "metadata": {},
   "outputs": [
    {
     "data": {
      "image/png": "[encoded data removed]",
      "text/plain": [
       "<Figure size 800x600 with 1 Axes>"
      ]
     },
     "metadata": {},
     "output_type": "display_data"
    }
   ],
   "source": [
    "import matplotlib.pyplot as plt\n",
    "import numpy as np\n",
    "\n",
    "# Hypothetical data for a star's core evolution\n",
    "# These are illustrative values and not based on actual stellar models\n",
    "log_rho_c = np.array([0, 1, 2, 3, 4])  # log of core density\n",
    "log_T_c = np.array([4, 5, 6, 7, 8])    # log of core temperature\n",
    "\n",
    "# Plotting the evolutionary path\n",
    "plt.figure(figsize=(8, 6))\n",
    "plt.plot(log_rho_c, log_T_c, marker='o', linestyle='-')\n",
    "plt.xlabel('log(Core Density) [log(kg/m^3)]')\n",
    "plt.ylabel('log(Core Temperature) [log(K)]')\n",
    "plt.title('Schematic Evolution of a Star on log(ρc)-log(Tc) Plane')\n",
    "plt.grid(True)\n",
    "plt.show()\n"
   ]
  },
  {
   "cell_type": "code",
   "execution_count": null,
   "metadata": {},
   "outputs": [],
   "source": []
  }
 ],
 "metadata": {
  "kernelspec": {
   "display_name": "Python 3 (ipykernel)",
   "language": "python",
   "name": "python3"
  },
  "language_info": {
   "codemirror_mode": {
    "name": "ipython",
    "version": 3
   },
   "file_extension": ".py",
   "mimetype": "text/x-python",
   "name": "python",
   "nbconvert_exporter": "python",
   "pygments_lexer": "ipython3",
   "version": "3.12.0"
  }
 },
 "nbformat": 4,
 "nbformat_minor": 4
}
