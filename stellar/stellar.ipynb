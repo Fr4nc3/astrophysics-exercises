{
 "cells": [
  {
   "cell_type": "markdown",
   "metadata": {},
   "source": [
    "# Steller Astrophysics"
   ]
  },
  {
   "cell_type": "code",
   "execution_count": 2,
   "metadata": {},
   "outputs": [],
   "source": [
    "import math\n",
    "mu0_Hm = 4 * math.pi * 1e-7  # Magnetic constant in H/m\n",
    "mu0_VsAm = 4 * math.pi * 1e-7  # Magnetic constant in Vs/A*m\n",
    "epsilon0_Fm = 8.85e-12  # Electric constant in F/m\n",
    "epsilon0_AsVm = 8.85e-12  # Electric constant in As/V*m\n",
    "e = 1.60e-19  # Elementary charge in C\n",
    "h = 6.63e-34  # Planck constant in J*s\n",
    "NA = 6.02e23  # Avogadro's number in 1/mol\n",
    "k = 1.38e-23  # Boltzmann constant in J/K\n",
    "R = 8.31  # Gas constant in J/K*mol\n",
    "mu_kg = 1.66e-27  # Atomic mass unit in kg\n",
    "mu_MeVc2 = 931.5  # Atomic mass unit in MeV/c^2\n",
    "me = 9.11e-31  # Electron mass in kg\n",
    "mp = 1.67e-27  # Proton mass in kg\n",
    "G = 6.67e-11  # Gravitational constant in N m^2/kg^2\n",
    "sigma = 5.67e-8  # Stefan-Boltzmann constant in W/m^2*K^4\n",
    "g = 9.8  # Acceleration due to gravity in m/s^2\n",
    "muB = 9.27e-24  # Bohr magneton in J/T\n",
    "IH = 13.6  # Ionization energy of hydrogen in eV\n",
    "Msun = 1.989e30  # Solar mass in kg\n",
    "Rsun = 6.960e8  # Solar radius in m\n",
    "Lsun = 3.862e26  # Solar luminosity in W\n",
    "Teff_sun = 5770  # Effective temperature of the sun in K\n",
    "AU = 1.496e11  # Astronomical unit in m\n",
    "pc = 3.086e16  # Parsec in m\n",
    "pi = math.pi"
   ]
  },
  {
   "cell_type": "markdown",
   "metadata": {},
   "source": [
    "## Equations of stellar structure"
   ]
  },
  {
   "cell_type": "code",
   "execution_count": 3,
   "metadata": {},
   "outputs": [
    {
     "name": "stdout",
     "output_type": "stream",
     "text": [
      "Luminosity: 3.8913397731761934e+26 W\n"
     ]
    }
   ],
   "source": [
    "\n",
    "# Inputs: Radius (in meters) and Temperature (in Kelvin)\n",
    "radius = 7e8  # Example: radius of the Sun in meters\n",
    "temperature = 5778  # Example: temperature of the Sun in Kelvin\n",
    "\n",
    "# Luminosity calculation\n",
    "luminosity = 4 * math.pi * radius**2 * sigma * temperature**4\n",
    "\n",
    "print(f\"Luminosity: {luminosity} W\")\n"
   ]
  },
  {
   "cell_type": "code",
   "execution_count": 5,
   "metadata": {},
   "outputs": [
    {
     "name": "stdout",
     "output_type": "stream",
     "text": [
      "Bolometric Luminosity: 3.523467765264666e+26 W\n"
     ]
    }
   ],
   "source": [
    "# Inputs: Apparent magnitude and distance in parsecs\n",
    "apparent_magnitude = 4.83  # Example: apparent magnitude of the Sun\n",
    "distance = 10  # Example: distance in parsecs\n",
    "L0 = 3.0128e28\n",
    "\n",
    "# Absolute bolometric magnitude calculation\n",
    "M_bol = apparent_magnitude - 5 * math.log10(distance / 10)\n",
    "\n",
    "# Bolometric luminosity calculation\n",
    "bolometric_luminosity = L0 * 10**(-0.4 * M_bol)\n",
    "\n",
    "print(f\"Bolometric Luminosity: {bolometric_luminosity} W\")\n"
   ]
  },
  {
   "cell_type": "code",
   "execution_count": 6,
   "metadata": {},
   "outputs": [
    {
     "name": "stdout",
     "output_type": "stream",
     "text": [
      "Effective Temperature: 5778.872165883306 K\n"
     ]
    }
   ],
   "source": [
    "# Inputs: Luminosity (in Watts) and Radius (in meters)\n",
    "luminosity = 3.846e26  # Example: luminosity of the Sun in Watts\n",
    "radius = 6.957e8      # Example: radius of the Sun in meters\n",
    "\n",
    "# Calculate effective temperature\n",
    "T_eff = (luminosity / (4 * math.pi * radius**2 * sigma)) ** 0.25\n",
    "\n",
    "print(f\"Effective Temperature: {T_eff} K\")\n"
   ]
  },
  {
   "cell_type": "code",
   "execution_count": 7,
   "metadata": {},
   "outputs": [
    {
     "name": "stdout",
     "output_type": "stream",
     "text": [
      "Flux per unit surface area: 63196526.546029195 W/m^2\n"
     ]
    }
   ],
   "source": [
    "# Input: Temperature (in Kelvin)\n",
    "temperature = 5778  # Example: temperature of the Sun in Kelvin\n",
    "\n",
    "# Calculate flux per unit surface area\n",
    "flux = sigma * temperature**4\n",
    "\n",
    "print(f\"Flux per unit surface area: {flux} W/m^2\")\n"
   ]
  },
  {
   "cell_type": "code",
   "execution_count": 8,
   "metadata": {},
   "outputs": [
    {
     "name": "stdout",
     "output_type": "stream",
     "text": [
      "Surface Area of the Star: 6.082104402130212e+18 square meters\n"
     ]
    }
   ],
   "source": [
    "\n",
    "# Input: Radius of the star (in meters)\n",
    "# Example: Radius of the Sun is about 6.957 x 10^8 meters\n",
    "radius = 6.957e8  \n",
    "\n",
    "# Calculate the surface area\n",
    "surface_area = 4 * math.pi * radius**2\n",
    "\n",
    "print(f\"Surface Area of the Star: {surface_area} square meters\")\n"
   ]
  },
  {
   "cell_type": "code",
   "execution_count": 9,
   "metadata": {},
   "outputs": [
    {
     "name": "stdout",
     "output_type": "stream",
     "text": [
      "Total Emission (Luminosity): 3.8436787230494296e+26 W\n"
     ]
    }
   ],
   "source": [
    "# Inputs: Radius (in meters) and Effective Temperature (in Kelvin)\n",
    "# Example: Sun's radius and temperature\n",
    "radius = 6.957e8      # Radius of the Sun in meters\n",
    "T_eff = 5778          # Effective temperature of the Sun in Kelvin\n",
    "\n",
    "# Calculate Luminosity\n",
    "luminosity = 4 * math.pi * radius**2 * sigma * T_eff**4\n",
    "\n",
    "print(f\"Total Emission (Luminosity): {luminosity} W\")\n"
   ]
  },
  {
   "cell_type": "code",
   "execution_count": 10,
   "metadata": {},
   "outputs": [
    {
     "name": "stdout",
     "output_type": "stream",
     "text": [
      "Wavelength of maximum emission: 5.015576323987539e-07 meters\n"
     ]
    }
   ],
   "source": [
    "# Constants\n",
    "b = 2.898e-3  # Wien's displacement constant in m*K\n",
    "\n",
    "# Input: Effective Temperature (in Kelvin)\n",
    "# Example: Effective temperature of the Sun\n",
    "T = 5778  # in Kelvin\n",
    "\n",
    "# Calculate the wavelength of maximum emission\n",
    "lambda_max = b / T\n",
    "\n",
    "print(f\"Wavelength of maximum emission: {lambda_max} meters\")\n"
   ]
  },
  {
   "cell_type": "code",
   "execution_count": 11,
   "metadata": {},
   "outputs": [
    {
     "name": "stdout",
     "output_type": "stream",
     "text": [
      "Luminosity: 2.576144992578974e+28 W\n",
      "Estimated Temperature: 5000 K\n"
     ]
    }
   ],
   "source": [
    "import math\n",
    "\n",
    "# Constants\n",
    "M0 = 4.83  # Reference magnitude (e.g., the magnitude of the Sun in the V band)\n",
    "L0 = 3.0128e28  # Reference luminosity in Watts (luminosity of the Sun)\n",
    "\n",
    "# Example data: Absolute magnitude in V band (MV)\n",
    "MV = 5.0  # Example: Absolute magnitude in V band\n",
    "\n",
    "# Calculate Luminosity from MV\n",
    "luminosity = L0 * 10**(-0.4 * (MV - M0))\n",
    "\n",
    "print(f\"Luminosity: {luminosity} W\")\n",
    "\n",
    "# For temperature estimation, you would typically use a calibrated relation.\n",
    "# Example: Color index (B-V)\n",
    "BV = 0.65  # Example: B-V color index\n",
    "\n",
    "# Convert BV to temperature (using a hypothetical relation or lookup table)\n",
    "# This is a placeholder as the relation can be quite complex.\n",
    "temperature = 5000  # This is a hypothetical value\n",
    "\n",
    "print(f\"Estimated Temperature: {temperature} K\")\n"
   ]
  },
  {
   "cell_type": "code",
   "execution_count": 12,
   "metadata": {},
   "outputs": [
    {
     "name": "stdout",
     "output_type": "stream",
     "text": [
      "Dynamical (Free-Fall) Timescale: 210134643519109.0 seconds\n"
     ]
    }
   ],
   "source": [
    "\n",
    "# Input: Average Density (in kg/m^3)\n",
    "# Example: A typical molecular cloud density\n",
    "density = 1e-19  # This is a hypothetical value\n",
    "\n",
    "# Calculate the free-fall timescale\n",
    "t_ff = math.sqrt((3 * math.pi) / (32 * G * density))\n",
    "\n",
    "print(f\"Dynamical (Free-Fall) Timescale: {t_ff} seconds\")\n"
   ]
  },
  {
   "cell_type": "code",
   "execution_count": 13,
   "metadata": {},
   "outputs": [
    {
     "name": "stdout",
     "output_type": "stream",
     "text": [
      "Nuclear Timescale: 3.27613104524181e+17 seconds\n"
     ]
    }
   ],
   "source": [
    "# Constants\n",
    "c = 3e8  # Speed of light in m/s\n",
    "f = 0.007  # Fraction of mass converted into energy in hydrogen fusion\n",
    "\n",
    "# Inputs: Core mass (in kg) and Luminosity (in Watts)\n",
    "# Example: Sun's core mass and luminosity\n",
    "core_mass = 2e30 * 0.1  # Approx. 10% of the Sun's mass is in its core\n",
    "luminosity = 3.846e26  # Luminosity of the Sun in Watts\n",
    "\n",
    "# Calculate total nuclear energy\n",
    "E_nuc = f * core_mass * c**2\n",
    "\n",
    "# Calculate nuclear timescale\n",
    "t_nuc = E_nuc / luminosity\n",
    "\n",
    "print(f\"Nuclear Timescale: {t_nuc} seconds\")\n"
   ]
  },
  {
   "cell_type": "code",
   "execution_count": 14,
   "metadata": {},
   "outputs": [
    {
     "name": "stdout",
     "output_type": "stream",
     "text": [
      "Force due to gas pressure at radius r: 1e+17 N\n",
      "Force due to gas pressure at radius r + delta r: 1e+17 N\n",
      "Pressure Gradient (Delta P): 0.0 N\n"
     ]
    }
   ],
   "source": [
    "# Function to represent the pressure at a given radius\n",
    "def pressure_at_radius(r):\n",
    "    # This function should compute the pressure based on the star's properties\n",
    "    # and the radius 'r'. For simplicity, let's return a hypothetical value.\n",
    "    # In a real scenario, this would involve complex calculations.\n",
    "    return 1e7  # Example value in Pascals\n",
    "\n",
    "# Given values\n",
    "delta_r = 1e3  # Small change in radius in meters\n",
    "r = 1e6  # Example radius in meters\n",
    "delta_A = 1e10  # Surface area of the element in square meters\n",
    "\n",
    "# Calculating forces due to gas pressure\n",
    "F_gas_r = pressure_at_radius(r) * delta_A\n",
    "F_gas_r_plus_delta_r = pressure_at_radius(r + delta_r) * delta_A\n",
    "\n",
    "# Computing the pressure gradient\n",
    "delta_P = F_gas_r_plus_delta_r - F_gas_r\n",
    "\n",
    "print(f\"Force due to gas pressure at radius r: {F_gas_r} N\")\n",
    "print(f\"Force due to gas pressure at radius r + delta r: {F_gas_r_plus_delta_r} N\")\n",
    "print(f\"Pressure Gradient (Delta P): {delta_P} N\")\n",
    "\n"
   ]
  },
  {
   "cell_type": "code",
   "execution_count": null,
   "metadata": {},
   "outputs": [],
   "source": [
    "def hydrostatic_equilibrium(M_r, rho_r, r):\n",
    "    \"\"\"\n",
    "    Calculate the hydrostatic equilibrium pressure gradient.\n",
    "\n",
    "    :param M_r: Mass enclosed within radius r (in kilograms)\n",
    "    :param rho_r: Density at radius r (in kg/m^3)\n",
    "    :param r: Radius (in meters)\n",
    "    :return: dP/dr, the pressure gradient (in Pascals per meter)\n",
    "    \"\"\"\n",
    "    G = 6.67430e-11  # Gravitational constant in m^3/kg/s^2\n",
    "    return -G * M_r * rho_r / r**2\n",
    "\n",
    "# Example usage\n",
    "M_r = 1e30  # Mass within a given radius in kilograms\n",
    "rho_r = 1e5  # Density at that radius in kg/m^3\n",
    "r = 7e8  # Radius in meters (e.g., approximately the radius of the Sun)\n",
    "\n",
    "# Compute the pressure gradient\n",
    "dP_dr = hydrostatic_equilibrium(M_r, rho_r, r)\n",
    "\n",
    "print(f\"Hydrostatic Equilibrium Pressure Gradient: {dP_dr} Pa/m\")\n"
   ]
  },
  {
   "cell_type": "code",
   "execution_count": 15,
   "metadata": {},
   "outputs": [
    {
     "name": "stdout",
     "output_type": "stream",
     "text": [
      "Hydrostatic Equilibrium Pressure Gradient: -13621020.408163263 Pa/m\n"
     ]
    }
   ],
   "source": [
    "def hydrostatic_equilibrium(M_r, rho_r, r):\n",
    "    \"\"\"\n",
    "    Calculate the hydrostatic equilibrium pressure gradient.\n",
    "\n",
    "    :param M_r: Mass enclosed within radius r (in kilograms)\n",
    "    :param rho_r: Density at radius r (in kg/m^3)\n",
    "    :param r: Radius (in meters)\n",
    "    :return: dP/dr, the pressure gradient (in Pascals per meter)\n",
    "    \"\"\"\n",
    "    G = 6.67430e-11  # Gravitational constant in m^3/kg/s^2\n",
    "    return -G * M_r * rho_r / r**2\n",
    "\n",
    "# Example usage\n",
    "M_r = 1e30  # Mass within a given radius in kilograms\n",
    "rho_r = 1e5  # Density at that radius in kg/m^3\n",
    "r = 7e8  # Radius in meters (e.g., approximately the radius of the Sun)\n",
    "\n",
    "# Compute the pressure gradient\n",
    "dP_dr = hydrostatic_equilibrium(M_r, rho_r, r)\n",
    "\n",
    "print(f\"Hydrostatic Equilibrium Pressure Gradient: {dP_dr} Pa/m\")\n"
   ]
  },
  {
   "cell_type": "code",
   "execution_count": 16,
   "metadata": {},
   "outputs": [
    {
     "name": "stdout",
     "output_type": "stream",
     "text": [
      "Rate of Change of Mass with Radius: 8.620530241450392e+21 kg/m\n"
     ]
    }
   ],
   "source": [
    "def mass_continuity(r, rho_r):\n",
    "    \"\"\"\n",
    "    Calculate the rate of change of mass with respect to radius in a star.\n",
    "\n",
    "    :param r: Radius (in meters)\n",
    "    :param rho_r: Density at radius r (in kg/m^3)\n",
    "    :return: dM/dr, the rate of change of mass with respect to radius (in kg/m)\n",
    "    \"\"\"\n",
    "    return 4 * math.pi * r**2 * rho_r\n",
    "\n",
    "# Example usage\n",
    "r = 7e8  # Radius in meters (e.g., approximately the radius of the Sun)\n",
    "rho_r = 1.4e3  # Density at that radius in kg/m^3 (example value)\n",
    "\n",
    "# Compute the rate of change of mass with respect to radius\n",
    "dM_dr = mass_continuity(r, rho_r)\n",
    "\n",
    "print(f\"Rate of Change of Mass with Radius: {dM_dr} kg/m\")\n"
   ]
  },
  {
   "cell_type": "code",
   "execution_count": 18,
   "metadata": {},
   "outputs": [
    {
     "name": "stdout",
     "output_type": "stream",
     "text": [
      "Total Mass of the Star: 2.011457056338425e+30 kg\n"
     ]
    }
   ],
   "source": [
    "import scipy.integrate as integrate\n",
    "import math\n",
    "\n",
    "# Example: A constant density function (for simplicity)\n",
    "def density(r):\n",
    "    return 1.4e3  # Constant density in kg/m^3\n",
    "\n",
    "# Total radius of the star (e.g., radius of the Sun)\n",
    "R = 7e8  # in meters\n",
    "\n",
    "# Function to integrate\n",
    "def integrand(r):\n",
    "    return 4 * math.pi * r**2 * density(r)\n",
    "\n",
    "# Perform the integration from 0 to R\n",
    "M_total, _ = integrate.quad(integrand, 0, R)\n",
    "\n",
    "print(f\"Total Mass of the Star: {M_total} kg\")\n"
   ]
  },
  {
   "cell_type": "code",
   "execution_count": 19,
   "metadata": {},
   "outputs": [
    {
     "name": "stdout",
     "output_type": "stream",
     "text": [
      "Mean Molecular Mass: 0.6033182503770739 amu\n"
     ]
    }
   ],
   "source": [
    "def mean_molecular_mass(X, Y, Z):\n",
    "    \"\"\"\n",
    "    Calculate the mean molecular mass (mu) for a fully ionized gas.\n",
    "\n",
    "    :param X: Mass fraction of hydrogen\n",
    "    :param Y: Mass fraction of helium\n",
    "    :param Z: Mass fraction of heavier elements\n",
    "    :return: Mean molecular mass (mu)\n",
    "    \"\"\"\n",
    "    return 1 / (2*X + 3*Y/4 + Z/2)\n",
    "\n",
    "# Example: Sun-like composition\n",
    "X = 0.73  # Mass fraction of Hydrogen\n",
    "Y = 0.25  # Mass fraction of Helium\n",
    "Z = 0.02  # Mass fraction of heavier elements\n",
    "\n",
    "mu = mean_molecular_mass(X, Y, Z)\n",
    "\n",
    "print(f\"Mean Molecular Mass: {mu} amu\")\n"
   ]
  },
  {
   "cell_type": "markdown",
   "metadata": {},
   "source": [
    "## Stellar interiors"
   ]
  },
  {
   "cell_type": "code",
   "execution_count": null,
   "metadata": {},
   "outputs": [],
   "source": []
  },
  {
   "cell_type": "code",
   "execution_count": null,
   "metadata": {},
   "outputs": [],
   "source": []
  },
  {
   "cell_type": "markdown",
   "metadata": {},
   "source": [
    "## Stellar Models"
   ]
  },
  {
   "cell_type": "code",
   "execution_count": null,
   "metadata": {},
   "outputs": [],
   "source": []
  },
  {
   "cell_type": "markdown",
   "metadata": {},
   "source": [
    "##  Equationsofstellarstructure"
   ]
  },
  {
   "cell_type": "code",
   "execution_count": null,
   "metadata": {},
   "outputs": [],
   "source": []
  }
 ],
 "metadata": {
  "kernelspec": {
   "display_name": "Python 3 (ipykernel)",
   "language": "python",
   "name": "python3"
  },
  "language_info": {
   "codemirror_mode": {
    "name": "ipython",
    "version": 3
   },
   "file_extension": ".py",
   "mimetype": "text/x-python",
   "name": "python",
   "nbconvert_exporter": "python",
   "pygments_lexer": "ipython3",
   "version": "3.12.0"
  }
 },
 "nbformat": 4,
 "nbformat_minor": 4
}
