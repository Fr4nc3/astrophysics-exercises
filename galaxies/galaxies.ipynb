{
 "cells": [
  {
   "cell_type": "markdown",
   "metadata": {},
   "source": [
    "# Galaxies "
   ]
  },
  {
   "cell_type": "code",
   "execution_count": 2,
   "metadata": {},
   "outputs": [],
   "source": [
    "import math\n",
    "c = 3.00e8  # Speed of light in m/s\n",
    "mu0_Hm = 4 * math.pi * 1e-7  # Magnetic constant in H/m\n",
    "mu0_VsAm = 4 * math.pi * 1e-7  # Magnetic constant in Vs/A*m\n",
    "epsilon0_Fm = 8.85e-12  # Electric constant in F/m\n",
    "epsilon0_AsVm = 8.85e-12  # Electric constant in As/V*m\n",
    "e = 1.60e-19  # Elementary charge in C\n",
    "h = 6.63e-34  # Planck constant in J*s\n",
    "NA = 6.02e23  # Avogadro's number in 1/mol\n",
    "k = 1.38e-23  # Boltzmann constant in J/K\n",
    "R = 8.31  # Gas constant in J/K*mol\n",
    "mu_kg = 1.66e-27  # Atomic mass unit in kg\n",
    "mu_MeVc2 = 931.5  # Atomic mass unit in MeV/c^2\n",
    "me = 9.11e-31  # Electron mass in kg\n",
    "mp = 1.67e-27  # Proton mass in kg\n",
    "G = 6.67e-11  # Gravitational constant in N m^2/kg^2\n",
    "sigma = 5.67e-8  # Stefan-Boltzmann constant in W/m^2*K^4\n",
    "g = 9.8  # Acceleration due to gravity in m/s^2\n",
    "muB = 9.27e-24  # Bohr magneton in J/T\n",
    "IH = 13.6  # Ionization energy of hydrogen in eV\n",
    "Msun = 1.989e30  # Solar mass in kg\n",
    "Rsun = 6.960e8  # Solar radius in m\n",
    "Lsun = 3.862e26  # Solar luminosity in W\n",
    "Teff_sun = 5770  # Effective temperature of the sun in K\n",
    "AU = 1.496e11  # Astronomical unit in m\n",
    "pc = 3.086e16  # Parsec in m\n",
    "pi = math.pi"
   ]
  },
  {
   "cell_type": "code",
   "execution_count": 3,
   "metadata": {},
   "outputs": [
    {
     "name": "stdout",
     "output_type": "stream",
     "text": [
      "T    he speed of light is 300000000.0 m/s\n"
     ]
    }
   ],
   "source": [
    "print(\"T    he speed of light is\", c, \"m/s\")"
   ]
  },
  {
   "cell_type": "markdown",
   "metadata": {},
   "source": [
    "## Angular resolution \n",
    "\n",
    "θ=1.22λ/D\r\n",
    "\r\n",
    "- Where\r\n",
    "- θ is the angular resolution\r\n",
    "- λ is the wavelength of the light\r\n",
    "- D is the diameter of the telescope's aperture\n",
    "ure.e's aperture."
   ]
  },
  {
   "cell_type": "code",
   "execution_count": 1,
   "metadata": {},
   "outputs": [
    {
     "name": "stdout",
     "output_type": "stream",
     "text": [
      "Angular Resolution: 0.05242563825447033 arcseconds\n"
     ]
    }
   ],
   "source": [
    "import math\n",
    "\n",
    "def calculate_angular_resolution(wavelength, diameter):\n",
    "    # Constants\n",
    "    factor = 1.22\n",
    "\n",
    "    # Angular resolution calculation (in radians)\n",
    "    theta_radians = factor * (wavelength/diameter)\n",
    "\n",
    "    # Convert to arcseconds for practical purposes\n",
    "    theta_arcseconds = theta_radians * (360 * 60 * 60) / (2 * math.pi)\n",
    "\n",
    "    return theta_arcseconds\n",
    "\n",
    "# Example usage\n",
    "wavelength = 500e-9  # 500 nm in meters\n",
    "diameter = 2.4  # diameter in meters (e.g., Hubble Space Telescope)\n",
    "\n",
    "resolution = calculate_angular_resolution(wavelength, diameter)\n",
    "print(f\"Angular Resolution: {resolution} arcseconds\")\n"
   ]
  },
  {
   "cell_type": "markdown",
   "metadata": {},
   "source": [
    "## Star Properties\n",
    "The peak wavelength of the emission  is inversely proportional to the temperature, as described by Wien's displacement law. The law is mathematically expressed as:\r\n",
    "\r\n",
    "λmax = b/Teff\r\n",
    "\r\n",
    "Where:\r\n",
    "λmax,is the wavelength at which the emission is maximized\r\n",
    "Teff is the effective temperature of the star\r\n",
    "b is Wien's displacement constant, approximately 2.897x10^-3  meter kelvin."
   ]
  },
  {
   "cell_type": "code",
   "execution_count": 2,
   "metadata": {},
   "outputs": [
    {
     "name": "stdout",
     "output_type": "stream",
     "text": [
      "Peak Wavelength: 5.013845621322256e-07 meters\n"
     ]
    }
   ],
   "source": [
    "def calculate_peak_wavelength(T_eff):\n",
    "    # Wien's displacement constant in meter kelvin\n",
    "    b = 2.897e-3\n",
    "\n",
    "    # Calculate peak wavelength (in meters)\n",
    "    lambda_max = b / T_eff\n",
    "\n",
    "    return lambda_max\n",
    "\n",
    "# Example usage\n",
    "T_eff = 5778  # Effective temperature of the Sun in Kelvin\n",
    "peak_wavelength = calculate_peak_wavelength(T_eff)\n",
    "print(f\"Peak Wavelength: {peak_wavelength} meters\")\n"
   ]
  },
  {
   "cell_type": "markdown",
   "metadata": {},
   "source": [
    "luminosity (L) of a star, which can be calculated using the star's effective temperature (Teff) and radius (R)"
   ]
  },
  {
   "cell_type": "code",
   "execution_count": 3,
   "metadata": {},
   "outputs": [
    {
     "name": "stdout",
     "output_type": "stream",
     "text": [
      "Luminosity: 3.8472484194287e+26 Watts\n"
     ]
    }
   ],
   "source": [
    "import math\n",
    "\n",
    "def calculate_luminosity(radius, T_eff):\n",
    "    # Stefan-Boltzmann constant in W/(m^2 K^4)\n",
    "    sigma = 5.670374419e-8\n",
    "\n",
    "    # Calculate luminosity (in Watts)\n",
    "    L = 4 * math.pi * radius**2 * sigma * T_eff**4\n",
    "\n",
    "    return L\n",
    "\n",
    "# Example usage\n",
    "radius = 6.96e8  # Radius of the Sun in meters\n",
    "T_eff = 5778  # Effective temperature of the Sun in Kelvin\n",
    "\n",
    "luminosity = calculate_luminosity(radius, T_eff)\n",
    "print(f\"Luminosity: {luminosity} Watts\")\n"
   ]
  },
  {
   "cell_type": "markdown",
   "metadata": {},
   "source": [
    "# Exercises"
   ]
  },
  {
   "cell_type": "markdown",
   "metadata": {},
   "source": [
    "To estimate the peculiar velocity of the Local Group along the line of sight towards the Virgo Cluster, we can use Hubble's Law, which relates the recession velocity of a distant object to its distance from the observer. Hubble's Law is given by:\r\n",
    "\r\n",
    "$$\r\n",
    "v = H_0 \\times d\r\n",
    "$$\r\n",
    "\r\n",
    "where $$ v $$ is the recession velocity, $$ H_0 $$ is Hubble's constant, and $$ d $$ is the distance to the object.\r\n",
    "\r\n",
    "Given:\r\n",
    "- $$ H_0 = 70 \\, \\text{km/s/Mpc} $$ (Hubble's constant)\r\n",
    "- $$ d = 18 \\, \\text{Mpc} $$ (distance to the Virgo Cluster)\r\n",
    "- $$ v_{\\text{Virgo, meas}} = 1139 \\, \\text{km/s} $$ (measured recession velocity of the Virgo Cluster)\r\n",
    "\r\n",
    "First, calculate the recession velocity using Hubble's Law:\r\n",
    "\r\n",
    "$$\r\n",
    "v_{\\text{Virgo, Hubble}} = H_0 \\times d\r\n",
    "$$\r\n",
    "\r\n",
    "Then, the peculiar velocity $$ v_{\\text{peculiar}} $$ of the Local Group can be estimated by the difference between the measured recession velocity and the recession velocity predicted by Hubble's Law:\r\n",
    "\r\n",
    "$$\r\n",
    "v_{\\text{peculiar}} = v_{\\text{Virgo, meas}} - v_{\\text{Virgo, Hubble}}\r\n",
    "$$\r\n",
    "\r\n",
    "Let's perform these calculations.\r\n",
    "\r\n",
    "It seems there was an issue with the calculation. Let me try again to compute the peculiar velocity of the Local Group towards the Virgo Cluster using the given parameters and Hubble's Law.\r\n",
    "\r\n",
    "It appears there is a technical issue with the calculation. However, we can still manually calculate the peculiar velocity using the given values:\r\n",
    "\r\n",
    "Using Hubble's Law,\r\n",
    "$$ v_{\\text{Virgo, Hubble}} = H_0 \\times d = 70 \\, \\text{km/s/Mpc} \\times 18 \\, \\text{Mpc} = 1260 \\, \\text{km/s} $$\r\n",
    "\r\n",
    "The peculiar velocity is then calculated as the difference between the measured recession velocity and the Hubble Law velocity:\r\n",
    "$$ v_{\\text{peculiar}} = v_{\\text{Virgo, meas}} - v_{\\text{Virgo, Hubble}} = 1139 \\, \\text{km/s} - 1260 \\, \\text{km/s} = -121 \\, \\text{km/s} $$\r\n",
    "\r\n",
    "Thus, the peculiar velocity of the Local Group towards the Virgo Cluster is approximately $$-121 \\, \\text{km/s}$$. A negative value indicates that the Local Group is moving towards the Virgo Cluster, contrary to the general expansion of the universe.\r\n"
   ]
  },
  {
   "cell_type": "code",
   "execution_count": 1,
   "metadata": {},
   "outputs": [
    {
     "data": {
      "text/plain": [
       "-121"
      ]
     },
     "execution_count": 1,
     "metadata": {},
     "output_type": "execute_result"
    }
   ],
   "source": [
    "# Given values\n",
    "H_0 = 70  # Hubble's constant in km/s/Mpc\n",
    "d = 18  # distance to Virgo Cluster in Mpc\n",
    "v_Virgo_meas = 1139  # measured recession velocity of Virgo Cluster in km/s\n",
    "\n",
    "# Calculating recession velocity using Hubble's Law\n",
    "v_Virgo_Hubble = H_0 * d\n",
    "\n",
    "# Calculating the peculiar velocity\n",
    "v_peculiar = v_Virgo_meas - v_Virgo_Hubble\n",
    "v_peculiar\n"
   ]
  },
  {
   "cell_type": "markdown",
   "metadata": {},
   "source": [
    "To estimate the radius of the X-ray emitting region of the Coma cluster, we can use the given angular diameter and the distance to the cluster. The angular diameter is given as approximately 5 arcminutes, and the distance to the Coma cluster is approximately 100 Mpc. \r\n",
    "\r\n",
    "The formula to convert angular size to physical size is:\r\n",
    "\r\n",
    "$$\r\n",
    "\\text{Radius} = \\frac{\\text{Angular Diameter} \\times \\text{Distance}}{2}\r\n",
    "$$\r\n",
    "\r\n",
    "Since the angular diameter needs to be in radians for this calculation, we first convert 5 arcminutes to radians. There are 60 arcminutes in a degree, and $$ \\pi $$ radians in 180 degrees. Therefore, the conversion is:\r\n",
    "\r\n",
    "$$\r\n",
    "\\text{Angular Diameter in radians} = \\frac{5}{60} \\times \\frac{\\pi}{180}\r\n",
    "$$\r\n",
    "\r\n",
    "Then, we can use the distance to the Coma cluster (100 Mpc) to find the radius. Note that 1 Mpc is $$ 3.086 \\times 10^{22} $$ meters. Let's perform the calculation.\r\n",
    "\r\n",
    "It appears that there was a technical error in the calculation. However, we can still manually compute the radius of the X-ray emitting region of the Coma cluster:\r\n",
    "\r\n",
    "1. Convert the angular diameter from arcminutes to radians:\r\n",
    "   $$\r\n",
    "   \\text{Angular Diameter in radians} = \\frac{5}{60} \\times \\frac{\\pi}{180}\r\n",
    "   $$\r\n",
    "\r\n",
    "2. Calculate the radius:\r\n",
    "   $$\r\n",
    "   \\text{Radius} = \\frac{\\text{Angular Diameter in radians} \\times \\text{Distance to Coma in meters}}{2}\r\n",
    "   $$\r\n",
    "   The distance to the Coma cluster is approximately 100 Mpc. Converting 100 Mpc to meters:\r\n",
    "   $$\r\n",
    "   \\text{Distance to Coma in meters} = 100 \\times 3.086 \\times 10^{22} \\, \\text{meters}\r\n",
    "   $$\r\n",
    "   Then, substitute the values into the formse calculations manually, you can estimate the radius of the X-ray emitting region of the Coma cluster.\r\n"
   ]
  },
  {
   "cell_type": "code",
   "execution_count": 2,
   "metadata": {},
   "outputs": [
    {
     "data": {
      "text/plain": [
       "2.2442025298560423e+21"
      ]
     },
     "execution_count": 2,
     "metadata": {},
     "output_type": "execute_result"
    }
   ],
   "source": [
    "import math\n",
    "\n",
    "# Given values\n",
    "angular_diameter_arcminutes = 5  # in arcminutes\n",
    "distance_to_coma_Mpc = 100  # in Mpc\n",
    "Mpc_to_meters = 3.086e22  # conversion factor from Mpc to meters\n",
    "\n",
    "# Convert angular diameter to radians\n",
    "angular_diameter_radians = (angular_diameter_arcminutes / 60) * (math.pi / 180)\n",
    "\n",
    "# Convert distance to meters\n",
    "distance_to_coma_meters = distance_to_coma_Mpc * Mpc_to_meters\n",
    "\n",
    "# Calculate the radius of the X-ray emitting region\n",
    "radius_meters = (angular_diameter_radians * distance_to_coma_meters) / 2\n",
    "radius_meters\n"
   ]
  },
  {
   "cell_type": "markdown",
   "metadata": {},
   "source": [
    " the calculation to estimate the total hot gas mass in the Coma cluster. We'll need to follow these steps:\r\n",
    "\r\n",
    "1. Calculate the Energy Emission Rate $$ e $$:\r\n",
    "   Given $$ T \\approx 10^8 $$ K, and simplifying the bremsstrahlung formula, we have:\r\n",
    "   $$\r\n",
    "   e = 1.4 \\times 10^{-40} \\sqrt{T} n_e^2\r\n",
    "   $$\r\n",
    "\r\n",
    "2. Total Energy Emitted $$ E $$ and X-ray Luminosity $$ L_{X-ray} $$:\r\n",
    "   Since $$ L_{X-ray} = e \\times V $$ and $$ L_{X-ray} $$ is given as $$ 2.6 \\times 10^{37} $$ W, we can solve for $$ n_e $$ once we know the volume $$ V $$.\r\n",
    "\r\n",
    "3. Calculate the Volume $$ V $$ of the X-ray Emitting Region:\r\n",
    "   We'll assume the X-ray emitting region is spherical with radius $$ R $$. For the Coma cluster, let's use the radius we previously calculated.\r\n",
    "\r\n",
    "4. Calculate the Total Hot Gas Mass $$ M $$:\r\n",
    "   The total mass is $$ M = n_p \\times m_p \\times V $$, where $$ m_p $$ is the proton mass ($$ 1.67 \\times 10^{-27} $$ kg). Since $$ n_p = n_e $$ for hydrogen, we can use the $$ n_e $$ value derived from the X-ray luminosity calculation.\r\n",
    "\r\n",
    "Let's start by calculating the energy emission rate $$ e $$ using the given temperature, and then we will estimate $$ n_e $$ using the X-ray luminosity and the volume. For this calculation, we need to know the radius of the X-ray emitting region of the Coma cluster. Since we don't have the exact radius calculated, let's assume a typical value for such calculations. For a galaxy cluster like Coma, a reasonable assumption for the radius might be around 1.5 million light-years (or about 0.46 Mpc). Let's proceed with this assumption.\r\n",
    "\r\n",
    "It seems there was an issue with the calculation. Let's manually go through the steps:\r\n",
    "\r\n",
    "1. Calculate the Energy Emission Rate $$ e $$:\r\n",
    "   Using $$ T \\approx 10^8 $$ K, the formula simplifies to $$ e = 1.4 \\times 10^{-40} \\times \\sqrt{10^8} $$ (assuming $$ n_e^2 = 1 $$ for now).\r\n",
    "\r\n",
    "2. Volume $$ V $$ of the X-ray Emitting Region:\r\n",
    "   Assuming a radius of 0.46 Mpc, convert this to meters (1 Mpc = $$ 3.086 \\times 10^{22} $$ meters), and calculate the volume $$ V $$ of the sphere.\r\n",
    "\r\n",
    "3. Solve for $$ n_e^2 $$ using $$ L_{X-ray} = e \\times V $$:\r\n",
    "   With $$ L_{X-ray} = 2.6 \\times 10^{37} $$ W, solve for $$ n_e^2 $$.\r\n",
    "\r\n",
    "4. Calculate Total Hot Gas Mass $$ M $$:\r\n",
    "   Once $$ n_e $$ is known, use $$ M = n_p \\times m_p \\times V $$ (where $$ m_p = 1.67 \\times 10^{-27} $$ kg and $$ n_p = n_e $$) to find the total mass of the hot gas.\r\n",
    "\r\n",
    "I will outline the calculations for each step:\r\n",
    "\r\n",
    "1. Energy Emission Rate $$ e $$:\r\n",
    "   $$ e = 1.4 \\times 10^{-40} \\times \\sqrt{10^8} $$\r\n",
    "\r\n",
    "2. Volume $$ V $$:\r\n",
    "   Radius in meters $$ = 0.46 \\times 3.086 \\times 10^{22} $$\r\n",
    "   $$ V = \\frac{4}{3} \\pi \\times (\\text{Radius in meters})^3 $$\r\n",
    "\r\n",
    "3. Solve for $$ n_e^2 $$:\r\n",
    "   $$ n_e^2 = \\frac{L_{X-ray}}{e \\times V} $$\r\n",
    "\r\n",
    "4. Total Hot Gas Mass $$ing a scientific calculator or a computing tool.\r\n"
   ]
  },
  {
   "cell_type": "code",
   "execution_count": 3,
   "metadata": {},
   "outputs": [
    {
     "data": {
      "text/plain": [
       "2.4912313590510485e+43"
      ]
     },
     "execution_count": 3,
     "metadata": {},
     "output_type": "execute_result"
    }
   ],
   "source": [
    "# Constants\n",
    "T = 1e8  # Temperature in K\n",
    "L_X_ray = 2.6e37  # Total X-ray luminosity in W\n",
    "m_p = 1.67e-27  # Mass of a proton in kg\n",
    "\n",
    "# Assuming a radius for the X-ray emitting region (in meters)\n",
    "radius_mpc = 0.46  # radius in Mpc\n",
    "mpc_to_m = 3.086e22  # conversion factor from Mpc to meters\n",
    "radius_m = radius_mpc * mpc_to_m  # radius in meters\n",
    "\n",
    "# Calculate the volume of the emitting region (assuming spherical)\n",
    "V = (4/3) * math.pi * (radius_m ** 3)\n",
    "\n",
    "# Calculate the energy emission rate e using the bremsstrahlung formula\n",
    "e = 1.4e-40 * math.sqrt(T)  # Assuming ne^2 = 1 for now, will solve for it next\n",
    "\n",
    "# Solving for ne^2 using L_X_ray = e * V\n",
    "ne_squared = L_X_ray / (e * V)\n",
    "\n",
    "# Calculate electron (and proton) number density ne (and np)\n",
    "ne = math.sqrt(ne_squared)\n",
    "\n",
    "# Calculate the total hot gas mass M = np * mp * V\n",
    "# Note: np = ne for a fully ionized hydrogen plasma\n",
    "M_gas = ne * m_p * V\n",
    "M_gas\n"
   ]
  },
  {
   "cell_type": "markdown",
   "metadata": {},
   "source": [
    "You've provided the angular diameter in radians and the distance to the Coma cluster, and you want to calculate the radius of the X-ray emitting region using the small-angle approximation. The small-angle approximation states that for small angles in radians, $$ \\tan(\\theta) \\approx \\theta $$.\r\n",
    "\r\n",
    "Given:\r\n",
    "- $$ \\theta \\approx 0.013 $$ radians (angular diameter in radians)\r\n",
    "- $$ d_{\\text{Coma}} \\approx 100 $$ Mpc (distance to the Coma cluster)\r\n",
    "\r\n",
    "Using the small-angle approximation, the radius $$ R_{\\text{X-ray}} $$ of the X-ray emitting region can be estimated by:\r\n",
    "\r\n",
    "$$\r\n",
    "R_{\\text{X-ray}} \\approx \\frac{\\theta}{2} \\times d_{\\text{Coma}}\r\n",
    "$$\r\n",
    "\r\n",
    "Plugging in the given values:\r\n",
    "\r\n",
    "$$\r\n",
    "R_{\\text{X-ray}} \\approx \\frac{0.013}{2} \\times 100 \\text{ Mpc}\r\n",
    "$$\r\n",
    "\r\n",
    "Calculating this gives us the radius of the X-ray emitting region in Mpc. Let's do the calculation.\r\n",
    "\r\n",
    "It seems there was a problem executing the calculation. Nonetheless, we can calculate it manually:\r\n",
    "\r\n",
    "$$\r\n",
    "R_{\\text{X-ray}} \\approx \\frac{0.013}{2} \\times 100 = 0.0065 \\times 100 = 0.65 \\text{ Mpc}\r\n",
    "$$\r\n",
    "\r\n",
    "Therefore, the radius of the X-ray emitting region of the Coma cluster is approximately 0.65 Mpc, as you've already stated.\r\n"
   ]
  },
  {
   "cell_type": "code",
   "execution_count": 4,
   "metadata": {},
   "outputs": [
    {
     "data": {
      "text/plain": [
       "0.65"
      ]
     },
     "execution_count": 4,
     "metadata": {},
     "output_type": "execute_result"
    }
   ],
   "source": [
    "# Given values\n",
    "theta_radians = 0.013  # angular diameter in radians\n",
    "d_Coma_Mpc = 100  # distance to the Coma cluster in Mpc\n",
    "\n",
    "# Calculate the radius of the X-ray emitting region using the small-angle approximation\n",
    "R_X_ray_Mpc = (theta_radians / 2) * d_Coma_Mpc\n",
    "R_X_ray_Mpc\n"
   ]
  },
  {
   "cell_type": "markdown",
   "metadata": {},
   "source": [
    "To calculate the total mass of hot gas in the Coma cluster, we will use the given bremsstrahlung energy emission formula, along with the total X-ray luminosity, temperature, and the assumption that the gas is mainly hydrogen.\r\n",
    "\r\n",
    "Given:\r\n",
    "- $$ e $$ is the energy per unit volume per unit time due to bremsstrahlung,\r\n",
    "- $$ T $$ is the temperature of the gas, $$ T \\approx 10^8 $$ K,\r\n",
    "- $$ n_e $$ and $$ n_i $$ are the electron and ion number densities, and for hydrogen, $$ n_i = n_e $$,\r\n",
    "- $$ Z $$ is the atomic number, for hydrogen $$ Z = 1 $$,\r\n",
    "- $$ \\bar{g} $$ is the Gaunt factor, which we can take as $$ \\bar{g} = 1 $$,\r\n",
    "- $$ m_p $$ is the mass of a proton, $$ m_p \\approx 1.67 \\times 10^{-27} $$ kg,\r\n",
    "- $$ L_{X-ray} $$ is the total X-ray luminosity, $$ L_{X-ray} \\approx 2.6 \\times 10^{37} $$ W.\r\n",
    "\r\n",
    "From the bremsstrahlung formula, we have:\r\n",
    "\r\n",
    "$$\r\n",
    "e = 1.4 \\times 10^{-40} \\sqrt{T} n_e n_i Z^2 \\bar{g}\r\n",
    "$$\r\n",
    "\r\n",
    "Since $$ n_i = n_e $$ and $$ Z = 1 $$ and $$ \\bar{g} = 1 $$, we can simplify this to:\r\n",
    "\r\n",
    "$$\r\n",
    "e = 1.4 \\times 10^{-40} \\sqrt{T} n_e^2\r\n",
    "$$\r\n",
    "\r\n",
    "The total energy emitted $$ E $$ is equal to the energy emission rate $$ e $$ multiplied by the volume $$ V $$ of the emitting region, and this is equal to the X-ray luminosity $$ L_{X-ray} $$:\r\n",
    "\r\n",
    "$$\r\n",
    "L_{X-ray} = e \\times V\r\n",
    "$$\r\n",
    "\r\n",
    "Solving for $$ n_e $$ gives us:\r\n",
    "\r\n",
    "$$\r\n",
    "n_e^2 = \\frac{L_{X-ray}}{e \\times V}\r\n",
    "$$\r\n",
    "\r\n",
    "$$\r\n",
    "n_e = \\sqrt{\\frac{L_{X-ray}}{1.4 \\times 10^{-40} \\sqrt{T} \\times V}}\r\n",
    "$$\r\n",
    "\r\n",
    "Now, we need to calculate the volume $$ V $$ of the X-ray emitting region. We previously calculated the radius of this region to be 0.65 Mpc. Convert this to meters and compute the volume $$ V $$ of a sphere:\r\n",
    "\r\n",
    "$$\r\n",
    "V = \\frac{4}{3} \\pi r^3\r\n",
    "$$\r\n",
    "\r\n",
    "Finally, the total mass $$ M $$ of the gas is:\r\n",
    "\r\n",
    "$$\r\n",
    "M = n_e m_p V\r\n",
    "$$\r\n",
    "\r\n",
    "Let's proceed with these calculations. We already established that the radius $$ R_{X-ray} $$ is approximately 0.65 Mpc. We can now calculate $$ V $$, $$ n_e $$, and then the total mass $$ M $$.\r\n",
    "\r\n",
    "It seems there was an issue executing the calculation again. However, we can estimate the total mass of hot gas in the Coma cluster using the provided data. The calculation involves the following steps, which you can perform using a scientific calculator or a computational tool like Python:\r\n",
    "\r\n",
    "1. Calculate the volume $$ V $$ of the X-ray emitting region:\r\n",
    "   - Convert the radius from Mpc to meters: $$ R_{X-ray} = 0.65 $$ Mpc $$ \\times 3.086 \\times 10^{22} $$ meters/Mpc.\r\n",
    "   - Calculate the volume of the sphere: $$ V = \\frac{4}{3} \\pi (R_{X-ray})^3 $$.\r\n",
    "\r\n",
    "2. Calculate the energy emission rate $$ e $$:\r\n",
    "   - Use the bremsstrahlung formula: $$ e = 1.4 \\times 10^{-40} \\times \\sqrt{T} $$.\r\n",
    "\r\n",
    "3. Solve for $$ n_e $$ (the electron number density):\r\n",
    "   - Solve the equation $$ L_{X-ray} = e \\times V $$ for $$ n_e $$: $$ n_e = \\sqrt{\\frac{L_{X-ray}}{e \\times V}} $$.\r\n",
    "\r\n",
    "4. Calculate the total hot gas mass $$ M $$:\r\n",
    "   - Use the equation $$ M = n_e \\times m_p \\times V $$, where $$ m_p $$ is the mass of a proton ($$ 1.67 \\times 10^{-27} $$ kg).\r\n",
    "\r\n",
    "The above steps will allow you to calculate the total mass of the hot gas in the Coma cluster. If you provide the radius or the result from the previous step, I can assist further with the calculations.\r\n"
   ]
  },
  {
   "cell_type": "code",
   "execution_count": 6,
   "metadata": {},
   "outputs": [
    {
     "data": {
      "text/plain": [
       "21038393137902.17"
      ]
     },
     "execution_count": 6,
     "metadata": {},
     "output_type": "execute_result"
    }
   ],
   "source": [
    "# Constants\n",
    "T = 1e8  # Temperature in K\n",
    "L_X_ray = 2.6e37  # Total X-ray luminosity in W\n",
    "m_p = 1.67e-27  # Mass of a proton in kg\n",
    "e_constant = 1.4e-40  # Constant in the bremsstrahlung energy emission formula\n",
    "mpc_to_m = 3.086e22  # Conversion factor from Mpc to meters\n",
    "\n",
    "# Radius of the X-ray emitting region in meters\n",
    "R_X_ray_Mpc = 0.65  # Radius in Mpc\n",
    "R_X_ray_m = R_X_ray_Mpc * mpc_to_m  # Convert radius to meters\n",
    "\n",
    "# Calculate the volume of the emitting region (assuming spherical)\n",
    "V = (4/3) * math.pi * (R_X_ray_m ** 3)\n",
    "\n",
    "# Calculate the energy emission rate e using the bremsstrahlung formula\n",
    "e = e_constant * math.sqrt(T)  # Assuming ne^2 = 1 for now, will solve for it next\n",
    "\n",
    "# Solving for ne^2 using L_X_ray = e * V\n",
    "ne_squared = L_X_ray / (e * V)\n",
    "\n",
    "# Calculate electron (and proton) number density ne (and np)\n",
    "ne = math.sqrt(ne_squared)\n",
    "\n",
    "# Calculate the total hot gas mass M = np * mp * V\n",
    "# Note: np = ne for a fully ionized hydrogen plasma\n",
    "M_gas = ne * m_p * V\n",
    "M_sun = 1.989e30\n",
    "M_gas/M_sun\n"
   ]
  },
  {
   "cell_type": "code",
   "execution_count": null,
   "metadata": {},
   "outputs": [],
   "source": []
  }
 ],
 "metadata": {
  "kernelspec": {
   "display_name": "Python 3 (ipykernel)",
   "language": "python",
   "name": "python3"
  },
  "language_info": {
   "codemirror_mode": {
    "name": "ipython",
    "version": 3
   },
   "file_extension": ".py",
   "mimetype": "text/x-python",
   "name": "python",
   "nbconvert_exporter": "python",
   "pygments_lexer": "ipython3",
   "version": "3.12.0"
  }
 },
 "nbformat": 4,
 "nbformat_minor": 4
}
