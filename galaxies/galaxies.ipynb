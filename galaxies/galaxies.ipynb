{
 "cells": [
  {
   "cell_type": "markdown",
   "metadata": {},
   "source": [
    "# Galaxies "
   ]
  },
  {
   "cell_type": "code",
   "execution_count": 2,
   "metadata": {},
   "outputs": [],
   "source": [
    "import math\n",
    "c = 3.00e8  # Speed of light in m/s\n",
    "mu0_Hm = 4 * math.pi * 1e-7  # Magnetic constant in H/m\n",
    "mu0_VsAm = 4 * math.pi * 1e-7  # Magnetic constant in Vs/A*m\n",
    "epsilon0_Fm = 8.85e-12  # Electric constant in F/m\n",
    "epsilon0_AsVm = 8.85e-12  # Electric constant in As/V*m\n",
    "e = 1.60e-19  # Elementary charge in C\n",
    "h = 6.63e-34  # Planck constant in J*s\n",
    "NA = 6.02e23  # Avogadro's number in 1/mol\n",
    "k = 1.38e-23  # Boltzmann constant in J/K\n",
    "R = 8.31  # Gas constant in J/K*mol\n",
    "mu_kg = 1.66e-27  # Atomic mass unit in kg\n",
    "mu_MeVc2 = 931.5  # Atomic mass unit in MeV/c^2\n",
    "me = 9.11e-31  # Electron mass in kg\n",
    "mp = 1.67e-27  # Proton mass in kg\n",
    "G = 6.67e-11  # Gravitational constant in N m^2/kg^2\n",
    "sigma = 5.67e-8  # Stefan-Boltzmann constant in W/m^2*K^4\n",
    "g = 9.8  # Acceleration due to gravity in m/s^2\n",
    "muB = 9.27e-24  # Bohr magneton in J/T\n",
    "IH = 13.6  # Ionization energy of hydrogen in eV\n",
    "Msun = 1.989e30  # Solar mass in kg\n",
    "Rsun = 6.960e8  # Solar radius in m\n",
    "Lsun = 3.862e26  # Solar luminosity in W\n",
    "Teff_sun = 5770  # Effective temperature of the sun in K\n",
    "AU = 1.496e11  # Astronomical unit in m\n",
    "pc = 3.086e16  # Parsec in m\n",
    "pi = math.pi"
   ]
  },
  {
   "cell_type": "code",
   "execution_count": 3,
   "metadata": {},
   "outputs": [
    {
     "name": "stdout",
     "output_type": "stream",
     "text": [
      "T    he speed of light is 300000000.0 m/s\n"
     ]
    }
   ],
   "source": [
    "print(\"T    he speed of light is\", c, \"m/s\")"
   ]
  }
 ],
 "metadata": {
  "kernelspec": {
   "display_name": "Python 3 (ipykernel)",
   "language": "python",
   "name": "python3"
  },
  "language_info": {
   "codemirror_mode": {
    "name": "ipython",
    "version": 3
   },
   "file_extension": ".py",
   "mimetype": "text/x-python",
   "name": "python",
   "nbconvert_exporter": "python",
   "pygments_lexer": "ipython3",
   "version": "3.12.0"
  }
 },
 "nbformat": 4,
 "nbformat_minor": 4
}
