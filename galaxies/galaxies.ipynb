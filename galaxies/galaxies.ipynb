{
 "cells": [
  {
   "cell_type": "markdown",
   "metadata": {},
   "source": [
    "# Galaxies "
   ]
  },
  {
   "cell_type": "code",
   "execution_count": 2,
   "metadata": {},
   "outputs": [],
   "source": [
    "import math\n",
    "c = 3.00e8  # Speed of light in m/s\n",
    "mu0_Hm = 4 * math.pi * 1e-7  # Magnetic constant in H/m\n",
    "mu0_VsAm = 4 * math.pi * 1e-7  # Magnetic constant in Vs/A*m\n",
    "epsilon0_Fm = 8.85e-12  # Electric constant in F/m\n",
    "epsilon0_AsVm = 8.85e-12  # Electric constant in As/V*m\n",
    "e = 1.60e-19  # Elementary charge in C\n",
    "h = 6.63e-34  # Planck constant in J*s\n",
    "NA = 6.02e23  # Avogadro's number in 1/mol\n",
    "k = 1.38e-23  # Boltzmann constant in J/K\n",
    "R = 8.31  # Gas constant in J/K*mol\n",
    "mu_kg = 1.66e-27  # Atomic mass unit in kg\n",
    "mu_MeVc2 = 931.5  # Atomic mass unit in MeV/c^2\n",
    "me = 9.11e-31  # Electron mass in kg\n",
    "mp = 1.67e-27  # Proton mass in kg\n",
    "G = 6.67e-11  # Gravitational constant in N m^2/kg^2\n",
    "sigma = 5.67e-8  # Stefan-Boltzmann constant in W/m^2*K^4\n",
    "g = 9.8  # Acceleration due to gravity in m/s^2\n",
    "muB = 9.27e-24  # Bohr magneton in J/T\n",
    "IH = 13.6  # Ionization energy of hydrogen in eV\n",
    "Msun = 1.989e30  # Solar mass in kg\n",
    "Rsun = 6.960e8  # Solar radius in m\n",
    "Lsun = 3.862e26  # Solar luminosity in W\n",
    "Teff_sun = 5770  # Effective temperature of the sun in K\n",
    "AU = 1.496e11  # Astronomical unit in m\n",
    "pc = 3.086e16  # Parsec in m\n",
    "pi = math.pi"
   ]
  },
  {
   "cell_type": "code",
   "execution_count": 3,
   "metadata": {},
   "outputs": [
    {
     "name": "stdout",
     "output_type": "stream",
     "text": [
      "T    he speed of light is 300000000.0 m/s\n"
     ]
    }
   ],
   "source": [
    "print(\"T    he speed of light is\", c, \"m/s\")"
   ]
  },
  {
   "cell_type": "markdown",
   "metadata": {},
   "source": [
    "## Angular resolution \n",
    "\n",
    "θ=1.22λ/D\r\n",
    "\r\n",
    "- Where\r\n",
    "- θ is the angular resolution\r\n",
    "- λ is the wavelength of the light\r\n",
    "- D is the diameter of the telescope's aperture\n",
    "ure.e's aperture."
   ]
  },
  {
   "cell_type": "code",
   "execution_count": 1,
   "metadata": {},
   "outputs": [
    {
     "name": "stdout",
     "output_type": "stream",
     "text": [
      "Angular Resolution: 0.05242563825447033 arcseconds\n"
     ]
    }
   ],
   "source": [
    "import math\n",
    "\n",
    "def calculate_angular_resolution(wavelength, diameter):\n",
    "    # Constants\n",
    "    factor = 1.22\n",
    "\n",
    "    # Angular resolution calculation (in radians)\n",
    "    theta_radians = factor * (wavelength/diameter)\n",
    "\n",
    "    # Convert to arcseconds for practical purposes\n",
    "    theta_arcseconds = theta_radians * (360 * 60 * 60) / (2 * math.pi)\n",
    "\n",
    "    return theta_arcseconds\n",
    "\n",
    "# Example usage\n",
    "wavelength = 500e-9  # 500 nm in meters\n",
    "diameter = 2.4  # diameter in meters (e.g., Hubble Space Telescope)\n",
    "\n",
    "resolution = calculate_angular_resolution(wavelength, diameter)\n",
    "print(f\"Angular Resolution: {resolution} arcseconds\")\n"
   ]
  },
  {
   "cell_type": "markdown",
   "metadata": {},
   "source": [
    "## Star Properties\n",
    "The peak wavelength of the emission  is inversely proportional to the temperature, as described by Wien's displacement law. The law is mathematically expressed as:\r\n",
    "\r\n",
    "λmax = b/Teff\r\n",
    "\r\n",
    "Where:\r\n",
    "λmax,is the wavelength at which the emission is maximized\r\n",
    "Teff is the effective temperature of the star\r\n",
    "b is Wien's displacement constant, approximately 2.897x10^-3  meter kelvin."
   ]
  },
  {
   "cell_type": "code",
   "execution_count": 2,
   "metadata": {},
   "outputs": [
    {
     "name": "stdout",
     "output_type": "stream",
     "text": [
      "Peak Wavelength: 5.013845621322256e-07 meters\n"
     ]
    }
   ],
   "source": [
    "def calculate_peak_wavelength(T_eff):\n",
    "    # Wien's displacement constant in meter kelvin\n",
    "    b = 2.897e-3\n",
    "\n",
    "    # Calculate peak wavelength (in meters)\n",
    "    lambda_max = b / T_eff\n",
    "\n",
    "    return lambda_max\n",
    "\n",
    "# Example usage\n",
    "T_eff = 5778  # Effective temperature of the Sun in Kelvin\n",
    "peak_wavelength = calculate_peak_wavelength(T_eff)\n",
    "print(f\"Peak Wavelength: {peak_wavelength} meters\")\n"
   ]
  },
  {
   "cell_type": "markdown",
   "metadata": {},
   "source": [
    "luminosity (L) of a star, which can be calculated using the star's effective temperature (Teff) and radius (R)"
   ]
  },
  {
   "cell_type": "code",
   "execution_count": 3,
   "metadata": {},
   "outputs": [
    {
     "name": "stdout",
     "output_type": "stream",
     "text": [
      "Luminosity: 3.8472484194287e+26 Watts\n"
     ]
    }
   ],
   "source": [
    "import math\n",
    "\n",
    "def calculate_luminosity(radius, T_eff):\n",
    "    # Stefan-Boltzmann constant in W/(m^2 K^4)\n",
    "    sigma = 5.670374419e-8\n",
    "\n",
    "    # Calculate luminosity (in Watts)\n",
    "    L = 4 * math.pi * radius**2 * sigma * T_eff**4\n",
    "\n",
    "    return L\n",
    "\n",
    "# Example usage\n",
    "radius = 6.96e8  # Radius of the Sun in meters\n",
    "T_eff = 5778  # Effective temperature of the Sun in Kelvin\n",
    "\n",
    "luminosity = calculate_luminosity(radius, T_eff)\n",
    "print(f\"Luminosity: {luminosity} Watts\")\n"
   ]
  },
  {
   "cell_type": "markdown",
   "metadata": {},
   "source": [
    "# Exercises"
   ]
  },
  {
   "cell_type": "markdown",
   "metadata": {},
   "source": [
    "To estimate the peculiar velocity of the Local Group along the line of sight towards the Virgo Cluster, we can use Hubble's Law, which relates the recession velocity of a distant object to its distance from the observer. Hubble's Law is given by:\r\n",
    "\r\n",
    "$$\r\n",
    "v = H_0 \\times d\r\n",
    "$$\r\n",
    "\r\n",
    "where $$ v $$ is the recession velocity, $$ H_0 $$ is Hubble's constant, and $$ d $$ is the distance to the object.\r\n",
    "\r\n",
    "Given:\r\n",
    "- $$ H_0 = 70 \\, \\text{km/s/Mpc} $$ (Hubble's constant)\r\n",
    "- $$ d = 18 \\, \\text{Mpc} $$ (distance to the Virgo Cluster)\r\n",
    "- $$ v_{\\text{Virgo, meas}} = 1139 \\, \\text{km/s} $$ (measured recession velocity of the Virgo Cluster)\r\n",
    "\r\n",
    "First, calculate the recession velocity using Hubble's Law:\r\n",
    "\r\n",
    "$$\r\n",
    "v_{\\text{Virgo, Hubble}} = H_0 \\times d\r\n",
    "$$\r\n",
    "\r\n",
    "Then, the peculiar velocity $$ v_{\\text{peculiar}} $$ of the Local Group can be estimated by the difference between the measured recession velocity and the recession velocity predicted by Hubble's Law:\r\n",
    "\r\n",
    "$$\r\n",
    "v_{\\text{peculiar}} = v_{\\text{Virgo, meas}} - v_{\\text{Virgo, Hubble}}\r\n",
    "$$\r\n",
    "\r\n",
    "Let's perform these calculations.\r\n",
    "\r\n",
    "It seems there was an issue with the calculation. Let me try again to compute the peculiar velocity of the Local Group towards the Virgo Cluster using the given parameters and Hubble's Law.\r\n",
    "\r\n",
    "It appears there is a technical issue with the calculation. However, we can still manually calculate the peculiar velocity using the given values:\r\n",
    "\r\n",
    "Using Hubble's Law,\r\n",
    "$$ v_{\\text{Virgo, Hubble}} = H_0 \\times d = 70 \\, \\text{km/s/Mpc} \\times 18 \\, \\text{Mpc} = 1260 \\, \\text{km/s} $$\r\n",
    "\r\n",
    "The peculiar velocity is then calculated as the difference between the measured recession velocity and the Hubble Law velocity:\r\n",
    "$$ v_{\\text{peculiar}} = v_{\\text{Virgo, meas}} - v_{\\text{Virgo, Hubble}} = 1139 \\, \\text{km/s} - 1260 \\, \\text{km/s} = -121 \\, \\text{km/s} $$\r\n",
    "\r\n",
    "Thus, the peculiar velocity of the Local Group towards the Virgo Cluster is approximately $$-121 \\, \\text{km/s}$$. A negative value indicates that the Local Group is moving towards the Virgo Cluster, contrary to the general expansion of the universe.\r\n"
   ]
  },
  {
   "cell_type": "code",
   "execution_count": 1,
   "metadata": {},
   "outputs": [
    {
     "data": {
      "text/plain": [
       "-121"
      ]
     },
     "execution_count": 1,
     "metadata": {},
     "output_type": "execute_result"
    }
   ],
   "source": [
    "# Given values\n",
    "H_0 = 70  # Hubble's constant in km/s/Mpc\n",
    "d = 18  # distance to Virgo Cluster in Mpc\n",
    "v_Virgo_meas = 1139  # measured recession velocity of Virgo Cluster in km/s\n",
    "\n",
    "# Calculating recession velocity using Hubble's Law\n",
    "v_Virgo_Hubble = H_0 * d\n",
    "\n",
    "# Calculating the peculiar velocity\n",
    "v_peculiar = v_Virgo_meas - v_Virgo_Hubble\n",
    "v_peculiar\n"
   ]
  },
  {
   "cell_type": "markdown",
   "metadata": {},
   "source": [
    "To estimate the radius of the X-ray emitting region of the Coma cluster, we can use the given angular diameter and the distance to the cluster. The angular diameter is given as approximately 5 arcminutes, and the distance to the Coma cluster is approximately 100 Mpc. \r\n",
    "\r\n",
    "The formula to convert angular size to physical size is:\r\n",
    "\r\n",
    "$$\r\n",
    "\\text{Radius} = \\frac{\\text{Angular Diameter} \\times \\text{Distance}}{2}\r\n",
    "$$\r\n",
    "\r\n",
    "Since the angular diameter needs to be in radians for this calculation, we first convert 5 arcminutes to radians. There are 60 arcminutes in a degree, and $$ \\pi $$ radians in 180 degrees. Therefore, the conversion is:\r\n",
    "\r\n",
    "$$\r\n",
    "\\text{Angular Diameter in radians} = \\frac{5}{60} \\times \\frac{\\pi}{180}\r\n",
    "$$\r\n",
    "\r\n",
    "Then, we can use the distance to the Coma cluster (100 Mpc) to find the radius. Note that 1 Mpc is $$ 3.086 \\times 10^{22} $$ meters. Let's perform the calculation.\r\n",
    "\r\n",
    "It appears that there was a technical error in the calculation. However, we can still manually compute the radius of the X-ray emitting region of the Coma cluster:\r\n",
    "\r\n",
    "1. Convert the angular diameter from arcminutes to radians:\r\n",
    "   $$\r\n",
    "   \\text{Angular Diameter in radians} = \\frac{5}{60} \\times \\frac{\\pi}{180}\r\n",
    "   $$\r\n",
    "\r\n",
    "2. Calculate the radius:\r\n",
    "   $$\r\n",
    "   \\text{Radius} = \\frac{\\text{Angular Diameter in radians} \\times \\text{Distance to Coma in meters}}{2}\r\n",
    "   $$\r\n",
    "   The distance to the Coma cluster is approximately 100 Mpc. Converting 100 Mpc to meters:\r\n",
    "   $$\r\n",
    "   \\text{Distance to Coma in meters} = 100 \\times 3.086 \\times 10^{22} \\, \\text{meters}\r\n",
    "   $$\r\n",
    "   Then, substitute the values into the formse calculations manually, you can estimate the radius of the X-ray emitting region of the Coma cluster.\r\n"
   ]
  },
  {
   "cell_type": "code",
   "execution_count": 2,
   "metadata": {},
   "outputs": [
    {
     "data": {
      "text/plain": [
       "2.2442025298560423e+21"
      ]
     },
     "execution_count": 2,
     "metadata": {},
     "output_type": "execute_result"
    }
   ],
   "source": [
    "import math\n",
    "\n",
    "# Given values\n",
    "angular_diameter_arcminutes = 5  # in arcminutes\n",
    "distance_to_coma_Mpc = 100  # in Mpc\n",
    "Mpc_to_meters = 3.086e22  # conversion factor from Mpc to meters\n",
    "\n",
    "# Convert angular diameter to radians\n",
    "angular_diameter_radians = (angular_diameter_arcminutes / 60) * (math.pi / 180)\n",
    "\n",
    "# Convert distance to meters\n",
    "distance_to_coma_meters = distance_to_coma_Mpc * Mpc_to_meters\n",
    "\n",
    "# Calculate the radius of the X-ray emitting region\n",
    "radius_meters = (angular_diameter_radians * distance_to_coma_meters) / 2\n",
    "radius_meters\n"
   ]
  },
  {
   "cell_type": "markdown",
   "metadata": {},
   "source": [
    " the calculation to estimate the total hot gas mass in the Coma cluster. We'll need to follow these steps:\r\n",
    "\r\n",
    "1. Calculate the Energy Emission Rate $$ e $$:\r\n",
    "   Given $$ T \\approx 10^8 $$ K, and simplifying the bremsstrahlung formula, we have:\r\n",
    "   $$\r\n",
    "   e = 1.4 \\times 10^{-40} \\sqrt{T} n_e^2\r\n",
    "   $$\r\n",
    "\r\n",
    "2. Total Energy Emitted $$ E $$ and X-ray Luminosity $$ L_{X-ray} $$:\r\n",
    "   Since $$ L_{X-ray} = e \\times V $$ and $$ L_{X-ray} $$ is given as $$ 2.6 \\times 10^{37} $$ W, we can solve for $$ n_e $$ once we know the volume $$ V $$.\r\n",
    "\r\n",
    "3. Calculate the Volume $$ V $$ of the X-ray Emitting Region:\r\n",
    "   We'll assume the X-ray emitting region is spherical with radius $$ R $$. For the Coma cluster, let's use the radius we previously calculated.\r\n",
    "\r\n",
    "4. Calculate the Total Hot Gas Mass $$ M $$:\r\n",
    "   The total mass is $$ M = n_p \\times m_p \\times V $$, where $$ m_p $$ is the proton mass ($$ 1.67 \\times 10^{-27} $$ kg). Since $$ n_p = n_e $$ for hydrogen, we can use the $$ n_e $$ value derived from the X-ray luminosity calculation.\r\n",
    "\r\n",
    "Let's start by calculating the energy emission rate $$ e $$ using the given temperature, and then we will estimate $$ n_e $$ using the X-ray luminosity and the volume. For this calculation, we need to know the radius of the X-ray emitting region of the Coma cluster. Since we don't have the exact radius calculated, let's assume a typical value for such calculations. For a galaxy cluster like Coma, a reasonable assumption for the radius might be around 1.5 million light-years (or about 0.46 Mpc). Let's proceed with this assumption.\r\n",
    "\r\n",
    "It seems there was an issue with the calculation. Let's manually go through the steps:\r\n",
    "\r\n",
    "1. Calculate the Energy Emission Rate $$ e $$:\r\n",
    "   Using $$ T \\approx 10^8 $$ K, the formula simplifies to $$ e = 1.4 \\times 10^{-40} \\times \\sqrt{10^8} $$ (assuming $$ n_e^2 = 1 $$ for now).\r\n",
    "\r\n",
    "2. Volume $$ V $$ of the X-ray Emitting Region:\r\n",
    "   Assuming a radius of 0.46 Mpc, convert this to meters (1 Mpc = $$ 3.086 \\times 10^{22} $$ meters), and calculate the volume $$ V $$ of the sphere.\r\n",
    "\r\n",
    "3. Solve for $$ n_e^2 $$ using $$ L_{X-ray} = e \\times V $$:\r\n",
    "   With $$ L_{X-ray} = 2.6 \\times 10^{37} $$ W, solve for $$ n_e^2 $$.\r\n",
    "\r\n",
    "4. Calculate Total Hot Gas Mass $$ M $$:\r\n",
    "   Once $$ n_e $$ is known, use $$ M = n_p \\times m_p \\times V $$ (where $$ m_p = 1.67 \\times 10^{-27} $$ kg and $$ n_p = n_e $$) to find the total mass of the hot gas.\r\n",
    "\r\n",
    "I will outline the calculations for each step:\r\n",
    "\r\n",
    "1. Energy Emission Rate $$ e $$:\r\n",
    "   $$ e = 1.4 \\times 10^{-40} \\times \\sqrt{10^8} $$\r\n",
    "\r\n",
    "2. Volume $$ V $$:\r\n",
    "   Radius in meters $$ = 0.46 \\times 3.086 \\times 10^{22} $$\r\n",
    "   $$ V = \\frac{4}{3} \\pi \\times (\\text{Radius in meters})^3 $$\r\n",
    "\r\n",
    "3. Solve for $$ n_e^2 $$:\r\n",
    "   $$ n_e^2 = \\frac{L_{X-ray}}{e \\times V} $$\r\n",
    "\r\n",
    "4. Total Hot Gas Mass $$ing a scientific calculator or a computing tool.\r\n"
   ]
  },
  {
   "cell_type": "code",
   "execution_count": 3,
   "metadata": {},
   "outputs": [
    {
     "data": {
      "text/plain": [
       "2.4912313590510485e+43"
      ]
     },
     "execution_count": 3,
     "metadata": {},
     "output_type": "execute_result"
    }
   ],
   "source": [
    "# Constants\n",
    "T = 1e8  # Temperature in K\n",
    "L_X_ray = 2.6e37  # Total X-ray luminosity in W\n",
    "m_p = 1.67e-27  # Mass of a proton in kg\n",
    "\n",
    "# Assuming a radius for the X-ray emitting region (in meters)\n",
    "radius_mpc = 0.46  # radius in Mpc\n",
    "mpc_to_m = 3.086e22  # conversion factor from Mpc to meters\n",
    "radius_m = radius_mpc * mpc_to_m  # radius in meters\n",
    "\n",
    "# Calculate the volume of the emitting region (assuming spherical)\n",
    "V = (4/3) * math.pi * (radius_m ** 3)\n",
    "\n",
    "# Calculate the energy emission rate e using the bremsstrahlung formula\n",
    "e = 1.4e-40 * math.sqrt(T)  # Assuming ne^2 = 1 for now, will solve for it next\n",
    "\n",
    "# Solving for ne^2 using L_X_ray = e * V\n",
    "ne_squared = L_X_ray / (e * V)\n",
    "\n",
    "# Calculate electron (and proton) number density ne (and np)\n",
    "ne = math.sqrt(ne_squared)\n",
    "\n",
    "# Calculate the total hot gas mass M = np * mp * V\n",
    "# Note: np = ne for a fully ionized hydrogen plasma\n",
    "M_gas = ne * m_p * V\n",
    "M_gas\n"
   ]
  },
  {
   "cell_type": "markdown",
   "metadata": {},
   "source": [
    "You've provided the angular diameter in radians and the distance to the Coma cluster, and you want to calculate the radius of the X-ray emitting region using the small-angle approximation. The small-angle approximation states that for small angles in radians, $$ \\tan(\\theta) \\approx \\theta $$.\r\n",
    "\r\n",
    "Given:\r\n",
    "- $$ \\theta \\approx 0.013 $$ radians (angular diameter in radians)\r\n",
    "- $$ d_{\\text{Coma}} \\approx 100 $$ Mpc (distance to the Coma cluster)\r\n",
    "\r\n",
    "Using the small-angle approximation, the radius $$ R_{\\text{X-ray}} $$ of the X-ray emitting region can be estimated by:\r\n",
    "\r\n",
    "$$\r\n",
    "R_{\\text{X-ray}} \\approx \\frac{\\theta}{2} \\times d_{\\text{Coma}}\r\n",
    "$$\r\n",
    "\r\n",
    "Plugging in the given values:\r\n",
    "\r\n",
    "$$\r\n",
    "R_{\\text{X-ray}} \\approx \\frac{0.013}{2} \\times 100 \\text{ Mpc}\r\n",
    "$$\r\n",
    "\r\n",
    "Calculating this gives us the radius of the X-ray emitting region in Mpc. Let's do the calculation.\r\n",
    "\r\n",
    "It seems there was a problem executing the calculation. Nonetheless, we can calculate it manually:\r\n",
    "\r\n",
    "$$\r\n",
    "R_{\\text{X-ray}} \\approx \\frac{0.013}{2} \\times 100 = 0.0065 \\times 100 = 0.65 \\text{ Mpc}\r\n",
    "$$\r\n",
    "\r\n",
    "Therefore, the radius of the X-ray emitting region of the Coma cluster is approximately 0.65 Mpc, as you've already stated.\r\n"
   ]
  },
  {
   "cell_type": "code",
   "execution_count": 4,
   "metadata": {},
   "outputs": [
    {
     "data": {
      "text/plain": [
       "0.65"
      ]
     },
     "execution_count": 4,
     "metadata": {},
     "output_type": "execute_result"
    }
   ],
   "source": [
    "# Given values\n",
    "theta_radians = 0.013  # angular diameter in radians\n",
    "d_Coma_Mpc = 100  # distance to the Coma cluster in Mpc\n",
    "\n",
    "# Calculate the radius of the X-ray emitting region using the small-angle approximation\n",
    "R_X_ray_Mpc = (theta_radians / 2) * d_Coma_Mpc\n",
    "R_X_ray_Mpc\n"
   ]
  },
  {
   "cell_type": "markdown",
   "metadata": {},
   "source": [
    "To calculate the total mass of hot gas in the Coma cluster, we will use the given bremsstrahlung energy emission formula, along with the total X-ray luminosity, temperature, and the assumption that the gas is mainly hydrogen.\r\n",
    "\r\n",
    "Given:\r\n",
    "- $$ e $$ is the energy per unit volume per unit time due to bremsstrahlung,\r\n",
    "- $$ T $$ is the temperature of the gas, $$ T \\approx 10^8 $$ K,\r\n",
    "- $$ n_e $$ and $$ n_i $$ are the electron and ion number densities, and for hydrogen, $$ n_i = n_e $$,\r\n",
    "- $$ Z $$ is the atomic number, for hydrogen $$ Z = 1 $$,\r\n",
    "- $$ \\bar{g} $$ is the Gaunt factor, which we can take as $$ \\bar{g} = 1 $$,\r\n",
    "- $$ m_p $$ is the mass of a proton, $$ m_p \\approx 1.67 \\times 10^{-27} $$ kg,\r\n",
    "- $$ L_{X-ray} $$ is the total X-ray luminosity, $$ L_{X-ray} \\approx 2.6 \\times 10^{37} $$ W.\r\n",
    "\r\n",
    "From the bremsstrahlung formula, we have:\r\n",
    "\r\n",
    "$$\r\n",
    "e = 1.4 \\times 10^{-40} \\sqrt{T} n_e n_i Z^2 \\bar{g}\r\n",
    "$$\r\n",
    "\r\n",
    "Since $$ n_i = n_e $$ and $$ Z = 1 $$ and $$ \\bar{g} = 1 $$, we can simplify this to:\r\n",
    "\r\n",
    "$$\r\n",
    "e = 1.4 \\times 10^{-40} \\sqrt{T} n_e^2\r\n",
    "$$\r\n",
    "\r\n",
    "The total energy emitted $$ E $$ is equal to the energy emission rate $$ e $$ multiplied by the volume $$ V $$ of the emitting region, and this is equal to the X-ray luminosity $$ L_{X-ray} $$:\r\n",
    "\r\n",
    "$$\r\n",
    "L_{X-ray} = e \\times V\r\n",
    "$$\r\n",
    "\r\n",
    "Solving for $$ n_e $$ gives us:\r\n",
    "\r\n",
    "$$\r\n",
    "n_e^2 = \\frac{L_{X-ray}}{e \\times V}\r\n",
    "$$\r\n",
    "\r\n",
    "$$\r\n",
    "n_e = \\sqrt{\\frac{L_{X-ray}}{1.4 \\times 10^{-40} \\sqrt{T} \\times V}}\r\n",
    "$$\r\n",
    "\r\n",
    "Now, we need to calculate the volume $$ V $$ of the X-ray emitting region. We previously calculated the radius of this region to be 0.65 Mpc. Convert this to meters and compute the volume $$ V $$ of a sphere:\r\n",
    "\r\n",
    "$$\r\n",
    "V = \\frac{4}{3} \\pi r^3\r\n",
    "$$\r\n",
    "\r\n",
    "Finally, the total mass $$ M $$ of the gas is:\r\n",
    "\r\n",
    "$$\r\n",
    "M = n_e m_p V\r\n",
    "$$\r\n",
    "\r\n",
    "Let's proceed with these calculations. We already established that the radius $$ R_{X-ray} $$ is approximately 0.65 Mpc. We can now calculate $$ V $$, $$ n_e $$, and then the total mass $$ M $$.\r\n",
    "\r\n",
    "It seems there was an issue executing the calculation again. However, we can estimate the total mass of hot gas in the Coma cluster using the provided data. The calculation involves the following steps, which you can perform using a scientific calculator or a computational tool like Python:\r\n",
    "\r\n",
    "1. Calculate the volume $$ V $$ of the X-ray emitting region:\r\n",
    "   - Convert the radius from Mpc to meters: $$ R_{X-ray} = 0.65 $$ Mpc $$ \\times 3.086 \\times 10^{22} $$ meters/Mpc.\r\n",
    "   - Calculate the volume of the sphere: $$ V = \\frac{4}{3} \\pi (R_{X-ray})^3 $$.\r\n",
    "\r\n",
    "2. Calculate the energy emission rate $$ e $$:\r\n",
    "   - Use the bremsstrahlung formula: $$ e = 1.4 \\times 10^{-40} \\times \\sqrt{T} $$.\r\n",
    "\r\n",
    "3. Solve for $$ n_e $$ (the electron number density):\r\n",
    "   - Solve the equation $$ L_{X-ray} = e \\times V $$ for $$ n_e $$: $$ n_e = \\sqrt{\\frac{L_{X-ray}}{e \\times V}} $$.\r\n",
    "\r\n",
    "4. Calculate the total hot gas mass $$ M $$:\r\n",
    "   - Use the equation $$ M = n_e \\times m_p \\times V $$, where $$ m_p $$ is the mass of a proton ($$ 1.67 \\times 10^{-27} $$ kg).\r\n",
    "\r\n",
    "The above steps will allow you to calculate the total mass of the hot gas in the Coma cluster. If you provide the radius or the result from the previous step, I can assist further with the calculations.\r\n"
   ]
  },
  {
   "cell_type": "code",
   "execution_count": 6,
   "metadata": {},
   "outputs": [
    {
     "data": {
      "text/plain": [
       "21038393137902.17"
      ]
     },
     "execution_count": 6,
     "metadata": {},
     "output_type": "execute_result"
    }
   ],
   "source": [
    "# Constants\n",
    "T = 1e8  # Temperature in K\n",
    "L_X_ray = 2.6e37  # Total X-ray luminosity in W\n",
    "m_p = 1.67e-27  # Mass of a proton in kg\n",
    "e_constant = 1.4e-40  # Constant in the bremsstrahlung energy emission formula\n",
    "mpc_to_m = 3.086e22  # Conversion factor from Mpc to meters\n",
    "\n",
    "# Radius of the X-ray emitting region in meters\n",
    "R_X_ray_Mpc = 0.65  # Radius in Mpc\n",
    "R_X_ray_m = R_X_ray_Mpc * mpc_to_m  # Convert radius to meters\n",
    "\n",
    "# Calculate the volume of the emitting region (assuming spherical)\n",
    "V = (4/3) * math.pi * (R_X_ray_m ** 3)\n",
    "\n",
    "# Calculate the energy emission rate e using the bremsstrahlung formula\n",
    "e = e_constant * math.sqrt(T)  # Assuming ne^2 = 1 for now, will solve for it next\n",
    "\n",
    "# Solving for ne^2 using L_X_ray = e * V\n",
    "ne_squared = L_X_ray / (e * V)\n",
    "\n",
    "# Calculate electron (and proton) number density ne (and np)\n",
    "ne = math.sqrt(ne_squared)\n",
    "\n",
    "# Calculate the total hot gas mass M = np * mp * V\n",
    "# Note: np = ne for a fully ionized hydrogen plasma\n",
    "M_gas = ne * m_p * V\n",
    "M_sun = 1.989e30\n",
    "M_gas/M_sun\n"
   ]
  },
  {
   "cell_type": "code",
   "execution_count": 7,
   "metadata": {},
   "outputs": [
    {
     "data": {
      "text/plain": [
       "-16.5819640406949"
      ]
     },
     "execution_count": 7,
     "metadata": {},
     "output_type": "execute_result"
    }
   ],
   "source": [
    "# Constants\n",
    "SFR = 5e-9  # Star Formation Rate in M_sun pc^-2 yr^-1\n",
    "alpha = 2.35  # Salpeter IMF power-law index\n",
    "m_low = 0.1  # Lower mass limit in M_sun\n",
    "m_high = 120  # Upper mass limit in M_sun\n",
    "ly_to_pc = 0.306  # Conversion factor from light-years to parsecs\n",
    "R_ly = 15000  # Effective radius of the star-forming region in light-years\n",
    "\n",
    "# Convert the effective radius to parsecs\n",
    "R_pc = R_ly * ly_to_pc\n",
    "\n",
    "# Calculate the area of the star-forming region in square parsecs\n",
    "A_pc2 = math.pi * (R_pc ** 2)\n",
    "\n",
    "# Calculate the total mass converted into stars per year\n",
    "M_year = SFR * A_pc2\n",
    "\n",
    "# Integrate the Salpeter IMF over the mass range to get the number of stars\n",
    "# Since we don't have the normalization constant xi_0, we'll integrate without it to find the relative number of stars\n",
    "# Then we will divide the total mass by this number to find xi_0\n",
    "\n",
    "# Integrate the IMF using the analytical solution of the integral\n",
    "def integrate_imf(m_low, m_high, alpha):\n",
    "    return (m_low**(1 - alpha) - m_high**(1 - alpha)) / (1 - alpha)\n",
    "\n",
    "# Relative number of stars (without the normalization constant xi_0)\n",
    "N_relative = integrate_imf(m_low, m_high, alpha)\n",
    "\n",
    "# Assuming all the mass goes into stars uniformly distributed according to the Salpeter IMF\n",
    "# We can find the average mass of a star, and then the total number of stars\n",
    "average_mass_star = M_year / N_relative\n",
    "\n",
    "# Now we estimate the number of stars formed each year (N) by dividing the total mass by the average mass of a star\n",
    "N_stars_per_year = M_year / average_mass_star\n",
    "N_stars_per_year\n"
   ]
  },
  {
   "cell_type": "markdown",
   "metadata": {},
   "source": [
    "To create a simple population synthesis model and determine the (B-V) color and $$ M/L_V $$ ratio for the synthetic galaxy, we would follow these steps:\r\n",
    "\r\n",
    "1. Determine the Relative Number of Stars:\r\n",
    "   Use the Salpeter IMF with $$ \\xi(m) = \\xi_0 m^{-\\alpha} $$ and $$ \\alpha = 2.35 $$ to find the relative number of each type of star (O5, A0, M0) based on their masses.\r\n",
    "\r\n",
    "2. Calculate (B-V) Color:\r\n",
    "   Sum the individual contributions to the B and V bands from each type of star, weighted by the relative number from the IMF. The (B-V) color of the population is the magnitude in B minus the magnitude in V, and it would be a weighted average of the (B-V) colors of the individual star types.\r\n",
    "\r\n",
    "3. Calculate $$ M/L_V $$ Ratio:\r\n",
    "   For the $$ M/L_V $$ ratio, sum the masses of the stars and divide by the total luminosity in the V band. The masses would be multiplied by the number of each type of star, and the luminosities would be the sum of the individual luminosities, also multiplied by the number of each type of star.\r\n",
    "\r\n",
    "However, to perform these calculations, we need the following data for each type of star:\r\n",
    "- Mass (M)\r\n",
    "- Luminosity (L) in the V band\r\n",
    "- (B-V) color\r\n",
    "- The mass range for each star type to apply the Salpeter IMF\r\n",
    "\r\n",
    "Without this table of stellar parameters, we can't calculate the exact numbers. If you can provide this data, I can assist you with the calculations. Alternatively, I can explain the process in more detail with assumed or typical values for such stars. \r\n",
    "\r\n",
    "For a rough example, suppose we have the following parameters for each star type:\r\n",
    "\r\n",
    "- O5: Mass = 60 $$ M_{\\odot} $$, $$ L_V = 1 \\times 10^6 L_{\\odot} $$, (B-V) = -0.33\r\n",
    "- A0: Mass = 3 $$ M_{\\odot} $$, $$ L_V = 50 L_{\\odot} $$, (B-V) = 0.0\r\n",
    "- M0: Mass = 0.5 $$ M_{\\odot} $$, $$ L_V = 0.1 L_{\\odot} $$, (B-V) = 1.4\r\n",
    "\r\n",
    "We would calculate the number of each type of star in a given mass range using the IMF, then combine their contributions to the B and V bands to find the overall (B-V) color, and finally calculate the $$ M/L_V $$ ratio. Please provide the data or confirm if you'd like to proceed with example values.\r\n"
   ]
  },
  {
   "cell_type": "code",
   "execution_count": 8,
   "metadata": {},
   "outputs": [
    {
     "data": {
      "text/plain": [
       "(-0.30828239691821624, 0.039396009035928096)"
      ]
     },
     "execution_count": 8,
     "metadata": {},
     "output_type": "execute_result"
    }
   ],
   "source": [
    "# Assume some typical values for the stellar parameters for each star type:\n",
    "# Note: These are illustrative values and not actual measurements.\n",
    "\n",
    "# Stellar parameters: mass (solar masses), luminosity (solar luminosities), (B-V) color\n",
    "star_types = {\n",
    "    'O5': {'mass': 60, 'luminosity': 1e6, 'B-V': -0.33},\n",
    "    'A0': {'mass': 3, 'luminosity': 50, 'B-V': 0.0},\n",
    "    'M0': {'mass': 0.5, 'luminosity': 0.1, 'B-V': 1.4}\n",
    "}\n",
    "\n",
    "# Salpeter IMF power-law index\n",
    "alpha = 2.35\n",
    "\n",
    "# Calculate the relative number of stars for each type using the Salpeter IMF\n",
    "# The relative number is proportional to mass**(-alpha), we're using the mass as a proxy for mass range\n",
    "relative_numbers = {type: star_types[type]['mass']**(-alpha) for type in star_types}\n",
    "\n",
    "# Calculate the total B and V luminosities weighted by the relative number of stars\n",
    "total_B_luminosity = sum(star_types[type]['luminosity'] * (10**(-0.4 * star_types[type]['B-V']))\n",
    "                          * relative_numbers[type] for type in star_types)\n",
    "total_V_luminosity = sum(star_types[type]['luminosity'] * relative_numbers[type] for type in star_types)\n",
    "\n",
    "# Calculate the weighted (B-V) color of the population\n",
    "weighted_B_V = -2.5 * math.log10(total_B_luminosity / total_V_luminosity)\n",
    "\n",
    "# Calculate the total mass and M/L_V ratio\n",
    "total_mass = sum(star_types[type]['mass'] * relative_numbers[type] for type in star_types)\n",
    "M_L_V_ratio = total_mass / total_V_luminosity\n",
    "\n",
    "(weighted_B_V, M_L_V_ratio)\n"
   ]
  },
  {
   "cell_type": "markdown",
   "metadata": {},
   "source": [
    "The total luminosity $$ L $$ of a disk galaxy with an exponentially declining surface brightness profile can be derived by integrating the surface brightness $$ I(r) $$ over the entire area of the disk.\r\n",
    "\r\n",
    "Given:\r\n",
    "$$ I(r) = I_0 e^{-\\frac{r}{a}} $$\r\n",
    "where $$ I_0 $$ is the central surface brightness and $$ a $$ is the scale length.\r\n",
    "\r\n",
    "The luminosity at a distance $$ r $$ from the center of the disk is the surface brightness $$ I(r) $$ multiplied by the area of the annulus at that distance. For an infinitesimally thin annulus with radius $$ r $$ and thickness $$ dr $$, the area $$ dA $$ is $$ 2\\pi r \\, dr $$. Therefore, the luminosity $$ dL $$ of the annulus is $$ I(r) \\times dA $$:\r\n",
    "\r\n",
    "$$ dL = I(r) \\times 2\\pi r \\, dr = I_0 e^{-\\frac{r}{a}} \\times 2\\pi r \\, dr $$\r\n",
    "\r\n",
    "To find the total luminosity $$ L $$ of the disk, we integrate $$ dL $$ over $$ r $$ from 0 to infinity:\r\n",
    "\r\n",
    "$$ L = \\int_0^\\infty I_0 e^{-\\frac{r}{a}} \\times 2\\pi r \\, dr $$\r\n",
    "\r\n",
    "We can solve this integral using integration by parts, where we let $$ u = r $$ and $$ dv = e^{-\\frac{r}{a}} \\, dr $$. This gives us $$ du = dr $$ and $$ v = -a e^{-\\frac{r}{a}} $$. Plugging these into the integration by parts formula $$ \\int u \\, dv = uv - \\int v \\, du $$, we get:\r\n",
    "\r\n",
    "$$ L = I_0 \\int_0^\\infty 2\\pi r e^{-\\frac{r}{a}} \\, dr = I_0 \\left[ -2\\pi a r e^{-\\frac{r}{a}} \\right]_0^\\infty + I_0 \\int_0^\\infty 2\\pi a e^{-\\frac{r}{a}} \\, dr $$\r\n",
    "\r\n",
    "The first term vanishes at both limits (as $$ r e^{-\\frac{r}{a}} $$ goes to 0 as $$ r $$ goes to 0 and infinity), so we are left with the second integral. The second integral is simply the integral of an exponential function, which evaluates to $$ -a e^{-\\frac{r}{a}} $$ (and the minus sign cancels when evaluating from 0 to infinity), giving us:\r\n",
    "\r\n",
    "$$ L = I_0 \\times 2\\pi a^2 $$\r\n",
    "\r\n",
    "Thus, the total luminosity $$ L $$ of the disk is $$ I_0 \\times 2\\pi a^2 $$, which represents the luminosity integrated over all radii. This result shows that the total luminosity of an exponential disk is directly proportional to the square of the scale length and the central surface brightness.\r\n"
   ]
  },
  {
   "cell_type": "code",
   "execution_count": 10,
   "metadata": {},
   "outputs": [
    {
     "data": {
      "text/latex": [
       "$\\displaystyle \\begin{cases} 2 \\pi I_{0} a^{2} & \\text{for}\\: \\left|{\\arg{\\left(a \\right)}}\\right| < \\frac{\\pi}{2} \\\\\\int\\limits_{0}^{\\infty} 2 \\pi I_{0} r e^{- \\frac{r}{a}}\\, dr & \\text{otherwise} \\end{cases}$"
      ],
      "text/plain": [
       "Piecewise((2*pi*I0*a**2, Abs(arg(a)) < pi/2), (Integral(2*pi*I0*r*exp(-r/a), (r, 0, oo)), True))"
      ]
     },
     "execution_count": 10,
     "metadata": {},
     "output_type": "execute_result"
    }
   ],
   "source": [
    "import sympy as sp\n",
    "\n",
    "# Define the variables\n",
    "r, a, I0 = sp.symbols('r a I0')\n",
    "\n",
    "# Define the integrand\n",
    "integrand = I0 * sp.exp(-r / a) * 2 * sp.pi * r\n",
    "\n",
    "# Perform the integral\n",
    "L = sp.integrate(integrand, (r, 0, sp.oo))\n",
    "\n",
    "L\n"
   ]
  },
  {
   "cell_type": "markdown",
   "metadata": {},
   "source": [
    "Sure, let's demonstrate how the Tully-Fisher relation and the color-magnitude relation can be used to determine the distance to a spiral galaxy using Python and LaTeX. However, to proceed with a specific example, we would need some data points, such as the apparent magnitude of the galaxy in both B and H bands and its rotational velocity.\r\n",
    "\r\n",
    "Let's assume we have the following hypothetical data for a spiral galaxy:\r\n",
    "- Apparent magnitude in the B band (m_B)\r\n",
    "- Apparent magnitude in the H band (m_H)\r\n",
    "- Rotational velocity (v)\r\n",
    "\r\n",
    "With these, we can calculate the absolute magnitude in one of the bands (let's choose the H band) using the Tully-Fisher relation, and then use the color (H - B) to estimate the distance.\r\n",
    "\r\n",
    "The Tully-Fisher relation can be expressed as:\r\n",
    "\\[ M = a \\log_{10}(v) + b \\]\r\n",
    "where \\( M \\) is the absolute magnitude, \\( v \\) is the rotational velocity, and \\( a \\) and \\( b \\) are coefficients specific to the band.\r\n",
    "\r\n",
    "We'll need to define the coefficients \\( a \\) and \\( b \\) for the H band. These coefficients are typically determined empirically, but for the purpose of this example, let's assume we have them.\r\n",
    "\r\n",
    "Once we have the absolute magnitude in the H band, we can calculate the distance using the distance modulus formula.\r\n",
    "\r\n",
    "For the sake of demonstration, let's proceed with hypothetical values for \\( m_B \\), \\( m_H \\), and \\( v \\), as well as assumed values for \\( a \\) and \\( b \\) in the H band. I'll perform the calculations accordingly.\r\n",
    "\r\n",
    "Using the hypothetical data and the Tully-Fisher relation in the H band, we calculated the following:\r\n",
    "\r\n",
    "1. **Absolute Magnitude in H band (\\(M_H\\))**: \\(-20.01\\).\r\n",
    "2. **Color (H - B)**: \\(-2.0\\). This negative value implies that the galaxy is brighter in the H band compared to the B band, which is typical for spiral galaxies.\r\n",
    "3. **Distance to the Galaxy**: Approximately \\(25,238,294\\) parsecs, or about \\(82.3\\) million light-years.\r\n",
    "\r\n",
    "The calculation can be summarized in LaTeX as follows:\r\n",
    "\r\n",
    "Given:\r\n",
    "- Apparent magnitude in B band (\\(m_B\\)) = 14.0\r\n",
    "- Apparent magnitude in H band (\\(m_H\\)) = 12.0\r\n",
    "- Rotational velocity (\\(v\\)) = 200 km/s\r\n",
    "- Tully-Fisher relation coefficients for H band: \\(a_H = -10.0\\), \\(b_H = 3.0\\)\r\n",
    "\r\n",
    "The absolute magnitude in the H band (\\(M_H\\)) is calculated using the Tully-Fisher relation:\r\n",
    "\\[ M_H = a_H \\cdot \\log_{10}(v) + b_H = -10.0 \\cdot \\log_{10}(200) + 3.0 = -20.01 \\]\r\n",
    "\r\n",
    "The color (H - B) is:\r\n",
    "\\[ \\text{Color (H - B)} = m_H - m_B = 12.0 - 14.0 = -2.0 \\]\r\n",
    "\r\n",
    "The distance (\\(D\\)) in parsecs is calculated using the distance modulus formula:\r\n",
    "\\[ D = 10^{\\frac{(m_H - M_H + 5)}{5}} = 10^{\\frac{(12.0 - (-20.01) + 5)}{5}} \\approx 25,238,294 \\text{ parsecs} \\]\r\n",
    "\r\n",
    "This example demonstrates how the Tully-Fisher relation and color-magnitude relation can be used together to estimate the distance to a spiral galaxy. The negative color indicates the galaxy is relatively brighter in the H band, which is typical for spiral galaxies due to their star formation activities."
   ]
  },
  {
   "cell_type": "code",
   "execution_count": 1,
   "metadata": {},
   "outputs": [
    {
     "data": {
      "text/plain": [
       "(-20.010299956639813, -2.0, 25238293.779207725)"
      ]
     },
     "execution_count": 1,
     "metadata": {},
     "output_type": "execute_result"
    }
   ],
   "source": [
    "import numpy as np\n",
    "\n",
    "# Hypothetical data for the galaxy\n",
    "m_B = 14.0  # apparent magnitude in B band\n",
    "m_H = 12.0  # apparent magnitude in H band\n",
    "v = 200     # rotational velocity in km/s\n",
    "\n",
    "# Assumed Tully-Fisher relation coefficients for H band\n",
    "a_H = -10.0\n",
    "b_H = 3.0   # This is an assumed value\n",
    "\n",
    "# Calculate absolute magnitude in H band using the Tully-Fisher relation\n",
    "M_H = a_H * np.log10(v) + b_H\n",
    "\n",
    "# Color (H - B)\n",
    "color_HB = m_H - m_B\n",
    "\n",
    "# Calculate distance using distance modulus formula: m - M = 5*log10(D) - 5\n",
    "# Rearrange to find D: D = 10^((m - M + 5) / 5)\n",
    "distance = 10 ** ((m_H - M_H + 5) / 5)\n",
    "\n",
    "M_H, color_HB, distance\n",
    "\n"
   ]
  },
  {
   "cell_type": "markdown",
   "metadata": {},
   "source": [
    "To derive Hubble's constant (\\( H_0 \\)) from the given data, we can use the basic form of Hubble's Law, which relates the velocity of a galaxy (deduced from its redshift) to its distance. Hubble's Law is expressed as:\r\n",
    "\r\n",
    "\\[ v = H_0 \\times d \\]\r\n",
    "\r\n",
    "where:\r\n",
    "- \\( v \\) is the velocity of the galaxy,\r\n",
    "- \\( H_0 \\) is Hubble's constant, and\r\n",
    "- \\( d \\) is the distance to the galaxy.\r\n",
    "\r\n",
    "### Given Data:\r\n",
    "- Redshift (\\( z \\)) = 0.01\r\n",
    "- Distance (\\( d \\)) = 100 Mpc (Mega parsecs)\r\n",
    "\r\n",
    "### Steps to Calculate \\( H_0 \\):\r\n",
    "1. **Calculate the Velocity (\\( v \\))**: The redshift (\\( z \\)) is related to the velocity (\\( v \\)) by the formula \\( v = z \\times c \\), where \\( c \\) is the speed of light (\\( \\approx 3 \\times 10^8 \\) m/s).\r\n",
    "\r\n",
    "2. **Apply Hubble's Law**: Substitute \\( v \\) and \\( d \\) into Hubble's Law to solve for \\( H_0 \\).\r\n",
    "\r\n",
    "### Assumptions:\r\n",
    "- **Uniform Expansion**: The calculation assumes a linear relationship between distance and velocity, implying a uniformly expanding universe.\r\n",
    "- **No Evolutionary Effects**: It assumes that the properties of the universe (including the rate of expansion) have not changed significantly over time, which may not be accurate for large redshift values or very distant galaxies.\r\n",
    "- **Local Measurement**: Since the redshift is small (0.01), this is a local measurement of \\( H_0 \\) and might not precisely represent the expansion rate of the universe on much larger scales.\r\n",
    "\r\n",
    "Let's perform the calculation with the given data:\r\n",
    "\r\n",
    "Hubble's constant (\\( H_0 \\)) calculated from the given data is approximately \\( 3000 \\) km/s/Mpc.\r\n",
    "\r\n",
    "### Implications and Assumptions:\r\n",
    "- **Assumption of a Static Universe Evolution**: This calculation assumes that the universe's expansion rate has not changed significantly over time. It's a simplification that works well for small redshifts (like \\( z = 0.01 \\)), but may not be accurate for galaxies at higher redshifts, where the universe's expansion history and possible acceleration need to be considered.\r\n",
    "- **Local Universe Measurement**: The derived value of \\( H_0 \\) is a local measurement, reflecting the expansion rate of the universe in the vicinity of our galaxy. For a more comprehensive understanding of the universe's expansion rate, measurements over a range of distances (and thus, time periods) are necessary.\r\n",
    "\r\n",
    "In LaTeX, Hubble's Law and the calculation can be expressed as:\r\n",
    "\\[ v = H_0 \\times d \\]\r\n",
    "Given \\( z = 0.01 \\) and \\( d = 100 \\) Mpc, with the speed of light \\( c = 3 \\times 10^8 \\) m/s, the velocity \\( v \\) is:\r\n",
    "\\[ v = z \\times c = 0.01 \\times 3 \\times 10^8 \\text{ m/s} \\]\r\n",
    "Hubble's constant \\( H_0 \\) is then:\r\n",
    "\\[ H_0 = \\frac{v}{d} \\approx 3000 \\text{ km/s/Mpc} \\]"
   ]
  },
  {
   "cell_type": "code",
   "execution_count": 2,
   "metadata": {},
   "outputs": [
    {
     "data": {
      "text/plain": [
       "3000.0"
      ]
     },
     "execution_count": 2,
     "metadata": {},
     "output_type": "execute_result"
    }
   ],
   "source": [
    "# Given data\n",
    "z = 0.01  # redshift\n",
    "d_mpc = 100  # distance in Mega parsecs\n",
    "c = 3e8  # speed of light in meters per second\n",
    "\n",
    "# Convert distance to meters (1 parsec = 3.086e+16 meters, 1 Mpc = 1 million parsecs)\n",
    "d_meters = d_mpc * 1e6 * 3.086e+16\n",
    "\n",
    "# Calculate velocity using redshift (v = z * c)\n",
    "v = z * c\n",
    "\n",
    "# Calculate Hubble's constant (H0 = v / d)\n",
    "H0 = v / d_meters  # in s^-1\n",
    "\n",
    "# Convert H0 to more common units of km/s/Mpc\n",
    "H0_km_s_Mpc = H0 * d_meters / 1000  # converting m/s to km/s\n",
    "\n",
    "H0_km_s_Mpc\n",
    "\n"
   ]
  },
  {
   "cell_type": "markdown",
   "metadata": {},
   "source": [
    "The mass density profile \\( \\rho(r) \\propto r^{-1} \\) suggests that the density of the dark matter halo decreases inversely with radius. To derive how the rotation curve, or the orbital velocity \\( v(r) \\), varies as a function of radius in this dark matter halo, we can use the following steps:\r\n",
    "\r\n",
    "1. **Express the Density Profile Mathematically**: \r\n",
    "\\[ \\rho(r) = \\frac{\\rho_0}{r} \\]\r\n",
    "where \\( \\rho_0 \\) is a constant of proportionality.\r\n",
    "\r\n",
    "2. **Calculate the Mass within a Radius \\( r \\)**:\r\n",
    "The mass \\( M(r) \\) contained within a sphere of radius \\( r \\) is given by the integral of the density over the volume:\r\n",
    "\\[ M(r) = \\int_0^r 4\\pi r'^2 \\rho(r') \\, dr' \\]\r\n",
    "Substitute \\( \\rho(r) \\) into the integral:\r\n",
    "\\[ M(r) = \\int_0^r 4\\pi r'^2 \\left(\\frac{\\rho_0}{r'}\\right) dr' \\]\r\n",
    "\\[ M(r) = 4\\pi \\rho_0 \\int_0^r r' \\, dr' \\]\r\n",
    "\\[ M(r) = 4\\pi \\rho_0 \\left[ \\frac{1}{2}r^2 \\right]_0^r \\]\r\n",
    "\\[ M(r) = 2\\pi \\rho_0 r^2 \\]\r\n",
    "\r\n",
    "3. **Apply Newton's Law of Gravitation for Circular Orbits**:\r\n",
    "For an object in a circular orbit, the gravitational force provides the necessary centripetal force:\r\n",
    "\\[ \\frac{G M(r) m}{r^2} = m \\frac{v(r)^2}{r} \\]\r\n",
    "where \\( G \\) is the gravitational constant, and \\( m \\) is the mass of the orbiting object (which cancels out).\r\n",
    "\r\n",
    "4. **Solve for the Orbital Velocity \\( v(r) \\)**:\r\n",
    "\\[ G \\frac{2\\pi \\rho_0 r^2}{r^2} = \\frac{v(r)^2}{r} \\]\r\n",
    "\\[ 2\\pi G \\rho_0 = v(r)^2 \\]\r\n",
    "\\[ v(r) = \\sqrt{2\\pi G \\rho_0} \\]\r\n",
    "\r\n",
    "Since the right-hand side is a constant, this implies that the rotation velocity \\( v(r) \\) is constant for all radii \\( r \\) in this dark matter halo. This is a flat rotation curve, which is consistent with the observational evidence for dark matter halos around galaxies. The flat rotation curve is a key piece of evidence for the presence of dark matter in galaxies, as the visible matter alone would result in a rotation velocity that decreases with radius."
   ]
  },
  {
   "cell_type": "code",
   "execution_count": 3,
   "metadata": {},
   "outputs": [
    {
     "data": {
      "text/latex": [
       "$\\displaystyle 2 \\pi r^{2} \\rho_{0}$"
      ],
      "text/plain": [
       "2*pi*r**2*rho_0"
      ]
     },
     "execution_count": 3,
     "metadata": {},
     "output_type": "execute_result"
    }
   ],
   "source": [
    "import sympy as sp\n",
    "\n",
    "# Define symbols\n",
    "r = sp.symbols('r')\n",
    "rho_0, G = sp.symbols('rho_0 G')\n",
    "\n",
    "# Define the density profile as a function of r\n",
    "rho = rho_0 / r\n",
    "\n",
    "# Calculate the mass within a radius r\n",
    "# The mass M(r) is the integral of density over the volume of a sphere of radius r\n",
    "M = sp.integrate(4 * sp.pi * r**2 * rho, (r, 0, r))\n",
    "M = sp.simplify(M)\n",
    "\n",
    "# Display the derived mass as a function of r\n",
    "M\n"
   ]
  },
  {
   "cell_type": "markdown",
   "metadata": {},
   "source": [
    "The current star formation rate surface density (\\( \\Sigma_{\\text{SFR}} \\)) for a galaxy disk with a surface gas density (\\( \\Sigma_{\\text{Gas}} \\)) of \\( 5 \\times 10^7 \\) \\( M_{\\odot} \\) \\( \\text{kpc}^{-2} \\) is approximately \\( 0.0601 \\) \\( M_{\\odot} \\) \\( \\text{yr}^{-1} \\) \\( \\text{kpc}^{-2} \\)."
   ]
  },
  {
   "cell_type": "code",
   "execution_count": 4,
   "metadata": {},
   "outputs": [
    {
     "data": {
      "text/plain": [
       "0.06005622169907146"
      ]
     },
     "execution_count": 4,
     "metadata": {},
     "output_type": "execute_result"
    }
   ],
   "source": [
    "# Given values\n",
    "Sigma_Gas = 5e7  # surface gas density in M_sun kpc^-2\n",
    "\n",
    "# Kennicutt-Schmidt law\n",
    "# Sigma SFR = 1.0 * 10^-12 * SigmaGas^1.4\n",
    "Sigma_SFR = 1.0e-12 * Sigma_Gas**1.4  # star formation rate surface density in M_sun yr^-1 kpc^-2\n",
    "\n",
    "Sigma_SFR\n"
   ]
  },
  {
   "cell_type": "markdown",
   "metadata": {},
   "source": []
  },
  {
   "cell_type": "code",
   "execution_count": 5,
   "metadata": {},
   "outputs": [
    {
     "data": {
      "text/plain": [
       "832553207.4018745"
      ]
     },
     "execution_count": 5,
     "metadata": {},
     "output_type": "execute_result"
    }
   ],
   "source": [
    "# Gas depletion time is the current gas amount divided by the rate at which it's being turned into stars\n",
    "# Gas depletion time = SigmaGas / SigmaSFR\n",
    "\n",
    "# Given SigmaGas from the previous question\n",
    "gas_depletion_time = Sigma_Gas / Sigma_SFR  # in years\n",
    "\n",
    "gas_depletion_time\n"
   ]
  },
  {
   "cell_type": "code",
   "execution_count": null,
   "metadata": {},
   "outputs": [],
   "source": []
  },
  {
   "cell_type": "code",
   "execution_count": 6,
   "metadata": {},
   "outputs": [
    {
     "name": "stdout",
     "output_type": "stream",
     "text": [
      "Galaxy No. 1: Diameter = 1.68 kpc, Distance = 0.00 Mpc\n",
      "Galaxy No. 2: Diameter = 4.49 kpc, Distance = 0.00 Mpc\n",
      "Galaxy No. 3: Diameter = 2.06 kpc, Distance = 0.00 Mpc\n",
      "Galaxy No. 4: Diameter = 7.37 kpc, Distance = 0.00 Mpc\n",
      "Galaxy No. 5: Diameter = 5.31 kpc, Distance = 0.00 Mpc\n",
      "Galaxy No. 6: Diameter = 6.08 kpc, Distance = 0.00 Mpc\n",
      "Galaxy No. 7: Diameter = 2.51 kpc, Distance = 0.00 Mpc\n"
     ]
    },
    {
     "data": {
      "text/plain": [
       "[1.713520117213346e-07,\n",
       " 3.4867385795604987e-07,\n",
       " 6.98047558862074e-08,\n",
       " 3.929266925313898e-07,\n",
       " 6.177408723326076e-07,\n",
       " 5.899037980894874e-07,\n",
       " 1.2148316507158082e-07]"
      ]
     },
     "execution_count": 6,
     "metadata": {},
     "output_type": "execute_result"
    }
   ],
   "source": [
    "import numpy as np\n",
    "\n",
    "# Constants\n",
    "arcsec_to_radian = 1/206265  # Conversion factor from arcseconds to radians\n",
    "\n",
    "# Given data from the image (velocity dispersion in km/s and Dn in arcseconds)\n",
    "data = {\n",
    "    \"Galaxy No.\": [1, 2, 3, 4, 5, 6, 7],\n",
    "    \"sigma (km/s)\": [86, 180, 100, 261, 204, 226, 116],\n",
    "    \"Dn (arcsec)\": [21, 16, 7, 11, 24, 20, 10]\n",
    "}\n",
    "\n",
    "# Convert the velocity dispersion to the standardized diameter Dn in kpc\n",
    "standard_Dn_kpc = [0.0045 * sigma**1.33 for sigma in data[\"sigma (km/s)\"]]\n",
    "\n",
    "# Estimate the distance to each galaxy using the standardized diameter and the observed Dn\n",
    "# Distance in kpc is calculated using the small angle formula: D = theta * d, where theta is in radians and d is distance\n",
    "distances_kpc = [(Dn_arcsec * arcsec_to_radian) * Dn_kpc \n",
    "                 for Dn_arcsec, Dn_kpc in zip(data[\"Dn (arcsec)\"], standard_Dn_kpc)]\n",
    "\n",
    "# Print the estimated diameters and distances for each galaxy\n",
    "for i, galaxy_no in enumerate(data[\"Galaxy No.\"]):\n",
    "    print(f\"Galaxy No. {galaxy_no}: Diameter = {standard_Dn_kpc[i]:.2f} kpc, Distance = {distances_kpc[i]:.2f} Mpc\")\n",
    "\n",
    "# Convert distances to Mpc\n",
    "distances_Mpc = [dist_kpc / 1000 for dist_kpc in distances_kpc]\n",
    "distances_Mpc\n"
   ]
  },
  {
   "cell_type": "code",
   "execution_count": 7,
   "metadata": {},
   "outputs": [
    {
     "data": {
      "text/plain": [
       "array([[1.68304394e+00, 1.65310825e+04],\n",
       "       [4.49495083e+00, 5.79468852e+04],\n",
       "       [2.05689685e+00, 6.06093473e+04],\n",
       "       [7.36791129e+00, 1.38158254e+05],\n",
       "       [5.30909671e+00, 4.56283252e+04],\n",
       "       [6.08382535e+00, 6.27439528e+04],\n",
       "       [2.50577250e+00, 5.16852680e+04]])"
      ]
     },
     "execution_count": 7,
     "metadata": {},
     "output_type": "execute_result"
    }
   ],
   "source": [
    "import numpy as np\n",
    "\n",
    "# Constants\n",
    "arcsec_to_radian = np.pi / (180 * 3600)  # Conversion factor from arcseconds to radians\n",
    "\n",
    "# Data from the table (velocity dispersion in km/s and Dn in arcseconds)\n",
    "data = np.array([\n",
    "    [86, 21],\n",
    "    [180, 16],\n",
    "    [100, 7],\n",
    "    [261, 11],\n",
    "    [204, 24],\n",
    "    [226, 20],\n",
    "    [116, 10]\n",
    "])\n",
    "\n",
    "# Apply the Dn-sigma relation to estimate Dn in kpc\n",
    "Dn_kpc = 0.0045 * data[:, 0]**1.33\n",
    "\n",
    "# Calculate the angular size in radians from Dn in arcseconds\n",
    "angular_size_radian = data[:, 1] * arcsec_to_radian\n",
    "\n",
    "# Calculate the distance to each galaxy in kpc\n",
    "distance_kpc = Dn_kpc / angular_size_radian\n",
    "\n",
    "# Prepare the results with diameter and distance for each galaxy\n",
    "results = np.column_stack((Dn_kpc, distance_kpc))\n",
    "results\n"
   ]
  },
  {
   "cell_type": "markdown",
   "metadata": {},
   "source": [
    "To comment on whether all of the galaxies are members of the cluster, or whether any are foreground or background systems, we need to consider the range of distances we've calculated. If the distances of all galaxies are similar, this would suggest they are likely part of the same cluster. If some distances are significantly different, those galaxies may be in the foreground or background.\n",
    "\n",
    "\n",
    "\n",
    "\n",
    "This code would calculate the distances and then compare each galaxy's distance to the mean distance of all galaxies. If a galaxy's distance falls within a certain range (e.g., within one or two standard deviations of the mean), it would likely be a member of the cluster. Galaxies with distances that differ significantly could be considered foreground or background systems. The exact thresholds for these determinations can vary depending on the context and the precision of the measurements.\n"
   ]
  },
  {
   "cell_type": "code",
   "execution_count": 8,
   "metadata": {},
   "outputs": [
    {
     "name": "stdout",
     "output_type": "stream",
     "text": [
      "Galaxy No. 1: Distance = 16531.08 kpc, Membership: Member\n",
      "Galaxy No. 2: Distance = 57946.89 kpc, Membership: Member\n",
      "Galaxy No. 3: Distance = 60609.35 kpc, Membership: Member\n",
      "Galaxy No. 4: Distance = 138158.25 kpc, Membership: Foreground/Background\n",
      "Galaxy No. 5: Distance = 45628.33 kpc, Membership: Member\n",
      "Galaxy No. 6: Distance = 62743.95 kpc, Membership: Member\n",
      "Galaxy No. 7: Distance = 51685.27 kpc, Membership: Member\n"
     ]
    }
   ],
   "source": [
    "import numpy as np\n",
    "\n",
    "# Given data: velocity dispersion (sigma) and Dn in arcseconds\n",
    "galaxy_data = np.array([\n",
    "    [86, 21],\n",
    "    [180, 16],\n",
    "    [100, 7],\n",
    "    [261, 11],\n",
    "    [204, 24],\n",
    "    [226, 20],\n",
    "    [116, 10]\n",
    "])\n",
    "\n",
    "# Constants\n",
    "arcsec_to_radian = np.pi / (180 * 3600)  # Conversion from arcseconds to radians\n",
    "\n",
    "# Function to calculate Dn in kpc using the Dn-sigma relation\n",
    "def calculate_Dn_kpc(sigma):\n",
    "    return 0.0045 * sigma**1.33\n",
    "\n",
    "# Function to calculate distance to each galaxy\n",
    "def calculate_distance(Dn_arcsec, Dn_kpc):\n",
    "    angular_size_radian = Dn_arcsec * arcsec_to_radian\n",
    "    return Dn_kpc / angular_size_radian\n",
    "\n",
    "# Calculate Dn in kpc and distances for each galaxy\n",
    "distances = []\n",
    "for sigma, Dn_arcsec in galaxy_data:\n",
    "    Dn_kpc = calculate_Dn_kpc(sigma)\n",
    "    distance_kpc = calculate_distance(Dn_arcsec, Dn_kpc)\n",
    "    distances.append(distance_kpc)\n",
    "\n",
    "# Convert distances to an array and calculate the mean and standard deviation\n",
    "distances = np.array(distances)\n",
    "mean_distance = np.mean(distances)\n",
    "std_distance = np.std(distances)\n",
    "\n",
    "# Assess membership based on the standard deviation\n",
    "# If a galaxy's distance is within 1-2 standard deviations from the mean, it's likely a member\n",
    "# If it's beyond that, it could be a foreground or background galaxy\n",
    "cluster_membership = []\n",
    "for distance in distances:\n",
    "    if abs(distance - mean_distance) <= 2 * std_distance:\n",
    "        cluster_membership.append('Member')\n",
    "    else:\n",
    "        cluster_membership.append('Foreground/Background')\n",
    "\n",
    "# Print results\n",
    "for i, (distance, membership) in enumerate(zip(distances, cluster_membership), start=1):\n",
    "    print(f\"Galaxy No. {i}: Distance = {distance:.2f} kpc, Membership: {membership}\")\n",
    "\n",
    "# Based on the standard deviation and mean distance, comment on the membership\n",
    "# Code not executed, this is just a representation of the logic that could be applied\n"
   ]
  },
  {
   "cell_type": "markdown",
   "metadata": {},
   "source": [
    "The rotation curve of a galaxy can be used to estimate the mass contained within a certain radius if the rotation follows Kepler's Law. Kepler's Law implies that the velocity \\( v \\) of the orbiting matter at distance \\( r \\) from the center of mass is related to the mass \\( M \\) within that radius by the equation:\r\n",
    "\r\n",
    "\\[ v^2 = \\frac{G M}{r} \\]\r\n",
    "\r\n",
    "where \\( G \\) is the gravitational constant (\\( G \\approx 6.674 \\times 10^{-11} \\) m^3 kg^-1 s^-2"
   ]
  },
  {
   "cell_type": "code",
   "execution_count": 9,
   "metadata": {},
   "outputs": [
    {
     "data": {
      "text/plain": [
       "5071802306.729662"
      ]
     },
     "execution_count": 9,
     "metadata": {},
     "output_type": "execute_result"
    }
   ],
   "source": [
    "# Constants\n",
    "G = 6.674 * 10**-11  # Gravitational constant in m^3 kg^-1 s^-2\n",
    "arcsec_to_radian = np.pi / (180 * 3600)  # Conversion factor from arcseconds to radians\n",
    "Mpc_to_m = 3.086 * 10**22  # Conversion factor from Mpc to meters\n",
    "\n",
    "# Given data\n",
    "d_Mpc = 20  # distance in Mpc\n",
    "d_m = d_Mpc * Mpc_to_m  # distance in meters\n",
    "\n",
    "# Convert 0.1 arcsec to radians for the small angle approximation\n",
    "angular_size_radian = 0.1 * arcsec_to_radian\n",
    "\n",
    "# Calculate the physical radius in meters\n",
    "r = d_m * angular_size_radian\n",
    "\n",
    "# Placeholder velocity in km/s (from the rotation curve at 0.1 arcsec)\n",
    "v_kms = 1500\n",
    "v_ms = v_kms * 1000  # Convert velocity to m/s\n",
    "\n",
    "# Calculate the mass using the rearranged form of Kepler's Law\n",
    "M = (v_ms**2 * r) / G\n",
    "\n",
    "# Convert the mass from kg to solar masses (1 solar mass is approximately 1.989 x 10^30 kg)\n",
    "solar_mass = 1.989 * 10**30  # kg\n",
    "M_solar_masses = M / solar_mass\n",
    "\n",
    "M_solar_masses\n"
   ]
  },
  {
   "cell_type": "code",
   "execution_count": 10,
   "metadata": {},
   "outputs": [
    {
     "name": "stdout",
     "output_type": "stream",
     "text": [
      "Andromeda is 4.37e+07 times more luminous than Eridanus 3.\n"
     ]
    }
   ],
   "source": [
    "# Absolute magnitudes\n",
    "M_V_Andromeda = -21.1\n",
    "M_V_Eridanus3 = -2\n",
    "\n",
    "# Calculate the luminosity ratio\n",
    "luminosity_ratio = 10 ** (0.4 * (M_V_Eridanus3 - M_V_Andromeda))\n",
    "\n",
    "# Print the result\n",
    "print(f\"Andromeda is {luminosity_ratio:.2e} times more luminous than Eridanus 3.\")\n"
   ]
  },
  {
   "cell_type": "code",
   "execution_count": 11,
   "metadata": {},
   "outputs": [
    {
     "name": "stdout",
     "output_type": "stream",
     "text": [
      "The fraction of stars more massive than the Sun is: 0.0446\n"
     ]
    }
   ],
   "source": [
    "from scipy.integrate import quad\n",
    "\n",
    "# Define the mass function\n",
    "def salpeter_mass_function(M):\n",
    "    return M**-2.35\n",
    "\n",
    "# Limits of integration\n",
    "M_sun = 1.0  # Solar mass\n",
    "M_min = 0.1  # Minimum mass in solar masses\n",
    "M_max = 120  # Maximum mass in solar masses\n",
    "\n",
    "# Integrate the mass function from M_sun to M_max\n",
    "numerator, _ = quad(salpeter_mass_function, M_sun, M_max)\n",
    "\n",
    "# Integrate the mass function from M_min to M_max\n",
    "denominator, _ = quad(salpeter_mass_function, M_min, M_max)\n",
    "\n",
    "# Compute the fraction\n",
    "fraction_more_massive_than_sun = numerator / denominator\n",
    "print(f\"The fraction of stars more massive than the Sun is: {fraction_more_massive_than_sun:.4f}\")\n"
   ]
  },
  {
   "cell_type": "code",
   "execution_count": 12,
   "metadata": {},
   "outputs": [
    {
     "name": "stdout",
     "output_type": "stream",
     "text": [
      "The fraction of the total stellar mass in stars more massive than the Sun is: 0.3962\n"
     ]
    }
   ],
   "source": [
    "# Define the mass-weighted mass function\n",
    "def salpeter_mass_weighted_function(M):\n",
    "    return M * M**-2.35\n",
    "\n",
    "# Integrate the mass-weighted mass function from M_sun to M_max\n",
    "numerator_mass, _ = quad(salpeter_mass_weighted_function, M_sun, M_max)\n",
    "\n",
    "# Integrate the mass-weighted mass function from M_min to M_max\n",
    "denominator_mass, _ = quad(salpeter_mass_weighted_function, M_min, M_max)\n",
    "\n",
    "# Compute the mass fraction\n",
    "mass_fraction_more_massive_than_sun = numerator_mass / denominator_mass\n",
    "print(f\"The fraction of the total stellar mass in stars more massive than the Sun is: {mass_fraction_more_massive_than_sun:.4f}\")\n",
    "\n"
   ]
  },
  {
   "cell_type": "code",
   "execution_count": 16,
   "metadata": {},
   "outputs": [
    {
     "data": {
      "text/plain": [
       "21050079.754692443"
      ]
     },
     "execution_count": 16,
     "metadata": {},
     "output_type": "execute_result"
    }
   ],
   "source": [
    "from scipy.constants import pi, G\n",
    "import numpy as np\n",
    "\n",
    "# Density of the molecular cloud in g/cm^3\n",
    "density_cloud = 1e-20  # g/cm^3\n",
    "\n",
    "# Free-fall time for the molecular cloud\n",
    "t_ff_cloud = np.sqrt((3 * pi) / (32 * G * density_cloud))\n",
    "\n",
    "# Convert the time from seconds to years\n",
    "t_ff_cloud_years = t_ff_cloud / (60 * 60 * 24 * 365.25)\n",
    "t_ff_cloud_years"
   ]
  },
  {
   "cell_type": "code",
   "execution_count": 17,
   "metadata": {},
   "outputs": [
    {
     "data": {
      "text/plain": [
       "0.0017726119132633945"
      ]
     },
     "execution_count": 17,
     "metadata": {},
     "output_type": "execute_result"
    }
   ],
   "source": [
    "# Mass of the Sun in g\n",
    "mass_sun = 1.989e33  # g\n",
    "\n",
    "# Radius of the Sun in cm\n",
    "radius_sun = 6.957e10  # cm\n",
    "\n",
    "# Density of the Sun\n",
    "volume_sun = (4/3) * pi * radius_sun**3\n",
    "density_sun = mass_sun / volume_sun\n",
    "\n",
    "# Free-fall time for the Sun\n",
    "t_ff_sun = np.sqrt((3 * pi) / (32 * G * density_sun))\n",
    "\n",
    "# Convert the time from seconds to years\n",
    "t_ff_sun_years = t_ff_sun / (60 * 60 * 24 * 365.25)\n",
    "t_ff_sun_years"
   ]
  },
  {
   "cell_type": "code",
   "execution_count": 18,
   "metadata": {},
   "outputs": [
    {
     "data": {
      "text/plain": [
       "52369031.388122894"
      ]
     },
     "execution_count": 18,
     "metadata": {},
     "output_type": "execute_result"
    }
   ],
   "source": [
    "# Number of stars and mass per star\n",
    "n_stars = 1e5\n",
    "mass_star = 1.989e33  # 1 M_sun in g\n",
    "\n",
    "# Total mass of the globular cluster in g\n",
    "total_mass_cluster = n_stars * mass_star\n",
    "\n",
    "# Radius of the globular cluster in cm (1 pc = 3.086e18 cm)\n",
    "radius_cluster = 10 * 3.086e18  # cm\n",
    "\n",
    "# Density of the globular cluster\n",
    "volume_cluster = (4/3) * pi * radius_cluster**3\n",
    "density_cluster = total_mass_cluster / volume_cluster\n",
    "\n",
    "# Free-fall time for the globular cluster\n",
    "t_ff_cluster = np.sqrt((3 * pi) / (32 * G * density_cluster))\n",
    "\n",
    "# Convert the time from seconds to years\n",
    "t_ff_cluster_years = t_ff_cluster / (60 * 60 * 24 * 365.25)\n",
    "t_ff_cluster_years"
   ]
  },
  {
   "cell_type": "code",
   "execution_count": 19,
   "metadata": {},
   "outputs": [
    {
     "name": "stdout",
     "output_type": "stream",
     "text": [
      "Total Star Formation Rate in the disc: 0.70 M_sun/yr\n"
     ]
    }
   ],
   "source": [
    "import numpy as np\n",
    "\n",
    "# Given values\n",
    "M_gas = 1.5e9  # Total gas mass in M_sun\n",
    "R = 10  # Radius of the disc in kpc\n",
    "\n",
    "# Calculate the area of the disc\n",
    "area_disc = np.pi * R**2  # in kpc^2\n",
    "\n",
    "# Calculate the surface gas density\n",
    "Sigma_gas = M_gas / area_disc  # in M_sun/kpc^2\n",
    "\n",
    "# Calculate the star formation rate surface density using the Kennicutt-Schmidt law\n",
    "Sigma_SFR = 1.0e-12 * Sigma_gas**1.4  # in M_sun/yr/kpc^2\n",
    "\n",
    "# Calculate the total star formation rate\n",
    "total_SFR = Sigma_SFR * area_disc  # in M_sun/yr\n",
    "\n",
    "# Print the result\n",
    "print(f\"Total Star Formation Rate in the disc: {total_SFR:.2f} M_sun/yr\")\n"
   ]
  },
  {
   "cell_type": "code",
   "execution_count": 20,
   "metadata": {},
   "outputs": [
    {
     "name": "stdout",
     "output_type": "stream",
     "text": [
      "The galaxy would have taken 1.00e+11 years to form its stars at the current SFR,\n",
      "which is comparable to or more than the age of the Universe. This suggests a similar or lower past SFR.\n",
      "Time to accumulate the current stellar mass at the current SFR: 1.00e+11 years\n",
      "Age of the Universe: 1.38e+10 years\n"
     ]
    }
   ],
   "source": [
    "# Given values\n",
    "M_star = 7e10  # Total stellar mass in M_sun\n",
    "current_SFR = 0.70  # Current star formation rate in M_sun/yr\n",
    "\n",
    "# Age of the Universe in years\n",
    "age_universe = 13.8e9  # years\n",
    "\n",
    "# Calculate the time to accumulate M_star at the current SFR\n",
    "time_to_accumulate = M_star / current_SFR  # in years\n",
    "\n",
    "# Compare with the age of the Universe\n",
    "if time_to_accumulate < age_universe:\n",
    "    print(f\"The galaxy would have taken {time_to_accumulate:.2e} years to form its stars at the current SFR,\")\n",
    "    print(\"which is less than the age of the Universe. This suggests a higher past SFR.\")\n",
    "else:\n",
    "    print(f\"The galaxy would have taken {time_to_accumulate:.2e} years to form its stars at the current SFR,\")\n",
    "    print(\"which is comparable to or more than the age of the Universe. This suggests a similar or lower past SFR.\")\n",
    "\n",
    "# Print the results\n",
    "print(f\"Time to accumulate the current stellar mass at the current SFR: {time_to_accumulate:.2e} years\")\n",
    "print(f\"Age of the Universe: {age_universe:.2e} years\")\n"
   ]
  },
  {
   "cell_type": "code",
   "execution_count": 21,
   "metadata": {},
   "outputs": [
    {
     "name": "stdout",
     "output_type": "stream",
     "text": [
      "Total mass of the Milky Way within the Sun's orbit: 9.00e+10 M_sun\n"
     ]
    }
   ],
   "source": [
    "# Constants\n",
    "G = 6.674e-11  # Gravitational constant in m^3 kg^-1 s^-2\n",
    "kpc_to_m = 3.086e19  # Conversion from kpc to meters\n",
    "km_s_to_m_s = 1000  # Conversion from km/s to m/s\n",
    "\n",
    "# Given values\n",
    "v_sun = 220 * km_s_to_m_s  # Velocity of the Sun in m/s\n",
    "r_sun = 8 * kpc_to_m  # Orbital radius of the Sun in meters\n",
    "\n",
    "# Calculate the mass within the Sun's orbit\n",
    "mass_milky_way = v_sun**2 * r_sun / G\n",
    "\n",
    "# Convert the mass from kg to solar masses (1 solar mass = 1.989e30 kg)\n",
    "mass_milky_way_solar_masses = mass_milky_way / 1.989e30\n",
    "\n",
    "# Print the result\n",
    "print(f\"Total mass of the Milky Way within the Sun's orbit: {mass_milky_way_solar_masses:.2e} M_sun\")\n"
   ]
  },
  {
   "cell_type": "code",
   "execution_count": 22,
   "metadata": {},
   "outputs": [
    {
     "name": "stdout",
     "output_type": "stream",
     "text": [
      "Total mass of the Milky Way within the disk radius: 2.18e+11 M_sun\n"
     ]
    }
   ],
   "source": [
    "# Constants\n",
    "G = 6.67430e-11  # Gravitational constant in m^3 kg^-1 s^-2\n",
    "kpc_to_m = 3.08567758128e19  # Conversion from kpc to meters\n",
    "km_s_to_m_s = 1000  # Conversion from km/s to m/s\n",
    "solar_mass_to_kg = 1.98847e30  # Conversion from solar masses to kg\n",
    "\n",
    "# Given values\n",
    "v_edge = 235  # rotation velocity at 17 kpc in km/s\n",
    "r_edge = 17 * kpc_to_m  # radius of the Milky Way disk in meters\n",
    "\n",
    "# Convert the rotation velocity to m/s\n",
    "v_edge_m_s = v_edge * km_s_to_m_s\n",
    "\n",
    "# Calculate the mass within the disk radius\n",
    "mass_milky_way_edge_kg = v_edge_m_s**2 * r_edge / G\n",
    "\n",
    "# Convert the mass from kg to solar masses\n",
    "mass_milky_way_edge_solar_masses = mass_milky_way_edge_kg / solar_mass_to_kg\n",
    "\n",
    "print(f\"Total mass of the Milky Way within the disk radius: {mass_milky_way_edge_solar_masses:.2e} M_sun\")\n"
   ]
  },
  {
   "cell_type": "code",
   "execution_count": 24,
   "metadata": {},
   "outputs": [
    {
     "name": "stdout",
     "output_type": "stream",
     "text": [
      "Total stellar mass of the Milky Way: 4.80e+10 M_sun\n",
      "Total dark matter mass within the disk radius: 1.62e+11 M_sun\n"
     ]
    }
   ],
   "source": [
    "# Given values\n",
    "L_total_I_band = 4e10  # Total I-band luminosity of the Milky Way in L_sun\n",
    "mass_to_light_ratio_I_band = 1.2  # Mass-to-light ratio in the I-band\n",
    "\n",
    "# Calculate the total stellar mass of the Milky Way\n",
    "M_star = mass_to_light_ratio_I_band * L_total_I_band  # in M_sun\n",
    "\n",
    "# Assuming we have the total mass within the disk radius from a previous calculation\n",
    "# Placeholder value for M_total_disk; replace with actual value obtained previously\n",
    "M_total_disk = 2.1e11# Total mass within disk radius from previous calculation in M_sun\n",
    "\n",
    "# Calculate the total dark matter mass within the disk radius\n",
    "# Replace the M_total_disk placeholder with the actual value before running the code\n",
    "M_DM = M_total_disk - M_star  # in M_sun\n",
    "\n",
    "# Print the total stellar mass and the total dark matter mass\n",
    "print(f\"Total stellar mass of the Milky Way: {M_star:.2e} M_sun\")\n",
    "print(f\"Total dark matter mass within the disk radius: {M_DM:.2e} M_sun\")\n"
   ]
  },
  {
   "cell_type": "code",
   "execution_count": 25,
   "metadata": {},
   "outputs": [
    {
     "name": "stdout",
     "output_type": "stream",
     "text": [
      "Total mass of the Coma cluster: 4.28e+14 M_sun\n"
     ]
    }
   ],
   "source": [
    "# Constants\n",
    "G = 6.67430e-11  # Gravitational constant in m^3 kg^-1 s^-2\n",
    "kpc_to_m = 3.086e19  # Conversion from kpc to meters\n",
    "km_s_to_m_s = 1000  # Conversion from km/s to m/s\n",
    "solar_mass_to_kg = 1.989e30  # Conversion from solar masses to kg\n",
    "\n",
    "# Given values\n",
    "velocity_dispersion = 1000 * km_s_to_m_s  # Velocity dispersion in m/s\n",
    "radius_cluster = 613 * kpc_to_m  # Radius of the cluster in meters\n",
    "\n",
    "# Calculate the total mass of the Coma cluster using the virial theorem\n",
    "total_mass_kg = (3 * velocity_dispersion**2 * radius_cluster) / G\n",
    "\n",
    "# Convert the total mass from kg to solar masses\n",
    "total_mass_solar_masses = total_mass_kg / solar_mass_to_kg\n",
    "\n",
    "# Print the total mass in solar masses\n",
    "print(f\"Total mass of the Coma cluster: {total_mass_solar_masses:.2e} M_sun\")\n"
   ]
  },
  {
   "cell_type": "code",
   "execution_count": 26,
   "metadata": {},
   "outputs": [
    {
     "name": "stdout",
     "output_type": "stream",
     "text": [
      "Total mass of the Coma cluster: 8.50e+44 kg\n"
     ]
    }
   ],
   "source": [
    "# Constants\n",
    "G = 6.67430e-11  # Gravitational constant in m^3 kg^-1 s^-2\n",
    "kpc_to_m = 3.086e19  # Conversion factor from kpc to meters\n",
    "\n",
    "# Given values as variables\n",
    "velocity_dispersion_km_s = 1000  # Velocity dispersion in km/s\n",
    "radius_cluster_kpc = 613  # Radius of the cluster in kpc\n",
    "\n",
    "# Convert velocity dispersion to m/s and radius to meters\n",
    "velocity_dispersion_m_s = velocity_dispersion_km_s * 1000  # Convert from km/s to m/s\n",
    "radius_cluster_m = radius_cluster_kpc * kpc_to_m  # Convert from kpc to meters\n",
    "\n",
    "# Calculate the total mass of the Coma cluster\n",
    "total_mass_kg = (3 * velocity_dispersion_m_s**2 * radius_cluster_m) / G\n",
    "\n",
    "# Print the total mass in kg\n",
    "print(f\"Total mass of the Coma cluster: {total_mass_kg:.2e} kg\")\n"
   ]
  },
  {
   "cell_type": "code",
   "execution_count": 28,
   "metadata": {},
   "outputs": [
    {
     "name": "stdout",
     "output_type": "stream",
     "text": [
      "Average K-band mass-to-light ratio of galaxies in Coma: 188955446014313631344297710190592.00 M_sun/L_sun\n"
     ]
    }
   ],
   "source": [
    "# Number of galaxies in the Coma cluster\n",
    "number_of_galaxies = 450\n",
    "\n",
    "# Average K-band luminosity of each galaxy in L_sun\n",
    "average_luminosity_per_galaxy = 1e10  # in L_sun\n",
    "\n",
    "# Calculate the total K-band luminosity of the cluster\n",
    "total_luminosity_cluster = number_of_galaxies * average_luminosity_per_galaxy  # in L_sun\n",
    "\n",
    "# Assuming total mass of the Coma cluster is obtained from previous calculation\n",
    "# Replace with the actual value obtained earlier\n",
    "total_mass_cluster = total_mass_kg # (insert total mass of the Coma cluster here) in M_sun\n",
    "\n",
    "# Calculate the K-band mass-to-light ratio\n",
    "M_L_K_ratio = total_mass_cluster / total_luminosity_cluster\n",
    "\n",
    "# Print the K-band mass-to-light ratio\n",
    "print(f\"Average K-band mass-to-light ratio of galaxies in Coma: {M_L_K_ratio:.2f} M_sun/L_sun\")\n"
   ]
  },
  {
   "cell_type": "code",
   "execution_count": 29,
   "metadata": {},
   "outputs": [
    {
     "name": "stdout",
     "output_type": "stream",
     "text": [
      "The current mass of the most massive star in the globular cluster is -5.81e-02 solar masses.\n"
     ]
    }
   ],
   "source": [
    "import scipy.integrate as spi\n",
    "\n",
    "# Define the IMF function\n",
    "def salpeter_imf(M):\n",
    "    A = 10**5 / (1/(120**1.35) - 1/(0.1**1.35))  # Calculate the normalization constant A\n",
    "    return A * M**(-2.35)\n",
    "\n",
    "# Integrate the IMF to find the total number of stars\n",
    "total_stars, _ = spi.quad(salpeter_imf, 0.1, 120)\n",
    "\n",
    "# Calculate the current mass of the most massive star (upper limit, 120M)\n",
    "most_massive_star_mass = salpeter_imf(120)\n",
    "\n",
    "print(f\"The current mass of the most massive star in the globular cluster is {most_massive_star_mass:.2e} solar masses.\")\n"
   ]
  },
  {
   "cell_type": "code",
   "execution_count": 34,
   "metadata": {},
   "outputs": [
    {
     "name": "stdout",
     "output_type": "stream",
     "text": [
      "The current mass of the most massive star in the globular cluster is approximately -5.81e-02 solar masses.\n"
     ]
    }
   ],
   "source": [
    "# Constants and given values\n",
    "current_cluster_mass = 10**5  # Current mass of the globular cluster in solar masses\n",
    "min_star_mass = 0.1  # Minimum star mass in solar masses\n",
    "max_star_mass = 120  # Maximum star mass in solar masses\n",
    "imf_slope = -2.35  # Salpeter IMF slope\n",
    "\n",
    "# Calculate the normalization constant A\n",
    "A = current_cluster_mass / (1/(max_star_mass**1.35) - 1/(min_star_mass**1.35))\n",
    "\n",
    "# Calculate the current mass of the most massive star\n",
    "most_massive_star_mass = A * (max_star_mass**-2.35)\n",
    "\n",
    "print(f\"The current mass of the most massive star in the globular cluster is approximately {most_massive_star_mass:.2e} solar masses.\")\n"
   ]
  },
  {
   "cell_type": "code",
   "execution_count": 31,
   "metadata": {},
   "outputs": [
    {
     "name": "stdout",
     "output_type": "stream",
     "text": [
      "The current total number of stars in the globular cluster is approximately -7.41e+04.\n"
     ]
    }
   ],
   "source": [
    "import scipy.integrate as spi\n",
    "\n",
    "# Constants and given values\n",
    "current_cluster_mass = 10**5  # Current mass of the globular cluster in solar masses\n",
    "min_star_mass = 0.1  # Minimum star mass in solar masses\n",
    "max_star_mass = 120  # Maximum star mass in solar masses\n",
    "imf_slope = -2.35  # Salpeter IMF slope\n",
    "\n",
    "\n",
    "A = current_cluster_mass / (1/(max_star_mass**1.35) - 1/(min_star_mass**1.35))\n",
    "\n",
    "# Define the IMF function\n",
    "def salpeter_imf(M):\n",
    "    return A * M**imf_slope\n",
    "\n",
    "# Integrate the IMF to find the total number of stars\n",
    "total_stars, _ = spi.quad(salpeter_imf, min_star_mass, max_star_mass)\n",
    "\n",
    "print(f\"The current total number of stars in the globular cluster is approximately {total_stars:.2e}.\")\n"
   ]
  },
  {
   "cell_type": "code",
   "execution_count": 33,
   "metadata": {},
   "outputs": [
    {
     "name": "stdout",
     "output_type": "stream",
     "text": [
      "The estimated initial mass of the globular cluster 10 Gyr ago is approximately 3.31e-02 solar masses.\n"
     ]
    }
   ],
   "source": [
    "# Constants and given values\n",
    "current_cluster_mass = 10**5  # Current mass of the globular cluster in solar masses\n",
    "cluster_age = 10  # Age of the cluster in Gyr\n",
    "imf_slope = -2.35  # Salpeter IMF slope\n",
    "\n",
    "# Define the Salpeter IMF function\n",
    "def salpeter_imf(M):\n",
    "    return M**imf_slope\n",
    "\n",
    "# Integrate the IMF over the mass range to estimate the initial mass\n",
    "import scipy.integrate as spi\n",
    "\n",
    "# Define the mass range for integration (from 0.1M to 120M)\n",
    "min_star_mass = 0.1\n",
    "max_star_mass = 120\n",
    "\n",
    "# Calculate the initial mass estimate by integrating the IMF\n",
    "initial_mass_estimate, _ = spi.quad(lambda M: salpeter_imf(M), min_star_mass, max_star_mass)\n",
    "\n",
    "# Adjust the initial mass estimate for the cluster's age\n",
    "initial_mass_estimate *= (cluster_age / 0.1)**(-1.35)\n",
    "\n",
    "print(f\"The estimated initial mass of the globular cluster 10 Gyr ago is approximately {initial_mass_estimate:.2e} solar masses.\")\n"
   ]
  },
  {
   "cell_type": "code",
   "execution_count": null,
   "metadata": {},
   "outputs": [],
   "source": [
    "import numpy as np\n",
    "from scipy.integrate import quad\n",
    "\n",
    "# Define the Salpeter IMF\n",
    "def salpeter_IMF(mass):\n",
    "    A = ... # Constant, need to be defined based on normalization\n",
    "    return A * np.power(mass, -2.35)\n",
    "\n",
    "# Define mass range\n",
    "min_mass = 0.1  # in solar masses\n",
    "max_mass = ...  # This is the tricky part, we need stellar evolution models to find this value\n",
    "\n",
    "# Integrate IMF over the mass range\n",
    "integral_IMF, error = quad(salpeter_IMF, min_mass, max_mass)\n",
    "\n",
    "# Estimation of the most massive star currently in the cluster\n",
    "most_massive_star_current_mass = ... # Requires stellar evolution calculations\n"
   ]
  },
  {
   "cell_type": "code",
   "execution_count": 37,
   "metadata": {},
   "outputs": [
    {
     "name": "stdout",
     "output_type": "stream",
     "text": [
      "The estimated current mass of the most massive star in the globular cluster is approximately 120.00 solar masses.\n"
     ]
    }
   ],
   "source": [
    "# Constants and given values\n",
    "initial_max_mass = 120.0  # Maximum initial mass of the most massive star in solar masses\n",
    "cluster_age = 10.0  # Age of the cluster in Gyr\n",
    "mass_loss_exponent = -0.3  # Mass loss exponent\n",
    "\n",
    "# Calculate the current mass of the most massive star\n",
    "current_max_mass = initial_max_mass * (cluster_age / 10.0)**mass_loss_exponent\n",
    "\n",
    "print(f\"The estimated current mass of the most massive star in the globular cluster is approximately {current_max_mass:.2f} solar masses.\")\n"
   ]
  },
  {
   "cell_type": "code",
   "execution_count": 40,
   "metadata": {},
   "outputs": [
    {
     "name": "stdout",
     "output_type": "stream",
     "text": [
      "The constant A: 17060.44240055487\n",
      "Current total number of stars in the cluster: 270277.9910769947\n"
     ]
    }
   ],
   "source": [
    "import scipy.integrate as integrate\n",
    "\n",
    "# Constants\n",
    "M_min_initial = 0.1  # Minimum initial mass in solar masses\n",
    "M_max_initial = 120  # Maximum initial mass in solar masses\n",
    "\n",
    "total_mass = 1e5     # Total initial mass of the cluster in solar masses\n",
    "\n",
    "# Salpeter IMF function\n",
    "def salpeter_imf(M, A):\n",
    "    return A * M ** -2.35\n",
    "\n",
    "# Function to calculate the total mass integral\n",
    "def total_mass_integral(A):\n",
    "    return integrate.quad(lambda M: M * salpeter_imf(M, A), M_min_initial, M_max_initial)[0] - total_mass\n",
    "\n",
    "# Solving for A using the total initial mass constraint\n",
    "from scipy.optimize import fsolve\n",
    "A = fsolve(total_mass_integral, 1)[0]\n",
    "\n",
    "# Now calculate the current number of stars\n",
    "N_current = integrate.quad(lambda M: salpeter_imf(M, A), M_min_initial, M_max_current)[0]\n",
    "\n",
    "print(f\"The constant A: {A}\")\n",
    "print(f\"Current total number of stars in the cluster: {N_current}\")\n"
   ]
  },
  {
   "cell_type": "code",
   "execution_count": 42,
   "metadata": {},
   "outputs": [
    {
     "name": "stdout",
     "output_type": "stream",
     "text": [
      "The total initial mass of the cluster: 100000.0 Solar Masses\n"
     ]
    }
   ],
   "source": [
    "import scipy.integrate as integrate\n",
    "\n",
    "# Constants\n",
    "M_min = 0.1  # Minimum mass in solar masses\n",
    "M_max = 120  # Maximum mass in solar masses\n",
    "A = 17060.44240055487 # The constant A from previous value\n",
    "\n",
    "# Salpeter IMF function multiplied by mass\n",
    "def salpeter_mass_function(M, A):\n",
    "    return A * M ** (1 - 2.35)\n",
    "\n",
    "# Calculate the total initial mass\n",
    "total_initial_mass, _ = integrate.quad(salpeter_mass_function, M_min, M_max, args=(A))\n",
    "\n",
    "print(f\"The total initial mass of the cluster: {total_initial_mass} Solar Masses\")\n"
   ]
  },
  {
   "cell_type": "code",
   "execution_count": 43,
   "metadata": {},
   "outputs": [
    {
     "name": "stdout",
     "output_type": "stream",
     "text": [
      "Stellar Mass: 50000000000.0 Solar Masses\n",
      "Dark Matter Mass: 950000000000.0 Solar Masses\n"
     ]
    }
   ],
   "source": [
    "# Constants\n",
    "total_mass = 1e12  # Total mass of the galaxy in solar masses\n",
    "k_band_luminosity = 5e10  # K-band luminosity of the galaxy in solar luminosities\n",
    "mass_to_light_ratio = 1  # Mass-to-light ratio in solar units (M_sun / L_sun)\n",
    "\n",
    "# Calculate the stellar mass\n",
    "stellar_mass = k_band_luminosity * mass_to_light_ratio\n",
    "\n",
    "# Calculate the dark matter mass\n",
    "dark_matter_mass = total_mass - stellar_mass\n",
    "\n",
    "print(f\"Stellar Mass: {stellar_mass} Solar Masses\")\n",
    "print(f\"Dark Matter Mass: {dark_matter_mass} Solar Masses\")\n"
   ]
  },
  {
   "cell_type": "code",
   "execution_count": 44,
   "metadata": {},
   "outputs": [
    {
     "name": "stdout",
     "output_type": "stream",
     "text": [
      "Stellar Mass: 5.0e+10 Solar Masses\n",
      "Dark Matter Mass: 9.5e+11 Solar Masses\n"
     ]
    }
   ],
   "source": [
    "# Constants\n",
    "total_mass = 1e12  # Total mass of the galaxy in solar masses\n",
    "k_band_luminosity = 5e10  # K-band luminosity of the galaxy in solar luminosities\n",
    "mass_to_light_ratio = 1  # Mass-to-light ratio in solar units (M_sun / L_sun)\n",
    "\n",
    "# Calculate the stellar mass\n",
    "stellar_mass = k_band_luminosity * mass_to_light_ratio\n",
    "\n",
    "# Calculate the dark matter mass\n",
    "dark_matter_mass = total_mass - stellar_mass\n",
    "\n",
    "# Print in scientific notation\n",
    "print(f\"Stellar Mass: {stellar_mass:.1e} Solar Masses\")\n",
    "print(f\"Dark Matter Mass: {dark_matter_mass:.1e} Solar Masses\")\n"
   ]
  },
  {
   "cell_type": "code",
   "execution_count": 45,
   "metadata": {},
   "outputs": [
    {
     "data": {
      "text/plain": [
       "215.0455"
      ]
     },
     "execution_count": 45,
     "metadata": {},
     "output_type": "execute_result"
    }
   ],
   "source": [
    "# Constants\n",
    "G = 4.30091e-3  # Gravitational constant in pc * M_sun^-1 * (km/s)^2\n",
    "M = 1e12  # Total mass of the galaxy in solar masses\n",
    "sigma = 200  # Velocity dispersion in km/s\n",
    "\n",
    "# Calculate the radius (size) of the galaxy in kpc\n",
    "R = (2 * G * M) / (sigma ** 2)\n",
    "R_kpc = R / 1000  # Convert from pc to kpc\n",
    "\n",
    "R_kpc\n",
    "\n"
   ]
  },
  {
   "cell_type": "code",
   "execution_count": 50,
   "metadata": {},
   "outputs": [
    {
     "data": {
      "text/plain": [
       "225.0"
      ]
     },
     "execution_count": 50,
     "metadata": {},
     "output_type": "execute_result"
    }
   ],
   "source": [
    "# Constants\n",
    "G = 4.5e-3  # Gravitational constant in pc * M_sun^-1 * (km/s)^2\n",
    "M = 1e12  # Total mass of the galaxy in solar masses\n",
    "sigma = 200  # Velocity dispersion in km/s\n",
    "\n",
    "# Calculate the radius (size) of the galaxy in kpc\n",
    "R = (2 * G * M) / (sigma ** 2)\n",
    "R_kpc = R / 1000  # Convert from pc to kpc\n",
    "\n",
    "R_kpc\n",
    "\n"
   ]
  },
  {
   "cell_type": "code",
   "execution_count": 57,
   "metadata": {},
   "outputs": [
    {
     "ename": "TypeError",
     "evalue": "unsupported operand type(s) for ^: 'float' and 'float'",
     "output_type": "error",
     "traceback": [
      "\u001b[1;31m---------------------------------------------------------------------------\u001b[0m",
      "\u001b[1;31mTypeError\u001b[0m                                 Traceback (most recent call last)",
      "Cell \u001b[1;32mIn[57], line 1\u001b[0m\n\u001b[1;32m----> 1\u001b[0m R \u001b[38;5;241m=\u001b[39m (\u001b[38;5;241;43m2.0\u001b[39;49m\u001b[38;5;241;43m*\u001b[39;49m\u001b[38;5;241;43m4.5\u001b[39;49m\u001b[38;5;241;43m*\u001b[39;49m\u001b[38;5;241;43m10.0\u001b[39;49m\u001b[38;5;241;43m^\u001b[39;49m\u001b[38;5;241;43m-\u001b[39;49m\u001b[38;5;241;43m3.0\u001b[39;49m\u001b[38;5;241;43m*\u001b[39;49m\u001b[38;5;241;43m10.0\u001b[39;49m\u001b[38;5;241m^\u001b[39m\u001b[38;5;241m12.0\u001b[39m)\u001b[38;5;241m/\u001b[39m(\u001b[38;5;241m200.0\u001b[39m\u001b[38;5;241m^\u001b[39m\u001b[38;5;241m2.0\u001b[39m)\n\u001b[0;32m      2\u001b[0m R\n",
      "\u001b[1;31mTypeError\u001b[0m: unsupported operand type(s) for ^: 'float' and 'float'"
     ]
    }
   ],
   "source": [
    "R = (2.0*4.5*10.0^-3.0*10.0^12.0)/(200.0^2.0)\n",
    "R"
   ]
  },
  {
   "cell_type": "code",
   "execution_count": 58,
   "metadata": {},
   "outputs": [
    {
     "name": "stdout",
     "output_type": "stream",
     "text": [
      "The mass of the dark matter halo of the galaxy is approximately 9.00e+11 solar masses.\n",
      "The distance to the galaxy is approximately 1.70e+18 parsecs.\n"
     ]
    }
   ],
   "source": [
    "# Constants and given values\n",
    "total_mass_galaxy = 10**12  # Total mass of the galaxy in solar masses\n",
    "k_band_luminosity = 5e10  # K-band luminosity of the galaxy in solar luminosities\n",
    "angular_size_arcsec = 50  # Angular size of the galaxy in arcseconds\n",
    "mass_to_light_ratio_stars = 2.0  # Assumed M/L ratio for stars in solar units\n",
    "\n",
    "# Calculate the stellar mass of the galaxy\n",
    "stellar_mass = mass_to_light_ratio_stars * k_band_luminosity\n",
    "\n",
    "# Calculate the dark matter halo mass\n",
    "dark_matter_mass = total_mass_galaxy - stellar_mass\n",
    "\n",
    "# Convert angular size to radians\n",
    "angular_size_radians = angular_size_arcsec * (1.0 / 3600.0) * (1.0 / 180.0) * 3.14159265\n",
    "\n",
    "# Calculate the distance to the galaxy using angular size and physical size\n",
    "distance = stellar_mass / (angular_size_radians * angular_size_radians)\n",
    "\n",
    "print(f\"The mass of the dark matter halo of the galaxy is approximately {dark_matter_mass:.2e} solar masses.\")\n",
    "print(f\"The distance to the galaxy is approximately {distance:.2e} parsecs.\")\n"
   ]
  },
  {
   "cell_type": "code",
   "execution_count": 60,
   "metadata": {},
   "outputs": [
    {
     "name": "stdout",
     "output_type": "stream",
     "text": [
      "The mass of the dark matter halo is approx 9.00e+11 solar masses.\n",
      "The distance to the galaxy is approx 1.70e+18 parsecs.\n"
     ]
    }
   ],
   "source": [
    "# Constants and given values\n",
    "total_mass_galaxy = 10**12  # Total mass of the galaxy in solar masses\n",
    "k_band_luminosity = 5e10  # K-band luminosity of the galaxy in solar luminosities\n",
    "angular_size_arcsec = 50  # Angular size of the galaxy in arcseconds\n",
    "mass_to_light_ratio_stars = 2.0  # Assumed M/L ratio for stars in solar units\n",
    "\n",
    "# Calculate the stellar mass of the galaxy\n",
    "stellar_mass = mass_to_light_ratio_stars * k_band_luminosity\n",
    "\n",
    "# Calculate the dark matter halo mass\n",
    "dark_matter_mass = total_mass_galaxy - stellar_mass\n",
    "\n",
    "# Convert angular size to radians\n",
    "angular_size_radians = angular_size_arcsec * (1.0 / 3600.0) * (1.0 / 180.0) * 3.14159265\n",
    "\n",
    "# Calculate the distance to the galaxy using angular size and physical size\n",
    "distance = stellar_mass / (angular_size_radians * angular_size_radians)\n",
    "\n",
    "print(f\"The mass of the dark matter halo is approx {dark_matter_mass:.2e} solar masses.\")\n",
    "print(f\"The distance to the galaxy is approx {distance:.2e} parsecs.\")\n"
   ]
  },
  {
   "cell_type": "code",
   "execution_count": null,
   "metadata": {},
   "outputs": [],
   "source": []
  }
 ],
 "metadata": {
  "kernelspec": {
   "display_name": "Python 3 (ipykernel)",
   "language": "python",
   "name": "python3"
  },
  "language_info": {
   "codemirror_mode": {
    "name": "ipython",
    "version": 3
   },
   "file_extension": ".py",
   "mimetype": "text/x-python",
   "name": "python",
   "nbconvert_exporter": "python",
   "pygments_lexer": "ipython3",
   "version": "3.12.1"
  }
 },
 "nbformat": 4,
 "nbformat_minor": 4
}
