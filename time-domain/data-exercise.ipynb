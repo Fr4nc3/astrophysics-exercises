{
 "cells": [
  {
   "cell_type": "markdown",
   "id": "07766901-7562-4718-9314-755dcf8d95f4",
   "metadata": {},
   "source": [
    "# Data Exercise "
   ]
  },
  {
   "cell_type": "code",
   "execution_count": null,
   "id": "908cb1d5-05d9-4344-9cae-a3661892716e",
   "metadata": {},
   "outputs": [],
   "source": []
  }
 ],
 "metadata": {
  "kernelspec": {
   "display_name": "Python 3 (ipykernel)",
   "language": "python",
   "name": "python3"
  },
  "language_info": {
   "codemirror_mode": {
    "name": "ipython",
    "version": 3
   },
   "file_extension": ".py",
   "mimetype": "text/x-python",
   "name": "python",
   "nbconvert_exporter": "python",
   "pygments_lexer": "ipython3",
   "version": "3.12.8"
  }
 },
 "nbformat": 4,
 "nbformat_minor": 5
}
