{
 "cells": [
  {
   "cell_type": "markdown",
   "metadata": {},
   "source": [
    "# Cosmology"
   ]
  },
  {
   "cell_type": "code",
   "execution_count": 1,
   "metadata": {},
   "outputs": [],
   "source": [
    "import pandas as pd\n",
    "\n",
    "df = pd.read_csv('nvss.dat', delimiter='\\t')"
   ]
  },
  {
   "cell_type": "code",
   "execution_count": 2,
   "metadata": {},
   "outputs": [
    {
     "name": "stdout",
     "output_type": "stream",
     "text": [
      "  C0000M36  511.92  964.28 000000-340709  00 00  0.09 -34 07  9.5  0.48  6.7      2.7     0.5 < 59.8 < 52.4                                0.77 -61.1  0.43 11.2\n",
      "0  C0000M40  511.90  887.05 000000-382628  00 00 ...                                                                                                            \n",
      "1  C0000M04  511.84  502.17 000000-040242  00 00 ...                                                                                                            \n",
      "2  C0000P32  511.84  563.21 000000+321233  00 00 ...                                                                                                            \n",
      "3  C0000P48  511.87  825.81 000000+491812  00 00 ...                                                                                                            \n",
      "4  C0000M20  511.76  493.74 000000-200448  00 00 ...                                                                                                            \n"
     ]
    }
   ],
   "source": [
    "print(df.head())"
   ]
  },
  {
   "cell_type": "code",
   "execution_count": null,
   "metadata": {},
   "outputs": [],
   "source": [
    "Field\n",
    "\t\n",
    "Xpos\n",
    "pix\tYpos\n",
    "pix\tNVSS\n",
    "---\tRA DE\n",
    "hms dms\t(e)\n",
    "(e)\n",
    "S1.4 (e)\n",
    "mJy\t(l) MajAxis\n",
    "arcsec\t(l) MinAxis\n",
    "arcsec\tPA\n",
    "deg\t(e)\n",
    "(e)\n",
    "(e)\n",
    "(f) resFlux\n",
    "mJy\tpolFlux\n",
    "mJy\tpolPA\n",
    "deg\t(e)\n",
    "(e)"
   ]
  }
 ],
 "metadata": {
  "kernelspec": {
   "display_name": "Python 3 (ipykernel)",
   "language": "python",
   "name": "python3"
  },
  "language_info": {
   "codemirror_mode": {
    "name": "ipython",
    "version": 3
   },
   "file_extension": ".py",
   "mimetype": "text/x-python",
   "name": "python",
   "nbconvert_exporter": "python",
   "pygments_lexer": "ipython3",
   "version": "3.12.1"
  }
 },
 "nbformat": 4,
 "nbformat_minor": 4
}
