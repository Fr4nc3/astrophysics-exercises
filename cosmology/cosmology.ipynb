{
 "cells": [
  {
   "cell_type": "markdown",
   "metadata": {},
   "source": [
    "# Cosmology"
   ]
  },
  {
   "cell_type": "code",
   "execution_count": 1,
   "metadata": {},
   "outputs": [],
   "source": [
    "import pandas as pd\n",
    "\n",
    "df = pd.read_csv('nvss.dat', delimiter='\\t')"
   ]
  },
  {
   "cell_type": "code",
   "execution_count": 2,
   "metadata": {},
   "outputs": [
    {
     "name": "stdout",
     "output_type": "stream",
     "text": [
      "  C0000M36  511.92  964.28 000000-340709  00 00  0.09 -34 07  9.5  0.48  6.7      2.7     0.5 < 59.8 < 52.4                                0.77 -61.1  0.43 11.2\n",
      "0  C0000M40  511.90  887.05 000000-382628  00 00 ...                                                                                                            \n",
      "1  C0000M04  511.84  502.17 000000-040242  00 00 ...                                                                                                            \n",
      "2  C0000P32  511.84  563.21 000000+321233  00 00 ...                                                                                                            \n",
      "3  C0000P48  511.87  825.81 000000+491812  00 00 ...                                                                                                            \n",
      "4  C0000M20  511.76  493.74 000000-200448  00 00 ...                                                                                                            \n"
     ]
    }
   ],
   "source": [
    "print(df.head())"
   ]
  },
  {
   "cell_type": "code",
   "execution_count": null,
   "metadata": {},
   "outputs": [],
   "source": [
    "Field\n",
    "\t\n",
    "Xpos\n",
    "pix\tYpos\n",
    "pix\tNVSS\n",
    "---\tRA DE\n",
    "hms dms\t(e)\n",
    "(e)\n",
    "S1.4 (e)\n",
    "mJy\t(l) MajAxis\n",
    "arcsec\t(l) MinAxis\n",
    "arcsec\tPA\n",
    "deg\t(e)\n",
    "(e)\n",
    "(e)\n",
    "(f) resFlux\n",
    "mJy\tpolFlux\n",
    "mJy\tpolPA\n",
    "deg\t(e)\n",
    "(e)"
   ]
  },
  {
   "cell_type": "code",
   "execution_count": 1,
   "metadata": {},
   "outputs": [
    {
     "data": {
      "text/plain": [
       "(1.25000000000000, 180.000000000000)"
      ]
     },
     "execution_count": 1,
     "metadata": {},
     "output_type": "execute_result"
    }
   ],
   "source": [
    "import sympy as sp\n",
    "\n",
    "# Define the symbols\n",
    "z = sp.symbols('z')\n",
    "H_0 = 70  # Hubble constant in km/s/Mpc, given in the problem\n",
    "c = 299792.458  # speed of light in km/s, standard value\n",
    "\n",
    "# Define the equation for dA in an EdS universe\n",
    "dA = 2 * c / (H_0 * (1 + z)) * (1 - (1 + z)**(-1/2))\n",
    "\n",
    "# Derive the first derivative of dA with respect to z\n",
    "dA_derivative = sp.diff(dA, z)\n",
    "\n",
    "# Find the value of z for which the derivative is zero (indicating a maximum)\n",
    "max_z = sp.solve(dA_derivative, z)\n",
    "max_z_value = max_z[0].evalf()  # Evaluate to get a numerical value\n",
    "\n",
    "# Calculate the size in degrees of the angular diameter at decoupling (z ≈ 1000)\n",
    "# Using the proper diameter given by c × td, where td = 3.8 × 10^5 years\n",
    "td = 3.8e5 * 365.25 * 24 * 3600  # Convert years to seconds\n",
    "proper_diameter = c * td  # Calculate the proper diameter\n",
    "\n",
    "# Calculate dA at z = 1000\n",
    "dA_at_decoupling = dA.subs(z, 1000)\n",
    "\n",
    "# Calculate the angular diameter in radians\n",
    "angular_diameter_radians = 2 * sp.atan((proper_diameter / 2) / dA_at_decoupling)\n",
    "\n",
    "# Convert the angular diameter to degrees\n",
    "angular_diameter_degrees = sp.deg(angular_diameter_radians).evalf()\n",
    "\n",
    "max_z_value, angular_diameter_degrees\n",
    "\n"
   ]
  },
  {
   "cell_type": "code",
   "execution_count": 9,
   "metadata": {},
   "outputs": [
    {
     "data": {
      "text/plain": [
       "[1.25000000000000]"
      ]
     },
     "execution_count": 9,
     "metadata": {},
     "output_type": "execute_result"
    }
   ],
   "source": [
    "from sympy import symbols, diff, solve\n",
    "\n",
    "# Define the variables and the equation for dA\n",
    "z = symbols('z')\n",
    "H_0 = 70  # Hubble constant in km/s/Mpc\n",
    "c = 299792.458  # speed of light in km/s\n",
    "\n",
    "# dA formula for an EdS universe\n",
    "dA = 2 * c / (H_0 * (1 + z)) * (1 - (1 + z)**-0.5)\n",
    "\n",
    "# Calculate the derivative of dA with respect to z\n",
    "dA_derivative = diff(dA, z)\n",
    "\n",
    "# Find the value of z where the derivative is zero (maximum point)\n",
    "max_z = solve(dA_derivative, z)\n",
    "max_z\n",
    "dA_derivative\n",
    "solve(dA_derivative, z)"
   ]
  },
  {
   "cell_type": "code",
   "execution_count": 3,
   "metadata": {},
   "outputs": [
    {
     "data": {
      "text/latex": [
       "$\\displaystyle \\left\\{z\\; \\middle|\\; z \\in \\mathbb{R} \\wedge \\frac{4285.71428571429 \\left(z^{2} + 2 z + 1\\right)}{\\left(z + 1\\right)^{2.5}} + \\frac{8571.42857142857}{\\left(z + 1\\right)^{0.5}} - 8571.42857142857 = 0 \\right\\} \\setminus \\left\\{-1\\right\\}$"
      ],
      "text/plain": [
       "Complement(ConditionSet(z, Eq(4285.71428571429*(z**2 + 2*z + 1)/(z + 1)**2.5 + 8571.42857142857/(z + 1)**0.5 - 8571.42857142857, 0), Reals), {-1})"
      ]
     },
     "execution_count": 3,
     "metadata": {},
     "output_type": "execute_result"
    }
   ],
   "source": [
    "from sympy import symbols, diff, solveset, S\n",
    "\n",
    "# Define the symbols\n",
    "z = symbols('z', real=True)\n",
    "H0 = 70  # Hubble constant in km/s/Mpc\n",
    "c = 3e5  # Speed of light in km/s\n",
    "\n",
    "# Einstein-de Sitter Universe (flat, matter-dominated universe)\n",
    "# Mattig’s formula simplified for EdS universe\n",
    "dA = 2 * c / (H0 * (1 + z)) * (1 - (1 + z)**(-0.5))\n",
    "\n",
    "# Derivative of dA with respect to z\n",
    "dA_diff = diff(dA, z)\n",
    "\n",
    "# Solve the derivative for zero to find the maximum\n",
    "max_redshift_solution = solveset(dA_diff, z, domain=S.Reals)\n",
    "\n",
    "max_redshift_solution\n",
    "\n"
   ]
  },
  {
   "cell_type": "code",
   "execution_count": 4,
   "metadata": {},
   "outputs": [
    {
     "data": {
      "text/plain": [
       "'- \\\\frac{41970944.12 \\\\cdot \\\\left(1 - \\\\left(z + 1\\\\right)^{-0.5}\\\\right)}{\\\\left(70 z + 70\\\\right)^{2}} + \\\\frac{299792.458}{\\\\left(z + 1\\\\right)^{1.5} \\\\cdot \\\\left(70 z + 70\\\\right)}'"
      ]
     },
     "execution_count": 4,
     "metadata": {},
     "output_type": "execute_result"
    }
   ],
   "source": [
    "import sympy as sp\n",
    "\n",
    "# Define the symbols\n",
    "z = sp.symbols('z')\n",
    "H_0 = 70  # Hubble constant in km/s/Mpc\n",
    "c = 299792.458  # speed of light in km/s\n",
    "\n",
    "# Define the equation for dA in an EdS universe\n",
    "dA = 2 * c / (H_0 * (1 + z)) * (1 - (1 + z)**(-1/2))\n",
    "\n",
    "# Step 1: Differentiate dA with respect to z\n",
    "dA_diff = sp.diff(dA, z)\n",
    "\n",
    "# Display the differentiated equation\n",
    "dA_diff_latex = sp.latex(dA_diff)\n",
    "dA_diff_latex\n",
    "\n"
   ]
  },
  {
   "cell_type": "code",
   "execution_count": 5,
   "metadata": {},
   "outputs": [
    {
     "data": {
      "text/plain": [
       "11991888000000.0"
      ]
     },
     "execution_count": 5,
     "metadata": {},
     "output_type": "execute_result"
    }
   ],
   "source": [
    "# Converting 3.7*10^5 years into seconds\n",
    "# 1 year = 365.25 days (accounting for leap years), 1 day = 24 hours, 1 hour = 60 minutes, 1 minute = 60 seconds\n",
    "\n",
    "years = 3.8e5\n",
    "days_per_year = 365.25\n",
    "hours_per_day = 24\n",
    "minutes_per_hour = 60\n",
    "seconds_per_minute = 60\n",
    "\n",
    "seconds = years * days_per_year * hours_per_day * minutes_per_hour * seconds_per_minute\n",
    "seconds\n",
    "\n"
   ]
  },
  {
   "cell_type": "code",
   "execution_count": 6,
   "metadata": {},
   "outputs": [
    {
     "data": {
      "text/plain": [
       "'- \\\\frac{41970944.12 \\\\cdot \\\\left(1 - \\\\left(z + 1\\\\right)^{-0.5}\\\\right)}{\\\\left(70 z + 70\\\\right)^{2}} + \\\\frac{299792.458}{\\\\left(z + 1\\\\right)^{1.5} \\\\cdot \\\\left(70 z + 70\\\\right)}'"
      ]
     },
     "execution_count": 6,
     "metadata": {},
     "output_type": "execute_result"
    }
   ],
   "source": [
    "import sympy as sp\n",
    "\n",
    "# Define the symbols\n",
    "z = sp.symbols('z')\n",
    "H_0 = 70  # Hubble constant in km/s/Mpc, given in the problem\n",
    "c = 299792.458  # speed of light in km/s, standard value\n",
    "\n",
    "# Define the equation for dA in an EdS universe\n",
    "dA = 2 * c / (H_0 * (1 + z)) * (1 - (1 + z)**(-1/2))\n",
    "\n",
    "# Differentiate dA with respect to z\n",
    "dA_diff = sp.diff(dA, z)\n",
    "\n",
    "# Display the differentiated equation in LaTeX format\n",
    "dA_diff_latex = sp.latex(dA_diff)\n",
    "dA_diff_latex"
   ]
  },
  {
   "cell_type": "code",
   "execution_count": 7,
   "metadata": {},
   "outputs": [
    {
     "data": {
      "text/plain": [
       "[-0.750000000000000]"
      ]
     },
     "execution_count": 7,
     "metadata": {},
     "output_type": "execute_result"
    }
   ],
   "source": [
    "# Given equation to solve for z\n",
    "equation = sp.Eq((41970944.12 * (1 - (z + 1)**(-0.5))) / ((70 * z + 70)**2) + (299792.458 / ((z + 1)**1.5 * (70 * z + 70))), 0)\n",
    "\n",
    "# Solve the equation\n",
    "solutions = sp.solve(equation, z)\n",
    "solutions_numeric = [sol.evalf() for sol in solutions]\n",
    "solutions_numeric\n",
    "\n"
   ]
  },
  {
   "cell_type": "code",
   "execution_count": 1,
   "metadata": {},
   "outputs": [
    {
     "data": {
      "text/plain": [
       "8.286482793110267"
      ]
     },
     "execution_count": 1,
     "metadata": {},
     "output_type": "execute_result"
    }
   ],
   "source": [
    "# Given values for the calculation\n",
    "z = 1000\n",
    "H_0 = 70  # Hubble constant in km/s/Mpc\n",
    "c = 299792.458  # speed of light in km/s\n",
    "\n",
    "# Calculate d_A at z = 1000\n",
    "dA_at_1000 = 2 * c / (H_0 * (1 + z)) * (1 - (1 + z)**(-1/2))\n",
    "dA_at_1000"
   ]
  },
  {
   "cell_type": "code",
   "execution_count": 2,
   "metadata": {},
   "outputs": [
    {
     "data": {
      "text/plain": [
       "2.5570596e+20"
      ]
     },
     "execution_count": 2,
     "metadata": {},
     "output_type": "execute_result"
    }
   ],
   "source": [
    "c = 299792.458  # speed of light in km/s\n",
    "td = 11991888000000  # time in seconds\n",
    "dA_at_1000 = 8.286  # dA at z=1000 in Mpc\n",
    "Mpc_to_km = 3.086e+19  # Conversion factor from Mpc to km\n",
    "\n",
    "# Convert dA from Mpc to km\n",
    "dA_at_1000_km = dA_at_1000 * Mpc_to_km\n",
    "dA_at_1000_km "
   ]
  },
  {
   "cell_type": "code",
   "execution_count": 3,
   "metadata": {},
   "outputs": [
    {
     "data": {
      "text/plain": [
       "3.595077579580704e+18"
      ]
     },
     "execution_count": 3,
     "metadata": {},
     "output_type": "execute_result"
    }
   ],
   "source": [
    "proper_diameter_km = c * td\n",
    "\n",
    "proper_diameter_km"
   ]
  },
  {
   "cell_type": "code",
   "execution_count": 8,
   "metadata": {
    "scrolled": true
   },
   "outputs": [
    {
     "data": {
      "text/latex": [
       "$\\displaystyle 0.0140591887738155$"
      ],
      "text/plain": [
       "0.0140591887738155"
      ]
     },
     "execution_count": 8,
     "metadata": {},
     "output_type": "execute_result"
    }
   ],
   "source": [
    "import math\n",
    "import sympy as sp\n",
    "\n",
    "theta_radians = 2 * sp.atan(proper_diameter_km / (2 * dA_at_1000_km))\n",
    "theta_radians"
   ]
  },
  {
   "cell_type": "code",
   "execution_count": 7,
   "metadata": {},
   "outputs": [
    {
     "data": {
      "text/plain": [
       "0.8055321801173361"
      ]
     },
     "execution_count": 7,
     "metadata": {},
     "output_type": "execute_result"
    }
   ],
   "source": [
    "theta_radians *180/math.pi"
   ]
  },
  {
   "cell_type": "code",
   "execution_count": 9,
   "metadata": {},
   "outputs": [
    {
     "ename": "NotImplementedError",
     "evalue": "multiple generators [z, hyper((4/3, 3/2), (7/3,), 3*z**3*exp_polar(I*pi)/7 + 9*z**2*exp_polar(I*pi)/7 + 9*z*exp_polar(I*pi)/7 + 3*exp_polar(I*pi)/7)]\nNo algorithms are implemented to solve equation 149896229*(320150520357427*(z + 1)**3*exp_polar(I*pi)*gamma(1/3)*hyper((4/3, 3/2), (7/3,), 3*(z + 1)**3*exp_polar(I*pi)/7)/(5000000000000000*gamma(4/3)) + 199204768222399*gamma(1/3)*hyper((1/3, 1/2), (4/3,), 3*(z + 1)**3*exp_polar(I*pi)/7)/(500000000000000*gamma(4/3)))/(500*(70*z + 70)) - 1049273603*(199204768222399*(z + 1)*gamma(1/3)*hyper((1/3, 1/2), (4/3,), 3*(z + 1)**3*exp_polar(I*pi)/7)/(500000000000000*gamma(4/3)) - 199204768222399*gamma(1/3)*hyper((1/3, 1/2), (4/3,), -3/7)/(500000000000000*gamma(4/3)))/(50*(70*z + 70)**2)",
     "output_type": "error",
     "traceback": [
      "\u001b[1;31m---------------------------------------------------------------------------\u001b[0m",
      "\u001b[1;31mNotImplementedError\u001b[0m                       Traceback (most recent call last)",
      "Cell \u001b[1;32mIn[9], line 23\u001b[0m\n\u001b[0;32m     20\u001b[0m dA_diff \u001b[38;5;241m=\u001b[39m sp\u001b[38;5;241m.\u001b[39mdiff(dA, z)\n\u001b[0;32m     22\u001b[0m \u001b[38;5;66;03m# Solve the derivative equation for zero to find the maximum\u001b[39;00m\n\u001b[1;32m---> 23\u001b[0m max_z \u001b[38;5;241m=\u001b[39m \u001b[43msp\u001b[49m\u001b[38;5;241;43m.\u001b[39;49m\u001b[43msolve\u001b[49m\u001b[43m(\u001b[49m\u001b[43mdA_diff\u001b[49m\u001b[43m,\u001b[49m\u001b[43m \u001b[49m\u001b[43mz\u001b[49m\u001b[43m)\u001b[49m\n\u001b[0;32m     24\u001b[0m max_z\n",
      "File \u001b[1;32m~\\.virtualenvs\\astrophysics-exercises-hNDRGfmw\\Lib\\site-packages\\sympy\\solvers\\solvers.py:1145\u001b[0m, in \u001b[0;36msolve\u001b[1;34m(f, *symbols, **flags)\u001b[0m\n\u001b[0;32m   1143\u001b[0m         solution \u001b[38;5;241m=\u001b[39m _solve_undetermined(f[\u001b[38;5;241m0\u001b[39m], symbols, flags)\n\u001b[0;32m   1144\u001b[0m     \u001b[38;5;28;01mif\u001b[39;00m \u001b[38;5;129;01mnot\u001b[39;00m solution:\n\u001b[1;32m-> 1145\u001b[0m         solution \u001b[38;5;241m=\u001b[39m \u001b[43m_solve\u001b[49m\u001b[43m(\u001b[49m\u001b[43mf\u001b[49m\u001b[43m[\u001b[49m\u001b[38;5;241;43m0\u001b[39;49m\u001b[43m]\u001b[49m\u001b[43m,\u001b[49m\u001b[43m \u001b[49m\u001b[38;5;241;43m*\u001b[39;49m\u001b[43msymbols\u001b[49m\u001b[43m,\u001b[49m\u001b[43m \u001b[49m\u001b[38;5;241;43m*\u001b[39;49m\u001b[38;5;241;43m*\u001b[39;49m\u001b[43mflags\u001b[49m\u001b[43m)\u001b[49m\n\u001b[0;32m   1146\u001b[0m \u001b[38;5;28;01melse\u001b[39;00m:\n\u001b[0;32m   1147\u001b[0m     linear, solution \u001b[38;5;241m=\u001b[39m _solve_system(f, symbols, \u001b[38;5;241m*\u001b[39m\u001b[38;5;241m*\u001b[39mflags)\n",
      "File \u001b[1;32m~\\.virtualenvs\\astrophysics-exercises-hNDRGfmw\\Lib\\site-packages\\sympy\\solvers\\solvers.py:1693\u001b[0m, in \u001b[0;36m_solve\u001b[1;34m(f, *symbols, **flags)\u001b[0m\n\u001b[0;32m   1690\u001b[0m \u001b[38;5;66;03m# ----------- end of fallback ----------------------------\u001b[39;00m\n\u001b[0;32m   1692\u001b[0m \u001b[38;5;28;01mif\u001b[39;00m result \u001b[38;5;129;01mis\u001b[39;00m \u001b[38;5;28;01mFalse\u001b[39;00m:\n\u001b[1;32m-> 1693\u001b[0m     \u001b[38;5;28;01mraise\u001b[39;00m \u001b[38;5;167;01mNotImplementedError\u001b[39;00m(\u001b[38;5;124m'\u001b[39m\u001b[38;5;130;01m\\n\u001b[39;00m\u001b[38;5;124m'\u001b[39m\u001b[38;5;241m.\u001b[39mjoin([msg, not_impl_msg \u001b[38;5;241m%\u001b[39m f]))\n\u001b[0;32m   1695\u001b[0m result \u001b[38;5;241m=\u001b[39m _remove_duplicate_solutions(result)\n\u001b[0;32m   1697\u001b[0m \u001b[38;5;28;01mif\u001b[39;00m flags\u001b[38;5;241m.\u001b[39mget(\u001b[38;5;124m'\u001b[39m\u001b[38;5;124msimplify\u001b[39m\u001b[38;5;124m'\u001b[39m, \u001b[38;5;28;01mTrue\u001b[39;00m):\n",
      "\u001b[1;31mNotImplementedError\u001b[0m: multiple generators [z, hyper((4/3, 3/2), (7/3,), 3*z**3*exp_polar(I*pi)/7 + 9*z**2*exp_polar(I*pi)/7 + 9*z*exp_polar(I*pi)/7 + 3*exp_polar(I*pi)/7)]\nNo algorithms are implemented to solve equation 149896229*(320150520357427*(z + 1)**3*exp_polar(I*pi)*gamma(1/3)*hyper((4/3, 3/2), (7/3,), 3*(z + 1)**3*exp_polar(I*pi)/7)/(5000000000000000*gamma(4/3)) + 199204768222399*gamma(1/3)*hyper((1/3, 1/2), (4/3,), 3*(z + 1)**3*exp_polar(I*pi)/7)/(500000000000000*gamma(4/3)))/(500*(70*z + 70)) - 1049273603*(199204768222399*(z + 1)*gamma(1/3)*hyper((1/3, 1/2), (4/3,), 3*(z + 1)**3*exp_polar(I*pi)/7)/(500000000000000*gamma(4/3)) - 199204768222399*gamma(1/3)*hyper((1/3, 1/2), (4/3,), -3/7)/(500000000000000*gamma(4/3)))/(50*(70*z + 70)**2)"
     ]
    }
   ],
   "source": [
    "import sympy as sp\n",
    "\n",
    "# Define symbols\n",
    "z = sp.symbols('z')\n",
    "H_0 = 70  # Hubble constant in km/s/Mpc, typical value\n",
    "c = 299792.458  # speed of light in km/s\n",
    "Omega_m0 = 0.3  # Matter density parameter\n",
    "Omega_Lambda0 = 0.7  # Dark energy density parameter\n",
    "\n",
    "# Define the integrand for the angular-diameter distance\n",
    "integrand = 1 / sp.sqrt(Omega_m0 * (1 + z)**3 + Omega_Lambda0)\n",
    "\n",
    "# Perform the integral\n",
    "integral = sp.integrate(integrand, (z, 0, z))\n",
    "\n",
    "# Angular-diameter distance equation\n",
    "dA = c / (H_0 * (1 + z)) * integral\n",
    "\n",
    "# Differentiate dA with respect to z\n",
    "dA_diff = sp.diff(dA, z)\n",
    "\n",
    "# Solve the derivative equation for zero to find the maximum\n",
    "max_z = sp.solve(dA_diff, z)\n",
    "max_z\n",
    "\n"
   ]
  },
  {
   "cell_type": "code",
   "execution_count": 10,
   "metadata": {},
   "outputs": [
    {
     "ename": "NameError",
     "evalue": "name 'derivative_dA' is not defined",
     "output_type": "error",
     "traceback": [
      "\u001b[1;31m---------------------------------------------------------------------------\u001b[0m",
      "\u001b[1;31mNameError\u001b[0m                                 Traceback (most recent call last)",
      "Cell \u001b[1;32mIn[10], line 11\u001b[0m\n\u001b[0;32m      9\u001b[0m     integral, _ \u001b[38;5;241m=\u001b[39m quad(integrand, \u001b[38;5;241m0\u001b[39m, z, args\u001b[38;5;241m=\u001b[39m(Omega_m0, Omega_Lambda0))\n\u001b[0;32m     10\u001b[0m     \u001b[38;5;28;01mreturn\u001b[39;00m c \u001b[38;5;241m/\u001b[39m (H_0 \u001b[38;5;241m*\u001b[39m (\u001b[38;5;241m1\u001b[39m \u001b[38;5;241m+\u001b[39m z)) \u001b[38;5;241m*\u001b[39m integral\n\u001b[1;32m---> 11\u001b[0m result \u001b[38;5;241m=\u001b[39m minimize_scalar(\u001b[43mderivative_dA\u001b[49m, bounds\u001b[38;5;241m=\u001b[39m(\u001b[38;5;241m0\u001b[39m, \u001b[38;5;241m10\u001b[39m), args\u001b[38;5;241m=\u001b[39m(H_0, Omega_m0, Omega_Lambda0), method\u001b[38;5;241m=\u001b[39m\u001b[38;5;124m'\u001b[39m\u001b[38;5;124mbounded\u001b[39m\u001b[38;5;124m'\u001b[39m)\n\u001b[0;32m     12\u001b[0m max_z \u001b[38;5;241m=\u001b[39m result\u001b[38;5;241m.\u001b[39mx\n\u001b[0;32m     13\u001b[0m \u001b[38;5;28mprint\u001b[39m(\u001b[38;5;124m\"\u001b[39m\u001b[38;5;124mRedshift at maximum dA:\u001b[39m\u001b[38;5;124m\"\u001b[39m, max_z)\n",
      "\u001b[1;31mNameError\u001b[0m: name 'derivative_dA' is not defined"
     ]
    }
   ],
   "source": [
    "import numpy as np\n",
    "from scipy.integrate import quad\n",
    "from scipy.optimize import minimize_scalar\n",
    "\n",
    "def integrand(z, Omega_m0, Omega_Lambda0):\n",
    "    return 1.0 / np.sqrt(Omega_m0 * (1 + z)**3 + Omega_Lambda0)\n",
    "\n",
    "def dA(z, H_0, Omega_m0, Omega_Lambda0):\n",
    "    integral, _ = quad(integrand, 0, z, args=(Omega_m0, Omega_Lambda0))\n",
    "    return c / (H_0 * (1 + z)) * integral\n",
    "\n",
    "\n",
    "result = minimize_scalar(derivative_dA, bounds=(0, 10), args=(H_0, Omega_m0, Omega_Lambda0), method='bounded')\n",
    "max_z = result.x\n",
    "print(\"Redshift at maximum dA:\", max_z)\n",
    "\n"
   ]
  },
  {
   "cell_type": "code",
   "execution_count": 11,
   "metadata": {},
   "outputs": [
    {
     "name": "stdout",
     "output_type": "stream",
     "text": [
      "Redshift at maximum dA: 3.1657799950787315\n"
     ]
    }
   ],
   "source": [
    "import numpy as np\n",
    "from scipy.integrate import quad\n",
    "from scipy.optimize import minimize_scalar\n",
    "\n",
    "# Define the constants\n",
    "c = 299792.458  # Speed of light in km/s\n",
    "H_0 = 70  # Hubble constant in km/s/Mpc\n",
    "\n",
    "# Cosmological parameters\n",
    "Omega_m0 = 0.3\n",
    "Omega_Lambda0 = 0.7\n",
    "\n",
    "# Define the integrand\n",
    "def integrand(z, Omega_m0, Omega_Lambda0):\n",
    "    E_z = np.sqrt(Omega_m0 * (1 + z)**3 + Omega_Lambda0)\n",
    "    return 1.0 / E_z\n",
    "\n",
    "# Function to calculate dA\n",
    "def dA(z, Omega_m0, Omega_Lambda0, H_0, c):\n",
    "    integral, _ = quad(integrand, 0, z, args=(Omega_m0, Omega_Lambda0))\n",
    "    return c / (H_0 * (1 + z)) * integral\n",
    "\n",
    "# Function to calculate the derivative of dA\n",
    "def derivative_dA(z, Omega_m0, Omega_Lambda0, H_0, c):\n",
    "    h = 1e-5  # A small number for numerical differentiation\n",
    "    return (dA(z + h, Omega_m0, Omega_Lambda0, H_0, c) - dA(z, Omega_m0, Omega_Lambda0, H_0, c)) / h\n",
    "\n",
    "# Find the redshift at which dA is maximum\n",
    "result = minimize_scalar(derivative_dA, bounds=(0, 5), method='bounded', args=(Omega_m0, Omega_Lambda0, H_0, c))\n",
    "max_z = result.x\n",
    "\n",
    "print(\"Redshift at maximum dA:\", max_z)\n"
   ]
  },
  {
   "cell_type": "code",
   "execution_count": null,
   "metadata": {},
   "outputs": [],
   "source": []
  }
 ],
 "metadata": {
  "kernelspec": {
   "display_name": "Python 3 (ipykernel)",
   "language": "python",
   "name": "python3"
  },
  "language_info": {
   "codemirror_mode": {
    "name": "ipython",
    "version": 3
   },
   "file_extension": ".py",
   "mimetype": "text/x-python",
   "name": "python",
   "nbconvert_exporter": "python",
   "pygments_lexer": "ipython3",
   "version": "3.12.2"
  }
 },
 "nbformat": 4,
 "nbformat_minor": 4
}
