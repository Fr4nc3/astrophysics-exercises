{
 "cells": [
  {
   "cell_type": "markdown",
   "metadata": {},
   "source": [
    "## Planetary Science \n",
    "### constant"
   ]
  },
  {
   "cell_type": "code",
   "execution_count": 6,
   "metadata": {},
   "outputs": [],
   "source": [
    "import math\n",
    "c = 3.00e8  # Speed of light in m/s\n",
    "mu0_Hm = 4 * math.pi * 1e-7  # Magnetic constant in H/m\n",
    "mu0_VsAm = 4 * math.pi * 1e-7  # Magnetic constant in Vs/A*m\n",
    "epsilon0_Fm = 8.85e-12  # Electric constant in F/m\n",
    "epsilon0_AsVm = 8.85e-12  # Electric constant in As/V*m\n",
    "e = 1.60e-19  # Elementary charge in C\n",
    "h = 6.63e-34  # Planck constant in J*s\n",
    "NA = 6.02e23  # Avogadro's number in 1/mol\n",
    "k = 1.38e-23  # Boltzmann constant in J/K\n",
    "R = 8.31  # Gas constant in J/K*mol\n",
    "mu_kg = 1.66e-27  # Atomic mass unit in kg\n",
    "mu_MeVc2 = 931.5  # Atomic mass unit in MeV/c^2\n",
    "me = 9.11e-31  # Electron mass in kg\n",
    "mp = 1.67e-27  # Proton mass in kg\n",
    "G = 6.67e-11  # Gravitational constant in N m^2/kg^2\n",
    "sigma = 5.67e-8  # Stefan-Boltzmann constant in W/m^2*K^4\n",
    "g = 9.8  # Acceleration due to gravity in m/s^2\n",
    "muB = 9.27e-24  # Bohr magneton in J/T\n",
    "IH = 13.6  # Ionization energy of hydrogen in eV\n",
    "Msun = 1.989e30  # Solar mass in kg\n",
    "Rsun = 6.960e8  # Solar radius in m\n",
    "Lsun = 3.862e26  # Solar luminosity in W\n",
    "Teff_sun = 5770  # Effective temperature of the sun in K\n",
    "AU = 1.496e11  # Astronomical unit in m\n",
    "pc = 3.086e16  # Parsec in m\n",
    "pi = math.pi"
   ]
  },
  {
   "cell_type": "markdown",
   "metadata": {},
   "source": [
    "### Kepler's First Law\n",
    "Where r is the heliocentric distance, a is the semi-major axis of the ellipse, e is the eccentricity, and θ is the angle formed by the planet, the Sun, and the line joining the planet to the Sun at the closest approach (called perihelion) \n",
    "(i.e., θ = 0 at perihelion, θ = π at aphelion)"
   ]
  },
  {
   "cell_type": "code",
   "execution_count": null,
   "metadata": {},
   "outputs": [],
   "source": [
    "# Kepler's First Law\n",
    "a = 0 # a is the semi-major axis of the ellipse\n",
    "theta = 0 # θ is the angle formed by the planet, the Sun \n",
    "eccentricity = 0 #  e is the eccentricity\n",
    "\n",
    "\n",
    "r = a*((1-eccentricity **2)/(1+e*math.cos(theta)))"
   ]
  },
  {
   "cell_type": "code",
   "execution_count": null,
   "metadata": {},
   "outputs": [],
   "source": [
    "# Kepler’s Second Law\n"
   ]
  },
  {
   "cell_type": "markdown",
   "metadata": {},
   "source": [
    "### Kepler’s Second Law\n",
    "dr=vdt\r",
    "So conservation of angular momentum results in Kepler’s Second Law."
   ]
  },
  {
   "cell_type": "code",
   "execution_count": null,
   "metadata": {},
   "outputs": [],
   "source": []
  },
  {
   "attachments": {},
   "cell_type": "markdown",
   "metadata": {},
   "source": [
    "### Kepler’s Third Law\n",
    "Consider two objects orbiting their common centre of mass:\n",
    "Where:\n",
    "a is the semi-major axis of the orbit\n",
    "P is the orbital period\n",
    "m1 and m2 are the masses of the objects\n",
    "G is the gravitational constant (6.67 x 10-11 N m2 kg-2)"
   ]
  },
  {
   "cell_type": "code",
   "execution_count": null,
   "metadata": {},
   "outputs": [],
   "source": [
    "# Kepler’s Third Law\n",
    "a1 = \n",
    "a2 = \n",
    "a =  # a is the semi-major axis of the orbit\n",
    "P =  # P is the orbital period\n",
    "m1 = # mass 1 \n",
    "m2 = # mass 2\n",
    "\n"
   ]
  },
  {
   "cell_type": "code",
   "execution_count": null,
   "metadata": {},
   "outputs": [],
   "source": [
    "a1 = (a*m2)/(m1+m2)\n",
    "a2 = (a*m1)/(m1+m2)\n",
    "a = a1 + a2\n",
    "omega = (2*math.pi)/P\n",
    "# (a**3/P**2) = (G*(m1+m2))/(4*pi**2) = constant\n"
   ]
  },
  {
   "cell_type": "code",
   "execution_count": null,
   "metadata": {},
   "outputs": [],
   "source": [
    "# If we consider the Solar System and choose to measure P in years and a in Astronomical Units:\n",
    "# (a**3/P**2) = 1 "
   ]
  },
  {
   "cell_type": "code",
   "execution_count": 4,
   "metadata": {},
   "outputs": [],
   "source": [
    "\n",
    "# Where r is the orbital radius and k is a constant. Since the velocity v will be constant, the period\n",
    "#P = (2*pi*r)/v"
   ]
  },
  {
   "cell_type": "code",
   "execution_count": 5,
   "metadata": {},
   "outputs": [],
   "source": [
    "#P**2 = k*r**3"
   ]
  },
  {
   "cell_type": "code",
   "execution_count": null,
   "metadata": {},
   "outputs": [],
   "source": [
    "# (4*pi**2*r**2)/v**2 = k*r**3"
   ]
  },
  {
   "cell_type": "code",
   "execution_count": null,
   "metadata": {},
   "outputs": [],
   "source": [
    "#F = Mass x Acceleration\n",
    "F = m*v**2/r\n",
    "# planet (mass m) by the star (mass M) \n",
    "# Where G = 4p2/k’’ = 6.673 x 10-11 N m2 kg-2\n",
    "F = G*(m*M)/r**2\n"
   ]
  },
  {
   "cell_type": "code",
   "execution_count": null,
   "metadata": {},
   "outputs": [],
   "source": [
    "# Generalizing for the differential force between the opposite sides \n",
    "# and centre of mass of an object of mass m \n",
    "# and radius R a distance r from another object of mass M is\n",
    "F = 2*G*(M*m*R)/r**3 # tidal forces"
   ]
  },
  {
   "cell_type": "code",
   "execution_count": null,
   "metadata": {},
   "outputs": [],
   "source": []
  }
 ],
 "metadata": {
  "kernelspec": {
   "display_name": "Python 3 (ipykernel)",
   "language": "python",
   "name": "python3"
  },
  "language_info": {
   "codemirror_mode": {
    "name": "ipython",
    "version": 3
   },
   "file_extension": ".py",
   "mimetype": "text/x-python",
   "name": "python",
   "nbconvert_exporter": "python",
   "pygments_lexer": "ipython3",
   "version": "3.12.0"
  }
 },
 "nbformat": 4,
 "nbformat_minor": 4
}
