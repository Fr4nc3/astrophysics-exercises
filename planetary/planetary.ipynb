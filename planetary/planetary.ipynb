{
 "cells": [
  {
   "cell_type": "markdown",
   "metadata": {},
   "source": [
    "## Planetary Science \n",
    "### constant"
   ]
  },
  {
   "cell_type": "code",
   "execution_count": 6,
   "metadata": {},
   "outputs": [],
   "source": [
    "import math\n",
    "c = 3.00e8  # Speed of light in m/s\n",
    "mu0_Hm = 4 * math.pi * 1e-7  # Magnetic constant in H/m\n",
    "mu0_VsAm = 4 * math.pi * 1e-7  # Magnetic constant in Vs/A*m\n",
    "epsilon0_Fm = 8.85e-12  # Electric constant in F/m\n",
    "epsilon0_AsVm = 8.85e-12  # Electric constant in As/V*m\n",
    "e = 1.60e-19  # Elementary charge in C\n",
    "h = 6.63e-34  # Planck constant in J*s\n",
    "NA = 6.02e23  # Avogadro's number in 1/mol\n",
    "k = 1.38e-23  # Boltzmann constant in J/K\n",
    "R = 8.31  # Gas constant in J/K*mol\n",
    "mu_kg = 1.66e-27  # Atomic mass unit in kg\n",
    "mu_MeVc2 = 931.5  # Atomic mass unit in MeV/c^2\n",
    "me = 9.11e-31  # Electron mass in kg\n",
    "mp = 1.67e-27  # Proton mass in kg\n",
    "G = 6.67e-11  # Gravitational constant in N m^2/kg^2\n",
    "sigma = 5.67e-8  # Stefan-Boltzmann constant in W/m^2*K^4\n",
    "g = 9.8  # Acceleration due to gravity in m/s^2\n",
    "muB = 9.27e-24  # Bohr magneton in J/T\n",
    "IH = 13.6  # Ionization energy of hydrogen in eV\n",
    "Msun = 1.989e30  # Solar mass in kg\n",
    "Rsun = 6.960e8  # Solar radius in m\n",
    "Lsun = 3.862e26  # Solar luminosity in W\n",
    "Teff_sun = 5770  # Effective temperature of the sun in K\n",
    "AU = 1.496e11  # Astronomical unit in m\n",
    "pc = 3.086e16  # Parsec in m\n",
    "pi = math.pi"
   ]
  },
  {
   "cell_type": "markdown",
   "metadata": {},
   "source": [
    "### Kepler's First Law\n",
    "Where r is the heliocentric distance, a is the semi-major axis of the ellipse, e is the eccentricity, and θ is the angle formed by the planet, the Sun, and the line joining the planet to the Sun at the closest approach (called perihelion) \n",
    "(i.e., θ = 0 at perihelion, θ = π at aphelion)"
   ]
  },
  {
   "cell_type": "code",
   "execution_count": null,
   "metadata": {},
   "outputs": [],
   "source": [
    "# Kepler's First Law\n",
    "a = 0 # a is the semi-major axis of the ellipse\n",
    "theta = 0 # θ is the angle formed by the planet, the Sun \n",
    "eccentricity = 0 #  e is the eccentricity\n",
    "\n",
    "\n",
    "r = a*((1-eccentricity **2)/(1+e*math.cos(theta)))"
   ]
  },
  {
   "cell_type": "code",
   "execution_count": null,
   "metadata": {},
   "outputs": [],
   "source": [
    "# Kepler’s Second Law\n"
   ]
  },
  {
   "cell_type": "markdown",
   "metadata": {},
   "source": [
    "### Kepler’s Second Law\n",
    "dr=vdt\r",
    "So conservation of angular momentum results in Kepler’s Second Law."
   ]
  },
  {
   "cell_type": "code",
   "execution_count": null,
   "metadata": {},
   "outputs": [],
   "source": []
  },
  {
   "attachments": {},
   "cell_type": "markdown",
   "metadata": {},
   "source": [
    "### Kepler’s Third Law\n",
    "Consider two objects orbiting their common centre of mass:\n",
    "Where:\n",
    "a is the semi-major axis of the orbit\n",
    "P is the orbital period\n",
    "m1 and m2 are the masses of the objects\n",
    "G is the gravitational constant (6.67 x 10-11 N m2 kg-2)"
   ]
  },
  {
   "cell_type": "code",
   "execution_count": null,
   "metadata": {},
   "outputs": [],
   "source": [
    "# Kepler’s Third Law\n",
    "a1 = \n",
    "a2 = \n",
    "a =  # a is the semi-major axis of the orbit\n",
    "P =  # P is the orbital period\n",
    "m1 = # mass 1 \n",
    "m2 = # mass 2\n",
    "\n"
   ]
  },
  {
   "cell_type": "code",
   "execution_count": null,
   "metadata": {},
   "outputs": [],
   "source": [
    "a1 = (a*m2)/(m1+m2)\n",
    "a2 = (a*m1)/(m1+m2)\n",
    "a = a1 + a2\n",
    "omega = (2*math.pi)/P\n",
    "# (a**3/P**2) = (G*(m1+m2))/(4*pi**2) = constant\n"
   ]
  },
  {
   "cell_type": "code",
   "execution_count": null,
   "metadata": {},
   "outputs": [],
   "source": [
    "# If we consider the Solar System and choose to measure P in years and a in Astronomical Units:\n",
    "# (a**3/P**2) = 1 "
   ]
  },
  {
   "cell_type": "code",
   "execution_count": 4,
   "metadata": {},
   "outputs": [],
   "source": [
    "\n",
    "# Where r is the orbital radius and k is a constant. Since the velocity v will be constant, the period\n",
    "#P = (2*pi*r)/v"
   ]
  },
  {
   "cell_type": "code",
   "execution_count": 5,
   "metadata": {},
   "outputs": [],
   "source": [
    "#P**2 = k*r**3"
   ]
  },
  {
   "cell_type": "code",
   "execution_count": null,
   "metadata": {},
   "outputs": [],
   "source": [
    "# (4*pi**2*r**2)/v**2 = k*r**3"
   ]
  },
  {
   "cell_type": "code",
   "execution_count": null,
   "metadata": {},
   "outputs": [],
   "source": [
    "#F = Mass x Acceleration\n",
    "F = m*v**2/r\n",
    "# planet (mass m) by the star (mass M) \n",
    "# Where G = 4p2/k’’ = 6.673 x 10-11 N m2 kg-2\n",
    "F = G*(m*M)/r**2\n"
   ]
  },
  {
   "cell_type": "code",
   "execution_count": null,
   "metadata": {},
   "outputs": [],
   "source": [
    "# Generalizing for the differential force between the opposite sides \n",
    "# and centre of mass of an object of mass m \n",
    "# and radius R a distance r from another object of mass M is\n",
    "F = 2*G*(M*m*R)/r**3 # tidal forces"
   ]
  },
  {
   "cell_type": "markdown",
   "metadata": {},
   "source": [
    "### Planetary Temperature"
   ]
  },
  {
   "cell_type": "markdown",
   "metadata": {},
   "source": [
    "The absorbed incident radiation depends upon:\n",
    "- The luminosity of the Sun L\n",
    "- The orbital distance d\n",
    "- The planetary radius r\n",
    "- The planetary Albedo A (the fraction of incident light reflected)"
   ]
  },
  {
   "cell_type": "code",
   "execution_count": null,
   "metadata": {},
   "outputs": [],
   "source": [
    "absorbed = ((1-A)*pi*r**2)*L/(4*pi*d**2)"
   ]
  },
  {
   "cell_type": "markdown",
   "metadata": {},
   "source": [
    "The emitted radiation can be assumed to be a blackbody:\n",
    "Where:\n",
    "- T is the surface temperature of the planet (in Kelvin)\n",
    "- σ is the Stefan-Boltzmann constant (5.67 x 10-8 W m-2 K-4)\n"
   ]
  },
  {
   "cell_type": "code",
   "execution_count": 9,
   "metadata": {},
   "outputs": [],
   "source": [
    "emitted_radiation = 4*pi*r**2*sigma*T**4"
   ]
  },
  {
   "cell_type": "code",
   "execution_count": null,
   "metadata": {},
   "outputs": [],
   "source": [
    "T =((1-A)*L/(16*pi*sigma*d**2)**0.25"
   ]
  },
  {
   "cell_type": "markdown",
   "metadata": {},
   "source": [
    "To estimate the surface temperatures of the planets, we'll need a few additional details:\n",
    "\n",
    "Now, let's estimate the temperatures. Afterward, we'll compare them to known values and discuss the discrepancies."
   ]
  },
  {
   "cell_type": "code",
   "execution_count": 10,
   "metadata": {},
   "outputs": [
    {
     "name": "stdout",
     "output_type": "stream",
     "text": [
      "Mercury:\n",
      "    Estimated Temperature: 436.00 K\n",
      "    Known Temperature: 440 K\n",
      "    Discrepancy: -4.00 K\n",
      "\n",
      "Venus:\n",
      "    Estimated Temperature: 232.15 K\n",
      "    Known Temperature: 737 K\n",
      "    Discrepancy: -504.85 K\n",
      "\n",
      "Earth:\n",
      "    Estimated Temperature: 254.60 K\n",
      "    Known Temperature: 288 K\n",
      "    Discrepancy: -33.40 K\n",
      "\n",
      "Mars:\n",
      "    Estimated Temperature: 210.32 K\n",
      "    Known Temperature: 210 K\n",
      "    Discrepancy: 0.32 K\n",
      "\n",
      "Jupiter:\n",
      "    Estimated Temperature: 110.08 K\n",
      "    Known Temperature: 165 K\n",
      "    Discrepancy: -54.92 K\n",
      "\n",
      "Saturn:\n",
      "    Estimated Temperature: 81.18 K\n",
      "    Known Temperature: 134 K\n",
      "    Discrepancy: -52.82 K\n",
      "\n",
      "Uranus:\n",
      "    Estimated Temperature: 58.23 K\n",
      "    Known Temperature: 76 K\n",
      "    Discrepancy: -17.77 K\n",
      "\n",
      "Neptune:\n",
      "    Estimated Temperature: 46.70 K\n",
      "    Known Temperature: 72 K\n",
      "    Discrepancy: -25.30 K\n",
      "\n",
      "\n",
      "Discrepancies between the estimated and known temperatures can arise due to various factors:\n",
      "1. Atmospheric effects, particularly the greenhouse effect, can cause temperatures to be higher than those estimated purely from solar radiation.\n",
      "2. Internal heat from the planet, particularly for gas giants, can contribute to the planet's temperature.\n",
      "3. The model does not account for energy redistribution around the planet, which can affect average temperatures.\n",
      "4. The albedo used is an average value, and the actual albedo can vary across the surface and atmosphere of the planet.\n"
     ]
    }
   ],
   "source": [
    "# Constants \n",
    "L = 3.862e26  # Solar luminosity in W\n",
    "sigma = 5.67e-8  # Stefan-Boltzmann constant in W/m^2*K^4\n",
    "pi = math.pi\n",
    "\n",
    "# Albedo and distance (semi-major axis) for each planet\n",
    "planets = {\n",
    "    \"Mercury\": {\"albedo\": 0.106, \"distance\": 5.79e10, \"known_temperature\": 440},\n",
    "    \"Venus\": {\"albedo\": 0.75, \"distance\": 1.08e11, \"known_temperature\": 737},\n",
    "    \"Earth\": {\"albedo\": 0.306, \"distance\": 1.496e11, \"known_temperature\": 288},\n",
    "    \"Mars\": {\"albedo\": 0.25, \"distance\": 2.279e11, \"known_temperature\": 210},\n",
    "    \"Jupiter\": {\"albedo\": 0.343, \"distance\": 7.786e11, \"known_temperature\": 165},\n",
    "    \"Saturn\": {\"albedo\": 0.342, \"distance\": 1.433e12, \"known_temperature\": 134},\n",
    "    \"Uranus\": {\"albedo\": 0.300, \"distance\": 2.872e12, \"known_temperature\": 76},\n",
    "    \"Neptune\": {\"albedo\": 0.290, \"distance\": 4.498e12, \"known_temperature\": 72}\n",
    "}\n",
    "\n",
    "# Calculate estimated temperatures\n",
    "for planet, data in planets.items():\n",
    "    A = data[\"albedo\"]\n",
    "    d = data[\"distance\"]\n",
    "    T = ((1-A) * L / (16 * pi * sigma * d**2))**0.25\n",
    "    data[\"estimated_temperature\"] = T\n",
    "\n",
    "# Print out results and discrepancies\n",
    "for planet, data in planets.items():\n",
    "    print(f\"{planet}:\")\n",
    "    print(f\"    Estimated Temperature: {data['estimated_temperature']:.2f} K\")\n",
    "    print(f\"    Known Temperature: {data['known_temperature']} K\")\n",
    "    discrepancy = data['estimated_temperature'] - data['known_temperature']\n",
    "    print(f\"    Discrepancy: {discrepancy:.2f} K\")\n",
    "    print()\n",
    "\n",
    "# Explanation for discrepancies\n",
    "print(\"\\nDiscrepancies between the estimated and known temperatures can arise due to various factors:\")\n",
    "print(\"1. Atmospheric effects, particularly the greenhouse effect, can cause temperatures to be higher than those estimated purely from solar radiation.\")\n",
    "print(\"2. Internal heat from the planet, particularly for gas giants, can contribute to the planet's temperature.\")\n",
    "print(\"3. The model does not account for energy redistribution around the planet, which can affect average temperatures.\")\n",
    "print(\"4. The albedo used is an average value, and the actual albedo can vary across the surface and atmosphere of the planet.\")\n"
   ]
  },
  {
   "cell_type": "markdown",
   "metadata": {},
   "source": [
    "### Gravitational loss\n",
    "For a given planet of mass Mp, radius Rp, the temperature above which a gas composed of particles of mass m will escape is: \n",
    "k is the Boltzmann Constant"
   ]
  },
  {
   "cell_type": "code",
   "execution_count": null,
   "metadata": {},
   "outputs": [],
   "source": [
    "T> (1/54)*((G*Mp*m)/kRp)"
   ]
  },
  {
   "cell_type": "markdown",
   "metadata": {},
   "source": [
    "### Direct Imaging\n",
    "- Where:\n",
    "  - I(θ) is the intensity in the focal plane from a point source\n",
    "  - I0 is the peak intensity\n",
    "  - θ is the projected angle away from the centre (in radians)\n",
    "  - D is the telescope aperture\n",
    "  - λ is the wavelength of the light"
   ]
  },
  {
   "cell_type": "code",
   "execution_count": null,
   "metadata": {},
   "outputs": [],
   "source": [
    "I_omega = I_peak_intensity**((-D**2project_angle**2)/(0.35*wavelenght**2)"
   ]
  },
  {
   "cell_type": "markdown",
   "metadata": {},
   "source": [
    "### Astrometry\n",
    "Planet/Star orbit around common Centre of Mass Net movement (“wobble”) of Star"
   ]
  },
  {
   "cell_type": "code",
   "execution_count": null,
   "metadata": {},
   "outputs": [],
   "source": [
    "R1 = (M2*d)/(M1+M2)\n",
    "R2 = (M1*d)/(M1+M2)"
   ]
  },
  {
   "cell_type": "markdown",
   "metadata": {},
   "source": [
    "### Radial-Velocity Technique\n",
    "- Planet/Star orbit around common Centre of Mass Net movement (“wobble”) of Star\n",
    "- Doppler shift Recall:\n"
   ]
  },
  {
   "cell_type": "code",
   "execution_count": null,
   "metadata": {},
   "outputs": [],
   "source": [
    "f = f_zero*(1 - v/c)"
   ]
  },
  {
   "cell_type": "markdown",
   "metadata": {},
   "source": [
    "### Radial Velocity of the Star\n",
    "This is usually given as the Radial Velocity Semi-Amplitude K where:\n",
    "- where\n",
    "  - a is the semi-major axis of the relevant orbit\n",
    "  - i is the inclination to the line-of-sight\n",
    "  - P is the orbital period\n",
    "  - e is the orbital eccentricity"
   ]
  },
  {
   "cell_type": "code",
   "execution_count": null,
   "metadata": {},
   "outputs": [],
   "source": [
    "k = (2*pi*a*math.sin(i))/(P*math.sqrt(1-eccentricity**2))"
   ]
  },
  {
   "cell_type": "code",
   "execution_count": null,
   "metadata": {},
   "outputs": [],
   "source": [
    "P = math.sqr(a**3 * (4 * pi**2)/(G * (Mstar + Mplanet)))"
   ]
  },
  {
   "cell_type": "code",
   "execution_count": null,
   "metadata": {},
   "outputs": [],
   "source": [
    "a = ((P**2 * G * (Mstar + Mplanet))/(4 * pi**2))**(1/3)"
   ]
  },
  {
   "cell_type": "markdown",
   "metadata": {},
   "source": [
    "### Timing Techniques\n",
    "First ever exoplanet found using Pulsar Timing\n"
   ]
  },
  {
   "cell_type": "code",
   "execution_count": null,
   "metadata": {},
   "outputs": [],
   "source": [
    "maximum_applitude = math.sin(i)*(ap/c)*(Mp/Ms)"
   ]
  },
  {
   "cell_type": "markdown",
   "metadata": {},
   "source": [
    "### Microlensing Amplification"
   ]
  },
  {
   "cell_type": "markdown",
   "metadata": {},
   "source": [
    "### P-Space: Direct Detection"
   ]
  },
  {
   "cell_type": "code",
   "execution_count": null,
   "metadata": {},
   "outputs": [],
   "source": [
    "P = math.sqrt(a**3/M)"
   ]
  },
  {
   "cell_type": "code",
   "execution_count": null,
   "metadata": {},
   "outputs": [],
   "source": [
    "m = math.sqrt((v**2 * P**(2/3) * M**(4/3))/G)"
   ]
  },
  {
   "cell_type": "code",
   "execution_count": null,
   "metadata": {},
   "outputs": [],
   "source": [
    "m = ro * (4/3) * pi rp**3"
   ]
  },
  {
   "cell_type": "markdown",
   "metadata": {},
   "source": [
    "### Planets: Tutorial 1\n",
    "#### Q1\n",
    "- The International Space Station is in a nearly-circular orbit 400km above the surface of the Earth. Estimate its orbital period."
   ]
  },
  {
   "cell_type": "code",
   "execution_count": 17,
   "metadata": {},
   "outputs": [
    {
     "name": "stdout",
     "output_type": "stream",
     "text": [
      "5546.720376078756\n",
      "The estimated orbital period of the ISS is 92.45 minutes.\n"
     ]
    }
   ],
   "source": [
    "\n",
    "# Constants\n",
    "G = 6.67e-11  # Universal gravitational constant in N m^2 kg^-2\n",
    "M = 5.972e24  # Mass of Earth in kg\n",
    "R_earth = 6.371e6  # Radius of Earth in meters\n",
    "altitude = 400e3  # Altitude of ISS in meters\n",
    "\n",
    "# Calculate r\n",
    "r = R_earth + altitude\n",
    "\n",
    "# Calculate the orbital period using Kepler's third law\n",
    "T = 2 * math.pi * math.sqrt(r**3 / (G * M))\n",
    "print(T)\n",
    "# Convert the orbital period from seconds to minutes\n",
    "T_minutes = T / 60\n",
    "\n",
    "print(f\"The estimated orbital period of the ISS is {T_minutes:.2f} minutes.\")\n"
   ]
  },
  {
   "cell_type": "markdown",
   "metadata": {},
   "source": [
    "#### Q2\n",
    "- Calculate the altitude of so-called geostationary or geosynchronous satellites (i.e. those which remain above a fixed point on the Earth).\n",
    "\n",
    "A geostationary or geosynchronous satellite orbits the Earth at an altitude such that its orbital period matches the Earth's rotation period, effectively keeping the satellite above a fixed point on the Earth's surface. The orbital period for such a satellite is 24 hours or, equivalently, \n",
    "\n",
    "86400\n",
    "T=86400 seconds.\n",
    "\n",
    "Using Kepler's third law for circular orbits:"
   ]
  },
  {
   "cell_type": "code",
   "execution_count": 13,
   "metadata": {},
   "outputs": [
    {
     "name": "stdout",
     "output_type": "stream",
     "text": [
      "The altitude for geostationary satellites above Earth's surface is 35860625.11 meters or 35860.63 km.\n"
     ]
    }
   ],
   "source": [
    "\n",
    "# Constants\n",
    "G = 6.67e-11  # Universal gravitational constant in N m^2 kg^-2\n",
    "M = 5.972e24  # Mass of Earth in kg\n",
    "R_earth = 6.371e6  # Radius of Earth in meters\n",
    "T = 86400  # Orbital period in seconds for geostationary satellites\n",
    "\n",
    "# Calculate r using Kepler's third law\n",
    "r = (G * M * T**2 / (4 * math.pi**2))**(1/3)\n",
    "\n",
    "# Calculate altitude above Earth's surface\n",
    "altitude = r - R_earth\n",
    "\n",
    "print(f\"The altitude for geostationary satellites above Earth's surface is {altitude:.2f} meters or {altitude/1000:.2f} km.\")\n"
   ]
  },
  {
   "cell_type": "markdown",
   "metadata": {},
   "source": [
    "#### Q3\n",
    "The ratio of the strength of the tidal effects of the Moon and Sun on the Earth is 2.16 (see the derivation in the lecture). Calculate the ratio if the Earth-Moon system were at (a) the orbital distance of Mercury and (b) the orbital distance of Jupiter.\n",
    "For both cases, comment on the effect this would have on the tidal patterns of the oceans of the Earth (ignoring the fact that the water would all either evaporate or freeze!)\n",
    "\n",
    "R:\n",
    "\n",
    "The strength of tidal forces exerted by a celestial body on another is inversely proportional to the cube of the distance between them. Given the ratio of tidal forces of the Moon and Sun on the Earth, we can deduce a relationship for the ratio of tidal forces if the Earth-Moon system were placed at different distances from the Sun.\n",
    "\n",
    "If FMis the tidal force due to the Moon and  FSis the tidal force due to the Sun at the Earth's current location, then:\n",
    "\n",
    "FM/FS=2.16\n",
    "2.16\n"
   ]
  },
  {
   "cell_type": "code",
   "execution_count": 19,
   "metadata": {},
   "outputs": [
    {
     "name": "stdout",
     "output_type": "stream",
     "text": [
      "Ratio at Mercury’s distance: 0.13\n",
      "Ratio at Jupiter’s distance: 303.71\n"
     ]
    }
   ],
   "source": [
    "# Constants (in AU and proportionality terms since we're computing ratios)\n",
    "M_s = 1  # Mass of the Sun (in arbitrary units for proportionality)\n",
    "M_m = 2.16 * M_s  # Given that the Moon's tidal effect on Earth is 2.16 times that of the Sun\n",
    "d_m = 1  # Average distance between Earth and Moon (in arbitrary units for proportionality)\n",
    "\n",
    "# Tidal force ratios\n",
    "ratio_mercury = (M_m / d_m**3) / (M_s / 0.39**3)\n",
    "ratio_jupiter = (M_m / d_m**3) / (M_s / 5.2**3)\n",
    "\n",
    "print(f\"Ratio at Mercury’s distance: {ratio_mercury:.2f}\")\n",
    "print(f\"Ratio at Jupiter’s distance: {ratio_jupiter:.2f}\")\n"
   ]
  },
  {
   "cell_type": "markdown",
   "metadata": {},
   "source": [
    "Comments:\n",
    "\n",
    "At Mercury's distance, the tidal force from the Sun would be drastically stronger compared to that from the Moon. This would mean the Sun would dominate the tidal patterns, with much higher tidal variations due to the Sun's proximity.\n",
    "\n",
    "At Jupiter's distance, the tidal force from the Sun would be significantly weaker. This would lead to the Moon having a dominant effect on tidal patterns, with much lower tidal variations due to the Sun's relative remoteness.\n",
    "\n",
    "If the Earth's water were present (ignoring evaporation or freezing), at Mercury's distance, we might expect larger tidal amplitudes due to the dominant Sun's tidal effect. In contrast, at Jupiter's distance, the tides would be predominantly controlled by the Moon with much muted solar tidal effects."
   ]
  },
  {
   "cell_type": "markdown",
   "metadata": {},
   "source": [
    "#### Q4\n",
    "The Rings of Saturn start at about 7000km above the Saturnian “surface” and extend out to about 80,000km. Given that the average density of Saturn is 687 kg m−3 and its equatorial radius is 60,300 km, calculate the density of a moon that would just avoid tidal disruption (a) at the innermost ring and (b) at the outermost ring. You should use a value of 2.5 for the scaling factor in the Roche Limit equation as this is more realistic than the 1.3 given by the simple assumptions in the lecture.\n",
    "Comment on how these compare to the typical density of a Moon of Saturn.\n",
    "The Roche Limit describes the minimum distance a celestial body, held together only by its own gravity, can come to a bigger body before being torn apart by tidal forces. The formula for the Roche Limit  d.\n",
    "\n",
    "R:\n",
    "\n",
    "After finding these densities, you can compare them to the typical density of a Moon of Saturn. For example, the moon Enceladus, which resides within the E-ring of Saturn, has a density of approximately 1,609.4 kg/m^3. If the calculated densities are significantly less than this value, then moons like Enceladus can exist close to Saturn without being torn apart by tidal forces. If the calculated densities are higher, it suggests that moons with densities typical of Enceladus would be at risk of tidal disruption at those distances.\n"
   ]
  },
  {
   "cell_type": "code",
   "execution_count": 24,
   "metadata": {},
   "outputs": [
    {
     "name": "stdout",
     "output_type": "stream",
     "text": [
      "Density at the innermost ring: 7708.82 kg/m^3\n",
      "Density at the outermost ring: 850.86 kg/m^3\n"
     ]
    }
   ],
   "source": [
    "# Constants\n",
    "R_b = 60300  # in km\n",
    "rho_b = 687  # in kg/m^3\n",
    "\n",
    "# Distances to the innermost and outermost rings from the center of Saturn\n",
    "r_inner = R_b + 7000  # in km\n",
    "r_outer = R_b + 80000  # in km\n",
    "\n",
    "# Calculate moon densities for these distances using the rearranged formula\n",
    "rho_a_inner = 15.6 * rho_b * (R_b/r_inner)**3\n",
    "rho_a_outer = 15.6 * rho_b * (R_b/r_outer)**3\n",
    "\n",
    "print(f\"Density at the innermost ring: {rho_a_inner:.2f} kg/m^3\")\n",
    "print(f\"Density at the outermost ring: {rho_a_outer:.2f} kg/m^3\")\n"
   ]
  },
  {
   "cell_type": "code",
   "execution_count": null,
   "metadata": {},
   "outputs": [],
   "source": []
  }
 ],
 "metadata": {
  "kernelspec": {
   "display_name": "Python 3 (ipykernel)",
   "language": "python",
   "name": "python3"
  },
  "language_info": {
   "codemirror_mode": {
    "name": "ipython",
    "version": 3
   },
   "file_extension": ".py",
   "mimetype": "text/x-python",
   "name": "python",
   "nbconvert_exporter": "python",
   "pygments_lexer": "ipython3",
   "version": "3.12.0"
  }
 },
 "nbformat": 4,
 "nbformat_minor": 4
}
