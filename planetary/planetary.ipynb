{
 "cells": [
  {
   "cell_type": "markdown",
   "metadata": {},
   "source": [
    "## Planetary Science \n",
    "### constant"
   ]
  },
  {
   "cell_type": "code",
   "execution_count": 6,
   "metadata": {},
   "outputs": [],
   "source": [
    "import math\n",
    "c = 3.00e8  # Speed of light in m/s\n",
    "mu0_Hm = 4 * math.pi * 1e-7  # Magnetic constant in H/m\n",
    "mu0_VsAm = 4 * math.pi * 1e-7  # Magnetic constant in Vs/A*m\n",
    "epsilon0_Fm = 8.85e-12  # Electric constant in F/m\n",
    "epsilon0_AsVm = 8.85e-12  # Electric constant in As/V*m\n",
    "e = 1.60e-19  # Elementary charge in C\n",
    "h = 6.63e-34  # Planck constant in J*s\n",
    "NA = 6.02e23  # Avogadro's number in 1/mol\n",
    "k = 1.38e-23  # Boltzmann constant in J/K\n",
    "R = 8.31  # Gas constant in J/K*mol\n",
    "mu_kg = 1.66e-27  # Atomic mass unit in kg\n",
    "mu_MeVc2 = 931.5  # Atomic mass unit in MeV/c^2\n",
    "me = 9.11e-31  # Electron mass in kg\n",
    "mp = 1.67e-27  # Proton mass in kg\n",
    "G = 6.67e-11  # Gravitational constant in N m^2/kg^2\n",
    "sigma = 5.67e-8  # Stefan-Boltzmann constant in W/m^2*K^4\n",
    "g = 9.8  # Acceleration due to gravity in m/s^2\n",
    "muB = 9.27e-24  # Bohr magneton in J/T\n",
    "IH = 13.6  # Ionization energy of hydrogen in eV\n",
    "Msun = 1.989e30  # Solar mass in kg\n",
    "Rsun = 6.960e8  # Solar radius in m\n",
    "Lsun = 3.862e26  # Solar luminosity in W\n",
    "Teff_sun = 5770  # Effective temperature of the sun in K\n",
    "AU = 1.496e11  # Astronomical unit in m\n",
    "pc = 3.086e16  # Parsec in m\n",
    "pi = math.pi"
   ]
  },
  {
   "cell_type": "markdown",
   "metadata": {},
   "source": [
    "### Kepler's First Law\n",
    "Where r is the heliocentric distance, a is the semi-major axis of the ellipse, e is the eccentricity, and θ is the angle formed by the planet, the Sun, and the line joining the planet to the Sun at the closest approach (called perihelion) \n",
    "(i.e., θ = 0 at perihelion, θ = π at aphelion)"
   ]
  },
  {
   "cell_type": "code",
   "execution_count": null,
   "metadata": {},
   "outputs": [],
   "source": [
    "# Kepler's First Law\n",
    "a = 0 # a is the semi-major axis of the ellipse\n",
    "theta = 0 # θ is the angle formed by the planet, the Sun \n",
    "eccentricity = 0 #  e is the eccentricity\n",
    "\n",
    "\n",
    "r = a*((1-eccentricity **2)/(1+e*math.cos(theta)))"
   ]
  },
  {
   "cell_type": "code",
   "execution_count": null,
   "metadata": {},
   "outputs": [],
   "source": [
    "# Kepler’s Second Law\n"
   ]
  },
  {
   "cell_type": "markdown",
   "metadata": {},
   "source": [
    "### Kepler’s Second Law\n",
    "dr=vdt\r",
    "So conservation of angular momentum results in Kepler’s Second Law."
   ]
  },
  {
   "cell_type": "code",
   "execution_count": null,
   "metadata": {},
   "outputs": [],
   "source": []
  },
  {
   "attachments": {},
   "cell_type": "markdown",
   "metadata": {},
   "source": [
    "### Kepler’s Third Law\n",
    "Consider two objects orbiting their common centre of mass:\n",
    "Where:\n",
    "a is the semi-major axis of the orbit\n",
    "P is the orbital period\n",
    "m1 and m2 are the masses of the objects\n",
    "G is the gravitational constant (6.67 x 10-11 N m2 kg-2)"
   ]
  },
  {
   "cell_type": "code",
   "execution_count": null,
   "metadata": {},
   "outputs": [],
   "source": [
    "# Kepler’s Third Law\n",
    "a1 = \n",
    "a2 = \n",
    "a =  # a is the semi-major axis of the orbit\n",
    "P =  # P is the orbital period\n",
    "m1 = # mass 1 \n",
    "m2 = # mass 2\n",
    "\n"
   ]
  },
  {
   "cell_type": "code",
   "execution_count": null,
   "metadata": {},
   "outputs": [],
   "source": [
    "a1 = (a*m2)/(m1+m2)\n",
    "a2 = (a*m1)/(m1+m2)\n",
    "a = a1 + a2\n",
    "omega = (2*math.pi)/P\n",
    "# (a**3/P**2) = (G*(m1+m2))/(4*pi**2) = constant\n"
   ]
  },
  {
   "cell_type": "code",
   "execution_count": null,
   "metadata": {},
   "outputs": [],
   "source": [
    "# If we consider the Solar System and choose to measure P in years and a in Astronomical Units:\n",
    "# (a**3/P**2) = 1 "
   ]
  },
  {
   "cell_type": "code",
   "execution_count": 4,
   "metadata": {},
   "outputs": [],
   "source": [
    "\n",
    "# Where r is the orbital radius and k is a constant. Since the velocity v will be constant, the period\n",
    "#P = (2*pi*r)/v"
   ]
  },
  {
   "cell_type": "code",
   "execution_count": 5,
   "metadata": {},
   "outputs": [],
   "source": [
    "#P**2 = k*r**3"
   ]
  },
  {
   "cell_type": "code",
   "execution_count": null,
   "metadata": {},
   "outputs": [],
   "source": [
    "# (4*pi**2*r**2)/v**2 = k*r**3"
   ]
  },
  {
   "cell_type": "code",
   "execution_count": null,
   "metadata": {},
   "outputs": [],
   "source": [
    "#F = Mass x Acceleration\n",
    "F = m*v**2/r\n",
    "# planet (mass m) by the star (mass M) \n",
    "# Where G = 4p2/k’’ = 6.673 x 10-11 N m2 kg-2\n",
    "F = G*(m*M)/r**2\n"
   ]
  },
  {
   "cell_type": "code",
   "execution_count": null,
   "metadata": {},
   "outputs": [],
   "source": [
    "# Generalizing for the differential force between the opposite sides \n",
    "# and centre of mass of an object of mass m \n",
    "# and radius R a distance r from another object of mass M is\n",
    "F = 2*G*(M*m*R)/r**3 # tidal forces"
   ]
  },
  {
   "cell_type": "markdown",
   "metadata": {},
   "source": [
    "### Planetary Temperature"
   ]
  },
  {
   "cell_type": "markdown",
   "metadata": {},
   "source": [
    "The absorbed incident radiation depends upon:\n",
    "- The luminosity of the Sun L\n",
    "- The orbital distance d\n",
    "- The planetary radius r\n",
    "- The planetary Albedo A (the fraction of incident light reflected)"
   ]
  },
  {
   "cell_type": "code",
   "execution_count": null,
   "metadata": {},
   "outputs": [],
   "source": [
    "absorbed = ((1-A)*pi*r**2)*L/(4*pi*d**2)"
   ]
  },
  {
   "cell_type": "markdown",
   "metadata": {},
   "source": [
    "The emitted radiation can be assumed to be a blackbody:\n",
    "Where:\n",
    "- T is the surface temperature of the planet (in Kelvin)\n",
    "- σ is the Stefan-Boltzmann constant (5.67 x 10-8 W m-2 K-4)\n"
   ]
  },
  {
   "cell_type": "code",
   "execution_count": 9,
   "metadata": {},
   "outputs": [],
   "source": [
    "emitted_radiation = 4*pi*r**2*sigma*T**4"
   ]
  },
  {
   "cell_type": "code",
   "execution_count": null,
   "metadata": {},
   "outputs": [],
   "source": [
    "T =((1-A)*L/(16*pi*sigma*d**2)**0.25"
   ]
  },
  {
   "cell_type": "markdown",
   "metadata": {},
   "source": [
    "To estimate the surface temperatures of the planets, we'll need a few additional details:\n",
    "\n",
    "Now, let's estimate the temperatures. Afterward, we'll compare them to known values and discuss the discrepancies."
   ]
  },
  {
   "cell_type": "code",
   "execution_count": 10,
   "metadata": {},
   "outputs": [
    {
     "name": "stdout",
     "output_type": "stream",
     "text": [
      "Mercury:\n",
      "    Estimated Temperature: 436.00 K\n",
      "    Known Temperature: 440 K\n",
      "    Discrepancy: -4.00 K\n",
      "\n",
      "Venus:\n",
      "    Estimated Temperature: 232.15 K\n",
      "    Known Temperature: 737 K\n",
      "    Discrepancy: -504.85 K\n",
      "\n",
      "Earth:\n",
      "    Estimated Temperature: 254.60 K\n",
      "    Known Temperature: 288 K\n",
      "    Discrepancy: -33.40 K\n",
      "\n",
      "Mars:\n",
      "    Estimated Temperature: 210.32 K\n",
      "    Known Temperature: 210 K\n",
      "    Discrepancy: 0.32 K\n",
      "\n",
      "Jupiter:\n",
      "    Estimated Temperature: 110.08 K\n",
      "    Known Temperature: 165 K\n",
      "    Discrepancy: -54.92 K\n",
      "\n",
      "Saturn:\n",
      "    Estimated Temperature: 81.18 K\n",
      "    Known Temperature: 134 K\n",
      "    Discrepancy: -52.82 K\n",
      "\n",
      "Uranus:\n",
      "    Estimated Temperature: 58.23 K\n",
      "    Known Temperature: 76 K\n",
      "    Discrepancy: -17.77 K\n",
      "\n",
      "Neptune:\n",
      "    Estimated Temperature: 46.70 K\n",
      "    Known Temperature: 72 K\n",
      "    Discrepancy: -25.30 K\n",
      "\n",
      "\n",
      "Discrepancies between the estimated and known temperatures can arise due to various factors:\n",
      "1. Atmospheric effects, particularly the greenhouse effect, can cause temperatures to be higher than those estimated purely from solar radiation.\n",
      "2. Internal heat from the planet, particularly for gas giants, can contribute to the planet's temperature.\n",
      "3. The model does not account for energy redistribution around the planet, which can affect average temperatures.\n",
      "4. The albedo used is an average value, and the actual albedo can vary across the surface and atmosphere of the planet.\n"
     ]
    }
   ],
   "source": [
    "# Constants \n",
    "L = 3.862e26  # Solar luminosity in W\n",
    "sigma = 5.67e-8  # Stefan-Boltzmann constant in W/m^2*K^4\n",
    "pi = math.pi\n",
    "\n",
    "# Albedo and distance (semi-major axis) for each planet\n",
    "planets = {\n",
    "    \"Mercury\": {\"albedo\": 0.106, \"distance\": 5.79e10, \"known_temperature\": 440},\n",
    "    \"Venus\": {\"albedo\": 0.75, \"distance\": 1.08e11, \"known_temperature\": 737},\n",
    "    \"Earth\": {\"albedo\": 0.306, \"distance\": 1.496e11, \"known_temperature\": 288},\n",
    "    \"Mars\": {\"albedo\": 0.25, \"distance\": 2.279e11, \"known_temperature\": 210},\n",
    "    \"Jupiter\": {\"albedo\": 0.343, \"distance\": 7.786e11, \"known_temperature\": 165},\n",
    "    \"Saturn\": {\"albedo\": 0.342, \"distance\": 1.433e12, \"known_temperature\": 134},\n",
    "    \"Uranus\": {\"albedo\": 0.300, \"distance\": 2.872e12, \"known_temperature\": 76},\n",
    "    \"Neptune\": {\"albedo\": 0.290, \"distance\": 4.498e12, \"known_temperature\": 72}\n",
    "}\n",
    "\n",
    "# Calculate estimated temperatures\n",
    "for planet, data in planets.items():\n",
    "    A = data[\"albedo\"]\n",
    "    d = data[\"distance\"]\n",
    "    T = ((1-A) * L / (16 * pi * sigma * d**2))**0.25\n",
    "    data[\"estimated_temperature\"] = T\n",
    "\n",
    "# Print out results and discrepancies\n",
    "for planet, data in planets.items():\n",
    "    print(f\"{planet}:\")\n",
    "    print(f\"    Estimated Temperature: {data['estimated_temperature']:.2f} K\")\n",
    "    print(f\"    Known Temperature: {data['known_temperature']} K\")\n",
    "    discrepancy = data['estimated_temperature'] - data['known_temperature']\n",
    "    print(f\"    Discrepancy: {discrepancy:.2f} K\")\n",
    "    print()\n",
    "\n",
    "# Explanation for discrepancies\n",
    "print(\"\\nDiscrepancies between the estimated and known temperatures can arise due to various factors:\")\n",
    "print(\"1. Atmospheric effects, particularly the greenhouse effect, can cause temperatures to be higher than those estimated purely from solar radiation.\")\n",
    "print(\"2. Internal heat from the planet, particularly for gas giants, can contribute to the planet's temperature.\")\n",
    "print(\"3. The model does not account for energy redistribution around the planet, which can affect average temperatures.\")\n",
    "print(\"4. The albedo used is an average value, and the actual albedo can vary across the surface and atmosphere of the planet.\")\n"
   ]
  },
  {
   "cell_type": "markdown",
   "metadata": {},
   "source": [
    "### Gravitational loss\n",
    "For a given planet of mass Mp, radius Rp, the temperature above which a gas composed of particles of mass m will escape is: \n",
    "k is the Boltzmann Constant"
   ]
  },
  {
   "cell_type": "code",
   "execution_count": null,
   "metadata": {},
   "outputs": [],
   "source": [
    "T> (1/54)*((G*Mp*m)/kRp)"
   ]
  },
  {
   "cell_type": "markdown",
   "metadata": {},
   "source": [
    "### Direct Imaging\n",
    "- Where:\n",
    "  - I(θ) is the intensity in the focal plane from a point source\n",
    "  - I0 is the peak intensity\n",
    "  - θ is the projected angle away from the centre (in radians)\n",
    "  - D is the telescope aperture\n",
    "  - λ is the wavelength of the light"
   ]
  },
  {
   "cell_type": "code",
   "execution_count": null,
   "metadata": {},
   "outputs": [],
   "source": [
    "I_omega = I_peak_intensity**((-D**2project_angle**2)/(0.35*wavelenght**2)"
   ]
  },
  {
   "cell_type": "markdown",
   "metadata": {},
   "source": [
    "### Astrometry\n",
    "Planet/Star orbit around common Centre of Mass Net movement (“wobble”) of Star"
   ]
  },
  {
   "cell_type": "code",
   "execution_count": null,
   "metadata": {},
   "outputs": [],
   "source": [
    "R1 = (M2*d)/(M1+M2)\n",
    "R2 = (M1*d)/(M1+M2)"
   ]
  },
  {
   "cell_type": "markdown",
   "metadata": {},
   "source": [
    "### Radial-Velocity Technique\n",
    "- Planet/Star orbit around common Centre of Mass Net movement (“wobble”) of Star\n",
    "- Doppler shift Recall:\n"
   ]
  },
  {
   "cell_type": "code",
   "execution_count": null,
   "metadata": {},
   "outputs": [],
   "source": [
    "f = f_zero*(1 - v/c)"
   ]
  },
  {
   "cell_type": "markdown",
   "metadata": {},
   "source": [
    "### Radial Velocity of the Star\n",
    "This is usually given as the Radial Velocity Semi-Amplitude K where:\n",
    "- where\n",
    "  - a is the semi-major axis of the relevant orbit\n",
    "  - i is the inclination to the line-of-sight\n",
    "  - P is the orbital period\n",
    "  - e is the orbital eccentricity"
   ]
  },
  {
   "cell_type": "code",
   "execution_count": null,
   "metadata": {},
   "outputs": [],
   "source": [
    "k = (2*pi*a*math.sin(i))/(P*math.sqrt(1-eccentricity**2))"
   ]
  },
  {
   "cell_type": "code",
   "execution_count": null,
   "metadata": {},
   "outputs": [],
   "source": [
    "P = math.sqr(a**3 * (4 * pi**2)/(G * (Mstar + Mplanet)))"
   ]
  },
  {
   "cell_type": "code",
   "execution_count": null,
   "metadata": {},
   "outputs": [],
   "source": [
    "a = ((P**2 * G * (Mstar + Mplanet))/(4 * pi**2))**(1/3)"
   ]
  },
  {
   "cell_type": "markdown",
   "metadata": {},
   "source": [
    "### Timing Techniques\n",
    "First ever exoplanet found using Pulsar Timing\n"
   ]
  },
  {
   "cell_type": "code",
   "execution_count": null,
   "metadata": {},
   "outputs": [],
   "source": [
    "maximum_applitude = math.sin(i)*(ap/c)*(Mp/Ms)"
   ]
  },
  {
   "cell_type": "markdown",
   "metadata": {},
   "source": [
    "### Microlensing Amplification"
   ]
  },
  {
   "cell_type": "markdown",
   "metadata": {},
   "source": [
    "### P-Space: Direct Detection"
   ]
  },
  {
   "cell_type": "code",
   "execution_count": null,
   "metadata": {},
   "outputs": [],
   "source": [
    "P = math.sqrt(a**3/M)"
   ]
  },
  {
   "cell_type": "code",
   "execution_count": null,
   "metadata": {},
   "outputs": [],
   "source": [
    "m = math.sqrt((v**2 * P**(2/3) * M**(4/3))/G)"
   ]
  },
  {
   "cell_type": "code",
   "execution_count": null,
   "metadata": {},
   "outputs": [],
   "source": [
    "m = ro * (4/3) * pi rp**3"
   ]
  },
  {
   "cell_type": "markdown",
   "metadata": {},
   "source": [
    "### Planets: Tutorial 1\n",
    "#### Q1\n",
    "- The International Space Station is in a nearly-circular orbit 400km above the surface of the Earth. Estimate its orbital period."
   ]
  },
  {
   "cell_type": "code",
   "execution_count": 17,
   "metadata": {},
   "outputs": [
    {
     "name": "stdout",
     "output_type": "stream",
     "text": [
      "5546.720376078756\n",
      "The estimated orbital period of the ISS is 92.45 minutes.\n"
     ]
    }
   ],
   "source": [
    "\n",
    "# Constants\n",
    "G = 6.67e-11  # Universal gravitational constant in N m^2 kg^-2\n",
    "M = 5.972e24  # Mass of Earth in kg\n",
    "R_earth = 6.371e6  # Radius of Earth in meters\n",
    "altitude = 400e3  # Altitude of ISS in meters\n",
    "\n",
    "# Calculate r\n",
    "r = R_earth + altitude\n",
    "\n",
    "# Calculate the orbital period using Kepler's third law\n",
    "T = 2 * math.pi * math.sqrt(r**3 / (G * M))\n",
    "print(T)\n",
    "# Convert the orbital period from seconds to minutes\n",
    "T_minutes = T / 60\n",
    "\n",
    "print(f\"The estimated orbital period of the ISS is {T_minutes:.2f} minutes.\")\n"
   ]
  },
  {
   "cell_type": "markdown",
   "metadata": {},
   "source": [
    "#### Q2\n",
    "- Calculate the altitude of so-called geostationary or geosynchronous satellites (i.e. those which remain above a fixed point on the Earth).\n",
    "\n",
    "A geostationary or geosynchronous satellite orbits the Earth at an altitude such that its orbital period matches the Earth's rotation period, effectively keeping the satellite above a fixed point on the Earth's surface. The orbital period for such a satellite is 24 hours or, equivalently, \n",
    "\n",
    "86400\n",
    "T=86400 seconds.\n",
    "\n",
    "Using Kepler's third law for circular orbits:"
   ]
  },
  {
   "cell_type": "code",
   "execution_count": 13,
   "metadata": {},
   "outputs": [
    {
     "name": "stdout",
     "output_type": "stream",
     "text": [
      "The altitude for geostationary satellites above Earth's surface is 35860625.11 meters or 35860.63 km.\n"
     ]
    }
   ],
   "source": [
    "\n",
    "# Constants\n",
    "G = 6.67e-11  # Universal gravitational constant in N m^2 kg^-2\n",
    "M = 5.972e24  # Mass of Earth in kg\n",
    "R_earth = 6.371e6  # Radius of Earth in meters\n",
    "T = 86400  # Orbital period in seconds for geostationary satellites\n",
    "\n",
    "# Calculate r using Kepler's third law\n",
    "r = (G * M * T**2 / (4 * math.pi**2))**(1/3)\n",
    "\n",
    "# Calculate altitude above Earth's surface\n",
    "altitude = r - R_earth\n",
    "\n",
    "print(f\"The altitude for geostationary satellites above Earth's surface is {altitude:.2f} meters or {altitude/1000:.2f} km.\")\n"
   ]
  },
  {
   "cell_type": "markdown",
   "metadata": {},
   "source": [
    "#### Q3\n",
    "The ratio of the strength of the tidal effects of the Moon and Sun on the Earth is 2.16 (see the derivation in the lecture). Calculate the ratio if the Earth-Moon system were at (a) the orbital distance of Mercury and (b) the orbital distance of Jupiter.\n",
    "For both cases, comment on the effect this would have on the tidal patterns of the oceans of the Earth (ignoring the fact that the water would all either evaporate or freeze!)\n",
    "\n",
    "R:\n",
    "\n",
    "The strength of tidal forces exerted by a celestial body on another is inversely proportional to the cube of the distance between them. Given the ratio of tidal forces of the Moon and Sun on the Earth, we can deduce a relationship for the ratio of tidal forces if the Earth-Moon system were placed at different distances from the Sun.\n",
    "\n",
    "If FMis the tidal force due to the Moon and  FSis the tidal force due to the Sun at the Earth's current location, then:\n",
    "\n",
    "FM/FS=2.16\n",
    "2.16\n"
   ]
  },
  {
   "cell_type": "code",
   "execution_count": 19,
   "metadata": {},
   "outputs": [
    {
     "name": "stdout",
     "output_type": "stream",
     "text": [
      "Ratio at Mercury’s distance: 0.13\n",
      "Ratio at Jupiter’s distance: 303.71\n"
     ]
    }
   ],
   "source": [
    "# Constants (in AU and proportionality terms since we're computing ratios)\n",
    "M_s = 1  # Mass of the Sun (in arbitrary units for proportionality)\n",
    "M_m = 2.16 * M_s  # Given that the Moon's tidal effect on Earth is 2.16 times that of the Sun\n",
    "d_m = 1  # Average distance between Earth and Moon (in arbitrary units for proportionality)\n",
    "\n",
    "# Tidal force ratios\n",
    "ratio_mercury = (M_m / d_m**3) / (M_s / 0.39**3)\n",
    "ratio_jupiter = (M_m / d_m**3) / (M_s / 5.2**3)\n",
    "\n",
    "print(f\"Ratio at Mercury’s distance: {ratio_mercury:.2f}\")\n",
    "print(f\"Ratio at Jupiter’s distance: {ratio_jupiter:.2f}\")\n"
   ]
  },
  {
   "cell_type": "markdown",
   "metadata": {},
   "source": [
    "Comments:\n",
    "\n",
    "At Mercury's distance, the tidal force from the Sun would be drastically stronger compared to that from the Moon. This would mean the Sun would dominate the tidal patterns, with much higher tidal variations due to the Sun's proximity.\n",
    "\n",
    "At Jupiter's distance, the tidal force from the Sun would be significantly weaker. This would lead to the Moon having a dominant effect on tidal patterns, with much lower tidal variations due to the Sun's relative remoteness.\n",
    "\n",
    "If the Earth's water were present (ignoring evaporation or freezing), at Mercury's distance, we might expect larger tidal amplitudes due to the dominant Sun's tidal effect. In contrast, at Jupiter's distance, the tides would be predominantly controlled by the Moon with much muted solar tidal effects."
   ]
  },
  {
   "cell_type": "code",
   "execution_count": 30,
   "metadata": {},
   "outputs": [
    {
     "name": "stdout",
     "output_type": "stream",
     "text": [
      "Ratio at the orbital distance of Mercury: 0.00\n",
      "Ratio at the orbital distance of Jupiter: 0.00\n"
     ]
    }
   ],
   "source": [
    "# Constants\n",
    "G = 6.67e-11  # N m^2/kg^2 (gravitational constant)\n",
    "mass_moon = 7.342e22  # kg (mass of the Moon)\n",
    "mass_sun = 1.989e30  # kg (mass of the Sun)\n",
    "mass_earth = 5.972e24  # kg (mass of Earth)\n",
    "\n",
    "# Distances in meters\n",
    "distance_mercury = 0.39 * 1.496e11  # Orbital distance of Mercury\n",
    "distance_jupiter = 5.20 * 1.496e11  # Orbital distance of Jupiter\n",
    "\n",
    "# Calculate the distances from Earth to the Moon at both locations\n",
    "R_moon_mercury = distance_mercury\n",
    "R_moon_jupiter = distance_jupiter\n",
    "\n",
    "# Calculate the tidal effect ratios for both scenarios\n",
    "ratio_mercury = (G * mass_moon * mass_earth) / (G * mass_sun * mass_earth) * (1 / R_moon_mercury**2)\n",
    "ratio_jupiter = (G * mass_moon * mass_earth) / (G * mass_sun * mass_earth) * (1 / R_moon_jupiter**2)\n",
    "\n",
    "print(f\"Ratio at the orbital distance of Mercury: {ratio_mercury:.2f}\")\n",
    "print(f\"Ratio at the orbital distance of Jupiter: {ratio_jupiter:.2f}\")\n"
   ]
  },
  {
   "cell_type": "markdown",
   "metadata": {},
   "source": [
    "#### Q4\n",
    "The Rings of Saturn start at about 7000km above the Saturnian “surface” and extend out to about 80,000km. Given that the average density of Saturn is 687 kg m−3 and its equatorial radius is 60,300 km, calculate the density of a moon that would just avoid tidal disruption (a) at the innermost ring and (b) at the outermost ring. You should use a value of 2.5 for the scaling factor in the Roche Limit equation as this is more realistic than the 1.3 given by the simple assumptions in the lecture.\n",
    "Comment on how these compare to the typical density of a Moon of Saturn.\n",
    "The Roche Limit describes the minimum distance a celestial body, held together only by its own gravity, can come to a bigger body before being torn apart by tidal forces. The formula for the Roche Limit  d.\n",
    "\n",
    "R:\n",
    "\n",
    "After finding these densities, you can compare them to the typical density of a Moon of Saturn. For example, the moon Enceladus, which resides within the E-ring of Saturn, has a density of approximately 1,609.4 kg/m^3. If the calculated densities are significantly less than this value, then moons like Enceladus can exist close to Saturn without being torn apart by tidal forces. If the calculated densities are higher, it suggests that moons with densities typical of Enceladus would be at risk of tidal disruption at those distances.\n"
   ]
  },
  {
   "cell_type": "code",
   "execution_count": 24,
   "metadata": {},
   "outputs": [
    {
     "name": "stdout",
     "output_type": "stream",
     "text": [
      "Density at the innermost ring: 7708.82 kg/m^3\n",
      "Density at the outermost ring: 850.86 kg/m^3\n"
     ]
    }
   ],
   "source": [
    "# Constants\n",
    "R_b = 60300  # in km\n",
    "rho_b = 687  # in kg/m^3\n",
    "\n",
    "# Distances to the innermost and outermost rings from the center of Saturn\n",
    "r_inner = R_b + 7000  # in km\n",
    "r_outer = R_b + 80000  # in km\n",
    "\n",
    "# Calculate moon densities for these distances using the rearranged formula\n",
    "rho_a_inner = 15.6 * rho_b * (R_b/r_inner)**3\n",
    "rho_a_outer = 15.6 * rho_b * (R_b/r_outer)**3\n",
    "\n",
    "print(f\"Density at the innermost ring: {rho_a_inner:.2f} kg/m^3\")\n",
    "print(f\"Density at the outermost ring: {rho_a_outer:.2f} kg/m^3\")\n"
   ]
  },
  {
   "cell_type": "markdown",
   "metadata": {},
   "source": [
    "### Exoplanets Direct Imaging \n"
   ]
  },
  {
   "cell_type": "code",
   "execution_count": 36,
   "metadata": {},
   "outputs": [
    {
     "name": "stdout",
     "output_type": "stream",
     "text": [
      "5.5237782160859075e-09\n"
     ]
    }
   ],
   "source": [
    "def flux_ratio(R_planet, a_orbit):\n",
    "    \"\"\"\n",
    "    Calculate the Flux Ratio for a planet assuming Lambert Sphere reflection.\n",
    "    \n",
    "    Parameters:\n",
    "    - R_planet (float): Radius of the planet.\n",
    "    - a_orbit (float): Orbital distance of the planet from its star.\n",
    "    \n",
    "    Returns:\n",
    "    - (float) Flux Ratio (F⊕/F⋆).\n",
    "    \"\"\"\n",
    "    return (2/3) * (R_planet/a_orbit)**2\n",
    "\n",
    "# Given values for the case:\n",
    "R_jupiter = 71000  # Radius of Jupiter in km\n",
    "a_jupiter = 7.8e8  # Orbital distance of Jupiter in km from Sun\n",
    "\n",
    "print(flux_ratio(R_jupiter, a_jupiter))\n"
   ]
  },
  {
   "cell_type": "code",
   "execution_count": 37,
   "metadata": {},
   "outputs": [
    {
     "name": "stdout",
     "output_type": "stream",
     "text": [
      "1.0666666666666667e-09\n"
     ]
    }
   ],
   "source": [
    "# Given values for the case:\n",
    "R_earth = 6000  # Radius of Earth in km\n",
    "a_earth = 1.5e8  # Orbital distance of Earth in km from Sun\n",
    "\n",
    "print(flux_ratio(R_earth, a_earth))"
   ]
  },
  {
   "cell_type": "code",
   "execution_count": 38,
   "metadata": {},
   "outputs": [
    {
     "name": "stdout",
     "output_type": "stream",
     "text": [
      "1.4936296296296296e-05\n"
     ]
    }
   ],
   "source": [
    "R_earth = 71000  # in km\n",
    "a = 1.5e7  # in km\n",
    "\n",
    "flux_ratio = (2/3) * (R_earth/a)**2\n",
    "print(flux_ratio)\n"
   ]
  },
  {
   "cell_type": "markdown",
   "metadata": {},
   "source": [
    "### Maximum Angular Separation\n"
   ]
  },
  {
   "cell_type": "code",
   "execution_count": 39,
   "metadata": {},
   "outputs": [
    {
     "data": {
      "text/plain": [
       "0.2606718806997799"
      ]
     },
     "execution_count": 39,
     "metadata": {},
     "output_type": "execute_result"
    }
   ],
   "source": [
    "# Given values\n",
    "a_1 = 7.8e8  # km for Jupiter\n",
    "d_1 = 20 * 3.086e13  # km for 20 parsecs\n",
    "\n",
    "# Calculate angular separation for Case 1\n",
    "alpha_1 = a_1 / d_1\n",
    "\n",
    "# Convert the result to arcseconds (from radians)\n",
    "alpha_1_arcseconds = alpha_1 * (180/3.14159) * 3600\n",
    "\n",
    "alpha_1_arcseconds\n"
   ]
  },
  {
   "cell_type": "code",
   "execution_count": 40,
   "metadata": {},
   "outputs": [
    {
     "data": {
      "text/plain": [
       "0.05012920782688075"
      ]
     },
     "execution_count": 40,
     "metadata": {},
     "output_type": "execute_result"
    }
   ],
   "source": [
    "# Given values for Case 2\n",
    "a_2 = 1.5e8  # km for Earth\n",
    "d_2 = 20 * 3.086e13  # km for 20 parsecs\n",
    "\n",
    "# Calculate angular separation for Case 2\n",
    "alpha_2 = a_2 / d_2\n",
    "\n",
    "# Convert the result to arcseconds (from radians)\n",
    "alpha_2_arcseconds = alpha_2 * (180/3.14159) * 3600\n",
    "\n",
    "alpha_2_arcseconds\n"
   ]
  },
  {
   "cell_type": "code",
   "execution_count": 41,
   "metadata": {},
   "outputs": [
    {
     "data": {
      "text/plain": [
       "0.2606718806997799"
      ]
     },
     "execution_count": 41,
     "metadata": {},
     "output_type": "execute_result"
    }
   ],
   "source": [
    "# Given values for Case 3\n",
    "a_3 = 7.8e8  # km for Jupiter\n",
    "d_3 = 20 * 3.086e13  # km for 20 parsecs\n",
    "\n",
    "# Calculate angular separation for Case 3\n",
    "alpha_3 = a_3 / d_3\n",
    "\n",
    "# Convert the result to arcseconds (from radians)\n",
    "alpha_3_arcseconds = alpha_3 * (180/3.14159) * 3600\n",
    "\n",
    "alpha_3_arcseconds\n"
   ]
  },
  {
   "cell_type": "code",
   "execution_count": 42,
   "metadata": {},
   "outputs": [
    {
     "data": {
      "text/plain": [
       "0.005012920782688075"
      ]
     },
     "execution_count": 42,
     "metadata": {},
     "output_type": "execute_result"
    }
   ],
   "source": [
    "# Given values for Case 4\n",
    "a_4 = 1.5e7  # km for Hot-Jupiter\n",
    "d_4 = 20 * 3.086e13  # km for 20 parsecs\n",
    "\n",
    "# Calculate angular separation for Case 4\n",
    "alpha_4 = a_4 / d_4\n",
    "\n",
    "# Convert the result to arcseconds (from radians)\n",
    "alpha_4_arcseconds = alpha_4 * (180/3.14159) * 3600\n",
    "\n",
    "alpha_4_arcseconds\n"
   ]
  },
  {
   "cell_type": "markdown",
   "metadata": {},
   "source": [
    "### Circular Aperture Diffraction\n",
    "Where:\n",
    "I(θ) is the intensity in the focal plane from a point source\n",
    "I0 is the peak intensity\n",
    "θ is the projected angle away from the centre (in radians)\n",
    "D is the telescope aperture\n",
    "λ is the wavelength of the light\n"
   ]
  },
  {
   "cell_type": "code",
   "execution_count": 53,
   "metadata": {},
   "outputs": [
    {
     "name": "stdout",
     "output_type": "stream",
     "text": [
      "1 parsec is approximately 30860000000000.0 kilometers.\n"
     ]
    }
   ],
   "source": [
    "def parsec_to_km(parsecs):\n",
    "    return parsecs * 3.086e13\n",
    "\n",
    "# Convert 1 parsec to kilometers as an example\n",
    "km_value = parsec_to_km(1)\n",
    "print(f\"1 parsec is approximately {km_value} kilometers.\")\n"
   ]
  },
  {
   "cell_type": "code",
   "execution_count": 47,
   "metadata": {},
   "outputs": [
    {
     "name": "stdout",
     "output_type": "stream",
     "text": [
      "flux_ratio: 0.1\n",
      "thresholdthreshold: 0.0000000000\n",
      "True\n"
     ]
    }
   ],
   "source": [
    "import math\n",
    "\n",
    "def is_detectable(flux_ratio, D, theta, lambda_):\n",
    "    \"\"\"\n",
    "    Checks if the given flux_ratio is detectable based on telescope aperture (D), \n",
    "    projected angle (theta), and wavelength (lambda_).\n",
    "\n",
    "    Args:\n",
    "    - flux_ratio (float): Ratio F⊕/F⋆.\n",
    "    - D (float): Telescope aperture.\n",
    "    - theta (float): Projected angle.\n",
    "    - lambda_ (float): Wavelength of the incident light.\n",
    "\n",
    "    Returns:\n",
    "    - bool: True if detectable, False otherwise.\n",
    "    \"\"\"\n",
    "    threshold = math.exp((-D**2 * theta**2) / (0.35 * lambda_**2))\n",
    "    print(f\"flux_ratio: {flux_ratio}\")\n",
    "    print(f\"thresholdthreshold: {threshold:.10f}\")\n",
    "    return flux_ratio > threshold\n",
    "\n",
    "# Example usage:\n",
    "flux_ratio = 0.1  # Example value\n",
    "D = 1.0  # Example value\n",
    "theta = 0.01  # Example value\n",
    "lambda_ = 500e-9  # Example value in meters (e.g., 500 nm)\n",
    "\n",
    "print(is_detectable(flux_ratio, D, theta, lambda_))\n"
   ]
  },
  {
   "cell_type": "code",
   "execution_count": 48,
   "metadata": {},
   "outputs": [
    {
     "name": "stdout",
     "output_type": "stream",
     "text": [
      "flux_ratio: 5.383200746536612e-09\n",
      "thresholdthreshold: 0.0000000000\n",
      "Jupiter/Sun at 20pc is detectable: True\n"
     ]
    }
   ],
   "source": [
    "# Given parameters\n",
    "D = 0.5  # 0.5m aperture\n",
    "lambda_ = 480e-9  # 480nm in meters\n",
    "\n",
    "# For Jupiter/Sun at 20pc (previously calculated alpha value)\n",
    "theta_jupiter = 0.26e-3  # in radians, for example\n",
    "\n",
    "# Assuming a hypothetical flux ratio (you'd replace this with the actual flux ratio for Jupiter/Sun at 20pc)\n",
    "flux_ratio_jupiter = 2/3 * (69911/778e6)**2  # using the formula F⊕/F⋆ = 2/3 * (R⊕ / a)^2\n",
    "\n",
    "result = is_detectable(flux_ratio_jupiter, D, theta_jupiter, lambda_)\n",
    "print(f\"Jupiter/Sun at 20pc is detectable: {result}\")"
   ]
  },
  {
   "cell_type": "code",
   "execution_count": 49,
   "metadata": {},
   "outputs": [
    {
     "data": {
      "text/plain": [
       "0.0"
      ]
     },
     "execution_count": 49,
     "metadata": {},
     "output_type": "execute_result"
    }
   ],
   "source": [
    "math.exp((-D**2 * theta**2) / (0.35 * lambda_**2))"
   ]
  },
  {
   "cell_type": "code",
   "execution_count": 56,
   "metadata": {},
   "outputs": [
    {
     "name": "stdout",
     "output_type": "stream",
     "text": [
      "-5.239335317460319\n",
      "0.005303780995138849\n"
     ]
    }
   ],
   "source": [
    "D = 0.5  # 0.5m aperture\n",
    "lambda_ = 480e-9  # 480nm in meters\n",
    "theta = 1.3e-6\n",
    "result = (-D**2 * theta**2) / (0.35 * lambda_**2)\n",
    "print(result)\n",
    "cf = math.exp(result)\n",
    "print(cf)"
   ]
  },
  {
   "cell_type": "code",
   "execution_count": 51,
   "metadata": {},
   "outputs": [
    {
     "name": "stdout",
     "output_type": "stream",
     "text": [
      "The parallax angle for an object at 20 parsecs is 2.4240661285239864e-07 radians.\n"
     ]
    }
   ],
   "source": [
    "# Given values\n",
    "parallax_arcsec = 1/20  # Parallax angle for 20 parsecs in arcseconds\n",
    "arcsec_per_radian = 206265  # Conversion factor\n",
    "\n",
    "# Conversion\n",
    "parallax_radian = parallax_arcsec / arcsec_per_radian\n",
    "\n",
    "print(f\"The parallax angle for an object at 20 parsecs is {parallax_radian} radians.\")\n"
   ]
  },
  {
   "cell_type": "code",
   "execution_count": 52,
   "metadata": {},
   "outputs": [
    {
     "data": {
      "text/plain": [
       "2.3039999999999996e-13"
      ]
     },
     "execution_count": 52,
     "metadata": {},
     "output_type": "execute_result"
    }
   ],
   "source": [
    "(480e-9)**2\n"
   ]
  },
  {
   "cell_type": "code",
   "execution_count": 57,
   "metadata": {},
   "outputs": [
    {
     "name": "stdout",
     "output_type": "stream",
     "text": [
      "The right-hand side (RHS) of the inequality is approximately: 0.8326737089165326\n"
     ]
    }
   ],
   "source": [
    "\n",
    "\n",
    "# Given data\n",
    "D = 0.5  # Aperture of telescope in meters\n",
    "wavelength = 480e-9  # Wavelength in meters\n",
    "a = 1.5e11  # Orbital distance in meters (1 AU)\n",
    "d = 20 * 3.086e16  # Distance in meters (20 parsecs)\n",
    "\n",
    "# Calculate alpha\n",
    "alpha = a/d\n",
    "\n",
    "# Calculate the right-hand side (RHS) of the inequality\n",
    "RHS = math.exp(-D**2 * alpha**2 / (0.35 * wavelength**2))\n",
    "\n",
    "print(f\"The right-hand side (RHS) of the inequality is approximately: {RHS}\")\n"
   ]
  },
  {
   "cell_type": "code",
   "execution_count": 64,
   "metadata": {},
   "outputs": [
    {
     "name": "stdout",
     "output_type": "stream",
     "text": [
      "Orbital Radius: 555921241465.426 m\n",
      "Orbital Speed: 18607.911002101413 m/s\n",
      "Relative Sizes (R_planet/R_star): 5.477225575051661\n",
      "Inclination of the Orbit: 89.26075251672745 degrees\n"
     ]
    }
   ],
   "source": [
    "\n",
    "def planetary_parameters(P, M_star, R_star, delta_F):\n",
    "    G = 6.67430e-11  # gravitational constant in m^3 kg^-1 s^-2\n",
    "\n",
    "    # Orbital Radius\n",
    "    a = (P**2 * G * M_star / (4 * math.pi**2))**(1/3)\n",
    "\n",
    "    # Orbital Speed\n",
    "    v = math.sqrt(G * M_star / a)\n",
    "\n",
    "    # Relative Sizes\n",
    "    R_planet_over_R_star = math.sqrt(delta_F)\n",
    "\n",
    "    # Inclination of Orbit (assuming we can calculate delta_F)\n",
    "    alpha = math.asin(math.sqrt(1 - ((R_planet_over_R_star * R_star + R_star) / a)**2))\n",
    "\n",
    "    return a, v, R_planet_over_R_star, math.degrees(alpha)\n",
    "\n",
    "# Given values:\n",
    "P = 2172.61 * 24 * 60 * 60  # Convert days to seconds\n",
    "M_sun = 1.989e30  # kg\n",
    "R_sun = 6.96e8  # m\n",
    "M_star = 1.45 * M_sun  # Stellar Mass\n",
    "R_star = 1.591 * R_sun  # Stellar Radius\n",
    "\n",
    "# Assuming a ΔF value (you will need this from your data or analysis):\n",
    "delta_F = 30 # Placeholder\n",
    "\n",
    "a, v, R_planet_over_R_star, alpha = planetary_parameters(P, M_star, R_star, delta_F)\n",
    "\n",
    "print(f\"Orbital Radius: {a} m\")\n",
    "print(f\"Orbital Speed: {v} m/s\")\n",
    "print(f\"Relative Sizes (R_planet/R_star): {R_planet_over_R_star}\")\n",
    "print(f\"Inclination of the Orbit: {alpha} degrees\")\n"
   ]
  },
  {
   "cell_type": "code",
   "execution_count": 60,
   "metadata": {},
   "outputs": [
    {
     "data": {
      "text/plain": [
       "(6.898010572904942e+23, 1.0744564755303647)"
      ]
     },
     "execution_count": 60,
     "metadata": {},
     "output_type": "execute_result"
    }
   ],
   "source": [
    "import numpy as np\n",
    "\n",
    "# Gravitational constant in m^3 kg^-1 s^-2\n",
    "G = 6.67430e-11\n",
    "\n",
    "# Given data\n",
    "T = 98 * 24 * 60 * 60  # Orbital period in seconds\n",
    "r = 440000 * 10**3  # Semi-major axis in meters\n",
    "M_moon = 1.3e22  # Mass of the moon in kg\n",
    "\n",
    "# Using Kepler's Third Law to calculate the combined mass of the planet and moon\n",
    "combined_mass = r**3 * 4 * np.pi**2 / (G * T**2)\n",
    "\n",
    "# Calculating the mass of the planet\n",
    "M_planet = combined_mass - M_moon\n",
    "\n",
    "# Mass of Mars in kg for conversion\n",
    "M_mars = 6.42e23  \n",
    "\n",
    "# Converting the mass of the planet to Mars masses\n",
    "M_planet_in_M_mars = M_planet / M_mars\n",
    "\n",
    "M_planet, M_planet_in_M_mars\n"
   ]
  },
  {
   "cell_type": "code",
   "execution_count": 61,
   "metadata": {},
   "outputs": [
    {
     "data": {
      "text/plain": [
       "6.902541374323757e+23"
      ]
     },
     "execution_count": 61,
     "metadata": {},
     "output_type": "execute_result"
    }
   ],
   "source": [
    "import math\n",
    "\n",
    "# Given values\n",
    "P = 98 * 24 * 60 * 60  # Convert days to seconds\n",
    "a = 4.4e8  # meters\n",
    "G = 6.67e-11  # gravitational constant in N m^2/kg^2\n",
    "M_moon = 1.3e22  # kg\n",
    "\n",
    "# Calculate the mass of the planet\n",
    "M_planet = (4 * math.pi**2 * a**3) / (G * P**2) - M_moon\n",
    "M_planet\n"
   ]
  },
  {
   "cell_type": "code",
   "execution_count": 62,
   "metadata": {},
   "outputs": [
    {
     "data": {
      "text/plain": [
       "1.0756480924909628"
      ]
     },
     "execution_count": 62,
     "metadata": {},
     "output_type": "execute_result"
    }
   ],
   "source": [
    "M_Mars = 0.64171e24  # kg\n",
    "M_planet_in_Mars_masses = M_planet / M_Mars\n",
    "M_planet_in_Mars_masses\n"
   ]
  },
  {
   "cell_type": "code",
   "execution_count": 63,
   "metadata": {},
   "outputs": [
    {
     "data": {
      "text/plain": [
       "300.91960401103967"
      ]
     },
     "execution_count": 63,
     "metadata": {},
     "output_type": "execute_result"
    }
   ],
   "source": [
    "import math\n",
    "\n",
    "# Given values\n",
    "L_star = 0.8  # Luminosity in solar units\n",
    "L_sun = 3.846e26  # Luminosity of the Sun in watts\n",
    "d = 9.6e10  # Distance in meters\n",
    "A = 0.3  # Albedo\n",
    "sigma = 5.67e-8  # Stefan-Boltzmann constant in W/m^2.K^4\n",
    "\n",
    "# Calculate solar constant for the planet\n",
    "S_prime = (L_star * L_sun) / (4 * math.pi * d**2)\n",
    "\n",
    "# Calculate the equilibrium temperature of the planet\n",
    "T_p = (S_prime * (1 - A) / (4 * sigma))**0.25\n",
    "T_p\n"
   ]
  },
  {
   "cell_type": "code",
   "execution_count": 65,
   "metadata": {},
   "outputs": [
    {
     "name": "stdout",
     "output_type": "stream",
     "text": [
      "Escape Temperature for Earth with Nitrogen: 3804.81 K\n",
      "Escape Temperature for Moon with Nitrogen: 171.73 K\n",
      "Escape Temperature for Mars with Nitrogen: 768.35 K\n",
      "-----\n",
      "Escape Temperature for Earth with Helium: 549.71 K\n",
      "Escape Temperature for Moon with Helium: 24.81 K\n",
      "Escape Temperature for Mars with Helium: 111.01 K\n"
     ]
    }
   ],
   "source": [
    "# Constants\n",
    "G = 6.67e-11  # Gravitational constant in Nm^2/kg^2\n",
    "k = 1.4e-23  # Boltzmann's constant in J/K\n",
    "\n",
    "# Molecular masses\n",
    "m_N2 = 4.6e-26  # kg for Nitrogen\n",
    "m_He = 6.646e-27  # kg for Helium\n",
    "\n",
    "# Parameters for Earth, Moon, and Mars\n",
    "M_Earth = 6.0e24  # kg\n",
    "R_Earth = 6.4e6   # m\n",
    "\n",
    "M_Moon = 7.35e22  # kg\n",
    "R_Moon = 1.737e6  # m\n",
    "\n",
    "M_Mars = 0.6417e24  # kg\n",
    "R_Mars = 3.3895e6   # m\n",
    "\n",
    "# Function to compute escape temperature\n",
    "def escape_temperature(M, m, R):\n",
    "    return (G * M * m) / (54 * k * R)\n",
    "\n",
    "# Calculations for each scenario\n",
    "Tesc_Earth_N2 = escape_temperature(M_Earth, m_N2, R_Earth)\n",
    "Tesc_Moon_N2 = escape_temperature(M_Moon, m_N2, R_Moon)\n",
    "Tesc_Mars_N2 = escape_temperature(M_Mars, m_N2, R_Mars)\n",
    "\n",
    "Tesc_Earth_He = escape_temperature(M_Earth, m_He, R_Earth)\n",
    "Tesc_Moon_He = escape_temperature(M_Moon, m_He, R_Moon)\n",
    "Tesc_Mars_He = escape_temperature(M_Mars, m_He, R_Mars)\n",
    "\n",
    "# Print results\n",
    "print(f\"Escape Temperature for Earth with Nitrogen: {Tesc_Earth_N2:.2f} K\")\n",
    "print(f\"Escape Temperature for Moon with Nitrogen: {Tesc_Moon_N2:.2f} K\")\n",
    "print(f\"Escape Temperature for Mars with Nitrogen: {Tesc_Mars_N2:.2f} K\")\n",
    "print(\"-----\")\n",
    "print(f\"Escape Temperature for Earth with Helium: {Tesc_Earth_He:.2f} K\")\n",
    "print(f\"Escape Temperature for Moon with Helium: {Tesc_Moon_He:.2f} K\")\n",
    "print(f\"Escape Temperature for Mars with Helium: {Tesc_Mars_He:.2f} K\")\n"
   ]
  },
  {
   "cell_type": "code",
   "execution_count": null,
   "metadata": {},
   "outputs": [],
   "source": []
  }
 ],
 "metadata": {
  "kernelspec": {
   "display_name": "Python 3 (ipykernel)",
   "language": "python",
   "name": "python3"
  },
  "language_info": {
   "codemirror_mode": {
    "name": "ipython",
    "version": 3
   },
   "file_extension": ".py",
   "mimetype": "text/x-python",
   "name": "python",
   "nbconvert_exporter": "python",
   "pygments_lexer": "ipython3",
   "version": "3.12.0"
  }
 },
 "nbformat": 4,
 "nbformat_minor": 4
}
